{
 "cells": [
  {
   "cell_type": "code",
   "execution_count": 5,
   "metadata": {},
   "outputs": [],
   "source": [
    "import pyodbc\n",
    "import pandas as pd"
   ]
  },
  {
   "cell_type": "code",
   "execution_count": 6,
   "metadata": {},
   "outputs": [
    {
     "data": {
      "text/plain": [
       "<pyodbc.Connection at 0x1d5f7f22180>"
      ]
     },
     "execution_count": 6,
     "metadata": {},
     "output_type": "execute_result"
    }
   ],
   "source": [
    "conn = pyodbc.connect('Driver={SQL Server};'\n",
    "                      'Server=DESKTOP-OQLFA92\\SANGDANG;'\n",
    "                      'Database=STUDENTS;'\n",
    "                      'Trusted_Connection=yes;')\n",
    "conn"
   ]
  },
  {
   "cell_type": "code",
   "execution_count": 7,
   "metadata": {},
   "outputs": [
    {
     "data": {
      "text/html": [
       "<div>\n",
       "<style scoped>\n",
       "    .dataframe tbody tr th:only-of-type {\n",
       "        vertical-align: middle;\n",
       "    }\n",
       "\n",
       "    .dataframe tbody tr th {\n",
       "        vertical-align: top;\n",
       "    }\n",
       "\n",
       "    .dataframe thead th {\n",
       "        text-align: right;\n",
       "    }\n",
       "</style>\n",
       "<table border=\"1\" class=\"dataframe\">\n",
       "  <thead>\n",
       "    <tr style=\"text-align: right;\">\n",
       "      <th></th>\n",
       "      <th>Mã học sinh</th>\n",
       "      <th>Họ tên</th>\n",
       "      <th>Ngày sinh</th>\n",
       "      <th>Giới tính</th>\n",
       "      <th>Quê quán</th>\n",
       "      <th>Toán</th>\n",
       "      <th>Lý</th>\n",
       "      <th>Hóa</th>\n",
       "      <th>Sinh</th>\n",
       "      <th>Văn</th>\n",
       "      <th>Sử</th>\n",
       "      <th>Địa</th>\n",
       "      <th>Tiếng Anh</th>\n",
       "    </tr>\n",
       "  </thead>\n",
       "  <tbody>\n",
       "    <tr>\n",
       "      <th>0</th>\n",
       "      <td>20205210</td>\n",
       "      <td>Nguyễn Đức Bình</td>\n",
       "      <td>3/10/2000</td>\n",
       "      <td>Nam</td>\n",
       "      <td>Hà Nội</td>\n",
       "      <td>7.0</td>\n",
       "      <td>8.0</td>\n",
       "      <td>8.8</td>\n",
       "      <td>6.8</td>\n",
       "      <td>4.0</td>\n",
       "      <td>5.4</td>\n",
       "      <td>5.6</td>\n",
       "      <td>8.5</td>\n",
       "    </tr>\n",
       "    <tr>\n",
       "      <th>1</th>\n",
       "      <td>20205211</td>\n",
       "      <td>Lê Minh Hoàng</td>\n",
       "      <td>2/11/2001</td>\n",
       "      <td>Nam</td>\n",
       "      <td>Quảng Bình</td>\n",
       "      <td>5.6</td>\n",
       "      <td>7.7</td>\n",
       "      <td>6.0</td>\n",
       "      <td>7.0</td>\n",
       "      <td>6.5</td>\n",
       "      <td>6.0</td>\n",
       "      <td>3.4</td>\n",
       "      <td>9.0</td>\n",
       "    </tr>\n",
       "    <tr>\n",
       "      <th>2</th>\n",
       "      <td>20205212</td>\n",
       "      <td>Trần Trang Nhung</td>\n",
       "      <td>7/5/2002</td>\n",
       "      <td>Nữ</td>\n",
       "      <td>Hà Nam</td>\n",
       "      <td>4.2</td>\n",
       "      <td>6.5</td>\n",
       "      <td>5.4</td>\n",
       "      <td>8.0</td>\n",
       "      <td>7.0</td>\n",
       "      <td>7.5</td>\n",
       "      <td>4.3</td>\n",
       "      <td>5.5</td>\n",
       "    </tr>\n",
       "    <tr>\n",
       "      <th>3</th>\n",
       "      <td>20205213</td>\n",
       "      <td>Nguyễn Thị Linh</td>\n",
       "      <td>12/17/2000</td>\n",
       "      <td>Nữ</td>\n",
       "      <td>Bắc Ninh</td>\n",
       "      <td>8.0</td>\n",
       "      <td>5.6</td>\n",
       "      <td>6.5</td>\n",
       "      <td>7.0</td>\n",
       "      <td>7.5</td>\n",
       "      <td>6.5</td>\n",
       "      <td>5.6</td>\n",
       "      <td>6.0</td>\n",
       "    </tr>\n",
       "    <tr>\n",
       "      <th>4</th>\n",
       "      <td>20205214</td>\n",
       "      <td>Đặng Ngọc Sơn</td>\n",
       "      <td>1/25/2000</td>\n",
       "      <td>Nam</td>\n",
       "      <td>Thái Bình</td>\n",
       "      <td>9.3</td>\n",
       "      <td>5.8</td>\n",
       "      <td>7.5</td>\n",
       "      <td>4.5</td>\n",
       "      <td>6.5</td>\n",
       "      <td>4.5</td>\n",
       "      <td>7.8</td>\n",
       "      <td>3.8</td>\n",
       "    </tr>\n",
       "  </tbody>\n",
       "</table>\n",
       "</div>"
      ],
      "text/plain": [
       "   Mã học sinh            Họ tên   Ngày sinh Giới tính    Quê quán  Toán   Lý  \\\n",
       "0     20205210   Nguyễn Đức Bình   3/10/2000       Nam      Hà Nội   7.0  8.0   \n",
       "1     20205211     Lê Minh Hoàng   2/11/2001       Nam  Quảng Bình   5.6  7.7   \n",
       "2     20205212  Trần Trang Nhung    7/5/2002        Nữ      Hà Nam   4.2  6.5   \n",
       "3     20205213   Nguyễn Thị Linh  12/17/2000        Nữ    Bắc Ninh   8.0  5.6   \n",
       "4     20205214     Đặng Ngọc Sơn   1/25/2000       Nam   Thái Bình   9.3  5.8   \n",
       "\n",
       "   Hóa  Sinh  Văn   Sử  Địa  Tiếng Anh  \n",
       "0  8.8   6.8  4.0  5.4  5.6        8.5  \n",
       "1  6.0   7.0  6.5  6.0  3.4        9.0  \n",
       "2  5.4   8.0  7.0  7.5  4.3        5.5  \n",
       "3  6.5   7.0  7.5  6.5  5.6        6.0  \n",
       "4  7.5   4.5  6.5  4.5  7.8        3.8  "
      ]
     },
     "execution_count": 7,
     "metadata": {},
     "output_type": "execute_result"
    }
   ],
   "source": [
    "df = pd.read_csv('Data/students1.csv')\n",
    "df.head()"
   ]
  },
  {
   "cell_type": "code",
   "execution_count": 8,
   "metadata": {},
   "outputs": [
    {
     "name": "stdout",
     "output_type": "stream",
     "text": [
      "('23000', \"[23000] [Microsoft][ODBC SQL Server Driver][SQL Server]Violation of PRIMARY KEY constraint 'PK__STUDENTS__C1C16416C1CA6298'. Cannot insert duplicate key in object 'dbo.STUDENTS'. The duplicate key value is (20205210). (2627) (SQLExecDirectW); [23000] [Microsoft][ODBC SQL Server Driver][SQL Server]The statement has been terminated. (3621)\")\n",
      "('23000', \"[23000] [Microsoft][ODBC SQL Server Driver][SQL Server]Violation of PRIMARY KEY constraint 'PK__STUDENTS__C1C16416C1CA6298'. Cannot insert duplicate key in object 'dbo.STUDENTS'. The duplicate key value is (20205211). (2627) (SQLExecDirectW); [23000] [Microsoft][ODBC SQL Server Driver][SQL Server]The statement has been terminated. (3621)\")\n",
      "('23000', \"[23000] [Microsoft][ODBC SQL Server Driver][SQL Server]Violation of PRIMARY KEY constraint 'PK__STUDENTS__C1C16416C1CA6298'. Cannot insert duplicate key in object 'dbo.STUDENTS'. The duplicate key value is (20205212). (2627) (SQLExecDirectW); [23000] [Microsoft][ODBC SQL Server Driver][SQL Server]The statement has been terminated. (3621)\")\n",
      "('23000', \"[23000] [Microsoft][ODBC SQL Server Driver][SQL Server]Violation of PRIMARY KEY constraint 'PK__STUDENTS__C1C16416C1CA6298'. Cannot insert duplicate key in object 'dbo.STUDENTS'. The duplicate key value is (20205213). (2627) (SQLExecDirectW); [23000] [Microsoft][ODBC SQL Server Driver][SQL Server]The statement has been terminated. (3621)\")\n",
      "('23000', \"[23000] [Microsoft][ODBC SQL Server Driver][SQL Server]Violation of PRIMARY KEY constraint 'PK__STUDENTS__C1C16416C1CA6298'. Cannot insert duplicate key in object 'dbo.STUDENTS'. The duplicate key value is (20205214). (2627) (SQLExecDirectW); [23000] [Microsoft][ODBC SQL Server Driver][SQL Server]The statement has been terminated. (3621)\")\n",
      "('23000', \"[23000] [Microsoft][ODBC SQL Server Driver][SQL Server]Violation of PRIMARY KEY constraint 'PK__STUDENTS__C1C16416C1CA6298'. Cannot insert duplicate key in object 'dbo.STUDENTS'. The duplicate key value is (20205215). (2627) (SQLExecDirectW); [23000] [Microsoft][ODBC SQL Server Driver][SQL Server]The statement has been terminated. (3621)\")\n",
      "('23000', \"[23000] [Microsoft][ODBC SQL Server Driver][SQL Server]Violation of PRIMARY KEY constraint 'PK__STUDENTS__C1C16416C1CA6298'. Cannot insert duplicate key in object 'dbo.STUDENTS'. The duplicate key value is (20205216). (2627) (SQLExecDirectW); [23000] [Microsoft][ODBC SQL Server Driver][SQL Server]The statement has been terminated. (3621)\")\n",
      "('23000', \"[23000] [Microsoft][ODBC SQL Server Driver][SQL Server]Violation of PRIMARY KEY constraint 'PK__STUDENTS__C1C16416C1CA6298'. Cannot insert duplicate key in object 'dbo.STUDENTS'. The duplicate key value is (20205217). (2627) (SQLExecDirectW); [23000] [Microsoft][ODBC SQL Server Driver][SQL Server]The statement has been terminated. (3621)\")\n",
      "('23000', \"[23000] [Microsoft][ODBC SQL Server Driver][SQL Server]Violation of PRIMARY KEY constraint 'PK__STUDENTS__C1C16416C1CA6298'. Cannot insert duplicate key in object 'dbo.STUDENTS'. The duplicate key value is (20205218). (2627) (SQLExecDirectW); [23000] [Microsoft][ODBC SQL Server Driver][SQL Server]The statement has been terminated. (3621)\")\n",
      "('23000', \"[23000] [Microsoft][ODBC SQL Server Driver][SQL Server]Violation of PRIMARY KEY constraint 'PK__STUDENTS__C1C16416C1CA6298'. Cannot insert duplicate key in object 'dbo.STUDENTS'. The duplicate key value is (20205219). (2627) (SQLExecDirectW); [23000] [Microsoft][ODBC SQL Server Driver][SQL Server]The statement has been terminated. (3621)\")\n",
      "('23000', \"[23000] [Microsoft][ODBC SQL Server Driver][SQL Server]Violation of PRIMARY KEY constraint 'PK__STUDENTS__C1C16416C1CA6298'. Cannot insert duplicate key in object 'dbo.STUDENTS'. The duplicate key value is (20205220). (2627) (SQLExecDirectW); [23000] [Microsoft][ODBC SQL Server Driver][SQL Server]The statement has been terminated. (3621)\")\n",
      "('23000', \"[23000] [Microsoft][ODBC SQL Server Driver][SQL Server]Violation of PRIMARY KEY constraint 'PK__STUDENTS__C1C16416C1CA6298'. Cannot insert duplicate key in object 'dbo.STUDENTS'. The duplicate key value is (20205221). (2627) (SQLExecDirectW); [23000] [Microsoft][ODBC SQL Server Driver][SQL Server]The statement has been terminated. (3621)\")\n",
      "('23000', \"[23000] [Microsoft][ODBC SQL Server Driver][SQL Server]Violation of PRIMARY KEY constraint 'PK__STUDENTS__C1C16416C1CA6298'. Cannot insert duplicate key in object 'dbo.STUDENTS'. The duplicate key value is (20205222). (2627) (SQLExecDirectW); [23000] [Microsoft][ODBC SQL Server Driver][SQL Server]The statement has been terminated. (3621)\")\n",
      "('23000', \"[23000] [Microsoft][ODBC SQL Server Driver][SQL Server]Violation of PRIMARY KEY constraint 'PK__STUDENTS__C1C16416C1CA6298'. Cannot insert duplicate key in object 'dbo.STUDENTS'. The duplicate key value is (20205223). (2627) (SQLExecDirectW); [23000] [Microsoft][ODBC SQL Server Driver][SQL Server]The statement has been terminated. (3621)\")\n",
      "('23000', \"[23000] [Microsoft][ODBC SQL Server Driver][SQL Server]Violation of PRIMARY KEY constraint 'PK__STUDENTS__C1C16416C1CA6298'. Cannot insert duplicate key in object 'dbo.STUDENTS'. The duplicate key value is (20205224). (2627) (SQLExecDirectW); [23000] [Microsoft][ODBC SQL Server Driver][SQL Server]The statement has been terminated. (3621)\")\n",
      "('23000', \"[23000] [Microsoft][ODBC SQL Server Driver][SQL Server]Violation of PRIMARY KEY constraint 'PK__STUDENTS__C1C16416C1CA6298'. Cannot insert duplicate key in object 'dbo.STUDENTS'. The duplicate key value is (20205225). (2627) (SQLExecDirectW); [23000] [Microsoft][ODBC SQL Server Driver][SQL Server]The statement has been terminated. (3621)\")\n",
      "('23000', \"[23000] [Microsoft][ODBC SQL Server Driver][SQL Server]Violation of PRIMARY KEY constraint 'PK__STUDENTS__C1C16416C1CA6298'. Cannot insert duplicate key in object 'dbo.STUDENTS'. The duplicate key value is (20205226). (2627) (SQLExecDirectW); [23000] [Microsoft][ODBC SQL Server Driver][SQL Server]The statement has been terminated. (3621)\")\n",
      "('23000', \"[23000] [Microsoft][ODBC SQL Server Driver][SQL Server]Violation of PRIMARY KEY constraint 'PK__STUDENTS__C1C16416C1CA6298'. Cannot insert duplicate key in object 'dbo.STUDENTS'. The duplicate key value is (20205227). (2627) (SQLExecDirectW); [23000] [Microsoft][ODBC SQL Server Driver][SQL Server]The statement has been terminated. (3621)\")\n",
      "('23000', \"[23000] [Microsoft][ODBC SQL Server Driver][SQL Server]Violation of PRIMARY KEY constraint 'PK__STUDENTS__C1C16416C1CA6298'. Cannot insert duplicate key in object 'dbo.STUDENTS'. The duplicate key value is (20205228). (2627) (SQLExecDirectW); [23000] [Microsoft][ODBC SQL Server Driver][SQL Server]The statement has been terminated. (3621)\")\n",
      "('23000', \"[23000] [Microsoft][ODBC SQL Server Driver][SQL Server]Violation of PRIMARY KEY constraint 'PK__STUDENTS__C1C16416C1CA6298'. Cannot insert duplicate key in object 'dbo.STUDENTS'. The duplicate key value is (20205229). (2627) (SQLExecDirectW); [23000] [Microsoft][ODBC SQL Server Driver][SQL Server]The statement has been terminated. (3621)\")\n",
      "('23000', \"[23000] [Microsoft][ODBC SQL Server Driver][SQL Server]Violation of PRIMARY KEY constraint 'PK__STUDENTS__C1C16416C1CA6298'. Cannot insert duplicate key in object 'dbo.STUDENTS'. The duplicate key value is (20205230). (2627) (SQLExecDirectW); [23000] [Microsoft][ODBC SQL Server Driver][SQL Server]The statement has been terminated. (3621)\")\n"
     ]
    }
   ],
   "source": [
    "cursor = conn.cursor()\n",
    "for i in df.index:\n",
    "    gioitinh = 0 if df.iloc[i]['Giới tính'] == 'Nam' else 1\n",
    "    try:\n",
    "        query = r'INSERT [dbo].[STUDENTS] ([Mã học sinh], [Họ tên],[Ngày sinh],[Giới tính],[Quê quán],[Toán],[Lý],[Hóa],[Sinh],[Văn],[Sử],[Địa],[Tiếng Anh])'+\\\n",
    "                f\"VALUES ({df.iloc[i]['Mã học sinh']},N'{df.iloc[i]['Họ tên']}','{df.iloc[i]['Ngày sinh']}',{gioitinh},N'{df.iloc[i]['Quê quán']}',{df.iloc[i]['Toán']},{df.iloc[i]['Lý']},{df.iloc[i]['Hóa']},{df.iloc[i]['Sinh']},{df.iloc[i]['Văn']},{df.iloc[i]['Sử']},{df.iloc[i]['Địa']},{df.iloc[i]['Tiếng Anh']})\"\n",
    "        cursor.execute(query)\n",
    "    except Exception as e:\n",
    "        print(e)\n",
    "cursor.commit()\n",
    "conn.close()\n"
   ]
  }
 ],
 "metadata": {
  "kernelspec": {
   "display_name": "Python 3",
   "language": "python",
   "name": "python3"
  },
  "language_info": {
   "codemirror_mode": {
    "name": "ipython",
    "version": 3
   },
   "file_extension": ".py",
   "mimetype": "text/x-python",
   "name": "python",
   "nbconvert_exporter": "python",
   "pygments_lexer": "ipython3",
   "version": "3.10.8 (tags/v3.10.8:aaaf517, Oct 11 2022, 16:50:30) [MSC v.1933 64 bit (AMD64)]"
  },
  "orig_nbformat": 4,
  "vscode": {
   "interpreter": {
    "hash": "69bdb29fa5b284b7c766c6014f8dd1955f741bad82f646884d6bfd8516008893"
   }
  }
 },
 "nbformat": 4,
 "nbformat_minor": 2
}
