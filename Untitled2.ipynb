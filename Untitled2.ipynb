{
 "cells": [
  {
   "cell_type": "code",
   "execution_count": null,
   "id": "062c0c43",
   "metadata": {},
   "outputs": [],
   "source": [
    "from tkinter import *\n",
    "\n",
    "window = Tk()\n",
    "window.title(\"Calculator\")\n",
    "window.geometry(\"250x400\")\n",
    "\n",
    "highlightcolor = 'lightblue'\n",
    "\n",
    "et_number1 = Label(window,relief=RAISED, anchor=\"se\", text='0',font=(textfont, 16))\n",
    "et_number1.grid(row=0,column=0,columnspan=5,padx=10,pady=10,sticky=NSEW)"
   ]
  }
 ],
 "metadata": {
  "kernelspec": {
   "display_name": "Python 3",
   "language": "python",
   "name": "python3"
  },
  "language_info": {
   "codemirror_mode": {
    "name": "ipython",
    "version": 3
   },
   "file_extension": ".py",
   "mimetype": "text/x-python",
   "name": "python",
   "nbconvert_exporter": "python",
   "pygments_lexer": "ipython3",
   "version": "3.8.8"
  }
 },
 "nbformat": 4,
 "nbformat_minor": 5
}
