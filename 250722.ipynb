{
 "cells": [
  {
   "cell_type": "code",
   "execution_count": null,
   "id": "199e2a6f",
   "metadata": {},
   "outputs": [],
   "source": [
    "#len trả về độ dài chuỗi: len(string)\n",
    "\n",
    "#count trả về số lần xuất hiện của chuỗi con trong chuỗi: string.count('char',start,end)\n",
    "\n",
    "#lower, upper trả về chuỗi gồm các ký tự thường hoặc hoa tương ứng: string.lower()\n",
    "\n",
    "#lstrip xóa toàn bộ kí tự trắng phía trước chuỗi string.lstrip()\n",
    "\n",
    "#rstrip xóa toàn bộ kí tự trắng phía sau chuỗi string.rstrip()\n",
    "\n",
    "#strip xóa toàn bộ kí tự trắng phía trước và sau chuỗi string.strip()\n",
    "\n",
    "#split Chia chuỗi thành nhiều chuỗi nhỏ string.split('char')\n"
   ]
  },
  {
   "cell_type": "code",
   "execution_count": 13,
   "id": "8e9f5401",
   "metadata": {},
   "outputs": [
    {
     "name": "stdout",
     "output_type": "stream",
     "text": [
      "True\n",
      "27\n",
      "0\n"
     ]
    }
   ],
   "source": [
    "#Nhập vào 1 chuỗi.\n",
    "#Kiểm tra chuỗi đó có chứa kí tự nguyên âm hay không?\n",
    "#Đếm xem trong chuỗi vừa nhập có bao nhiêu nguyên âm. ('ueoai')\n",
    "#Có bao nhiêu kí tự là chữ số.\n",
    "\n",
    "text = \"De xuat cac bai hoc moi dung voi nang luc hoc cua con, giup con tien bo vuot bac.\"\n",
    "text = text.lower()\n",
    "\n",
    "check = (\"u\" in text) or (\"e\" in text) or (\"o\" in text) or (\"a\" in text) or (\"i\" in text) \n",
    "print(check)\n",
    "\n",
    "Countcheck = text.count('u',0,-1)+text.count('e',0,-1)+text.count('o',0,-1)+text.count('a',0,-1)+text.count('i',0,-1)\n",
    "print(Countcheck)\n",
    "\n",
    "CountNumber = text.count('0',0,-1)+text.count('1',0,-1)+text.count('2',0,-1)+text.count('3',0,-1)+text.count('4',0,-1)+text.count('5',0,-1)+text.count('6',0,-1)+text.count('7',0,-1)+text.count('8',0,-1)+text.count('9',0,-1)\n",
    "print(CountNumber)"
   ]
  },
  {
   "cell_type": "code",
   "execution_count": null,
   "id": "7f30bc6b",
   "metadata": {},
   "outputs": [],
   "source": []
  }
 ],
 "metadata": {
  "kernelspec": {
   "display_name": "Python 3",
   "language": "python",
   "name": "python3"
  },
  "language_info": {
   "codemirror_mode": {
    "name": "ipython",
    "version": 3
   },
   "file_extension": ".py",
   "mimetype": "text/x-python",
   "name": "python",
   "nbconvert_exporter": "python",
   "pygments_lexer": "ipython3",
   "version": "3.8.8"
  }
 },
 "nbformat": 4,
 "nbformat_minor": 5
}
