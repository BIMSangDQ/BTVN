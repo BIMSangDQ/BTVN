{
 "cells": [
  {
   "cell_type": "code",
   "execution_count": 16,
   "id": "d5323aa4",
   "metadata": {},
   "outputs": [
    {
     "name": "stdout",
     "output_type": "stream",
     "text": [
      "Nhập số n:5\n",
      "Giai thừa của số đã nhập: 120\n"
     ]
    }
   ],
   "source": [
    "#Tính giai thừa của số n\n",
    "n= int(input(\"Nhập số n: \"))\n",
    "\n",
    "Giaithua=1\n",
    "i=2\n",
    "while i <= n:\n",
    "    Giaithua = Giaithua*i\n",
    "    i+=1\n",
    "    \n",
    "print('Giai thừa của số đã nhập:',Giaithua)"
   ]
  },
  {
   "cell_type": "code",
   "execution_count": 25,
   "id": "a922649c",
   "metadata": {},
   "outputs": [
    {
     "name": "stdout",
     "output_type": "stream",
     "text": [
      "Nhập số n: 91\n",
      "1\n",
      "7\n",
      "13\n",
      "91\n"
     ]
    }
   ],
   "source": [
    "#Nhập vào một số n.\n",
    "#in ra tất cả các số là ước của n\n",
    "\n",
    "n= int(input(\"Nhập số n: \"))\n",
    "i=1\n",
    "while i <= n:\n",
    "    if (n%i==0):\n",
    "        print(i)\n",
    "    i+=1\n",
    "        "
   ]
  },
  {
   "cell_type": "code",
   "execution_count": 24,
   "id": "69b6c83c",
   "metadata": {},
   "outputs": [
    {
     "name": "stdout",
     "output_type": "stream",
     "text": [
      "Nhập số n: 9\n",
      "n không phải là số nguyên tố\n"
     ]
    }
   ],
   "source": [
    "#Nhập vào một số n.\n",
    "#Kiểm tra số n có phải là số nguyên tố hay ko?\n",
    "n= int(input(\"Nhập số n: \"))\n",
    "i=2\n",
    "SoNguyenTo = True\n",
    "while i < n:\n",
    "    if n%i==0:\n",
    "        SoNguyenTo = False\n",
    "        i+=n\n",
    "    i+=1\n",
    "    \n",
    "if SoNguyenTo == True:\n",
    "    print(\"n là số nguyên tố\")\n",
    "else:\n",
    "    print(\"n không phải là số nguyên tố\")"
   ]
  },
  {
   "cell_type": "code",
   "execution_count": null,
   "id": "ef3c1ec3",
   "metadata": {},
   "outputs": [],
   "source": []
  }
 ],
 "metadata": {
  "kernelspec": {
   "display_name": "Python 3",
   "language": "python",
   "name": "python3"
  },
  "language_info": {
   "codemirror_mode": {
    "name": "ipython",
    "version": 3
   },
   "file_extension": ".py",
   "mimetype": "text/x-python",
   "name": "python",
   "nbconvert_exporter": "python",
   "pygments_lexer": "ipython3",
   "version": "3.8.8"
  }
 },
 "nbformat": 4,
 "nbformat_minor": 5
}
