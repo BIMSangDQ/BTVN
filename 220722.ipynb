{
 "cells": [
  {
   "cell_type": "code",
   "execution_count": null,
   "id": "50aeb76c",
   "metadata": {},
   "outputs": [],
   "source": [
    "#nhập chiều dài 3 cạnh\n",
    "#vẽ tam giác\n",
    "import math\n",
    "\n",
    "ab = float(input(\"Nhập ab= \"))\n",
    "bc = float(input(\"Nhập bc= \"))\n",
    "ca = float(input(\"Nhập ca= \"))\n",
    "\n",
    "tamgiac = (ab+ca>bc) and (bc+ca>ab)\n",
    "print(tamgiac)\n",
    "\n",
    "cosA = (bc**2 + ca**2 - ab**2)/(2*bc*ca)\n",
    "gA = math.degrees(math.acos(cosA))\n",
    "\n",
    "import turtle\n",
    "t=turtle.Turtle()\n",
    "t.shape('turtle')\n",
    "\n",
    "t.forward(ab)\n",
    "t.left(180-gA)\n",
    "t.forward(bc)\n",
    "t.goto(0,0)\n",
    "\n",
    "t.hideturtle()\n",
    "turtle.done()"
   ]
  },
  {
   "cell_type": "code",
   "execution_count": null,
   "id": "7f461161",
   "metadata": {},
   "outputs": [],
   "source": [
    "#"
   ]
  },
  {
   "cell_type": "code",
   "execution_count": null,
   "id": "0f34fa0a",
   "metadata": {},
   "outputs": [],
   "source": []
  }
 ],
 "metadata": {
  "kernelspec": {
   "display_name": "Python 3",
   "language": "python",
   "name": "python3"
  },
  "language_info": {
   "codemirror_mode": {
    "name": "ipython",
    "version": 3
   },
   "file_extension": ".py",
   "mimetype": "text/x-python",
   "name": "python",
   "nbconvert_exporter": "python",
   "pygments_lexer": "ipython3",
   "version": "3.8.8"
  }
 },
 "nbformat": 4,
 "nbformat_minor": 5
}
