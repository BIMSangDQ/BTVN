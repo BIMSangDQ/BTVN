{
 "cells": [
  {
   "cell_type": "code",
   "execution_count": 1,
   "id": "0a5cd183",
   "metadata": {},
   "outputs": [
    {
     "name": "stdout",
     "output_type": "stream",
     "text": [
      "Nhập số thứ nhất: 60\n",
      "Nhập số thứ hai: 40\n",
      "['1', '2', '3', '4', '5', '6', '10', '12', '15', '20', '30']\n",
      "['1', '2', '4', '5', '8', '10', '20']\n",
      "Ước chung lớn nhất của 2 số 60 và 40 là 20\n"
     ]
    }
   ],
   "source": [
    "A = int(input(\"Nhập số thứ nhất: \"))\n",
    "B = int(input(\"Nhập số thứ hai: \"))\n",
    "\n",
    "Uoc_A = \"\"\n",
    "Uoc_B = \"\"\n",
    "\n",
    "i=1\n",
    "while i <= A/2:\n",
    "    if A%i==0:\n",
    "        Uoc_A = Uoc_A + f\"{i} \"\n",
    "    i+=1\n",
    "Uoc_A = Uoc_A.split()\n",
    "\n",
    "i=1\n",
    "while i <= B/2:\n",
    "    if B%i==0:\n",
    "        Uoc_B =Uoc_B+ f\"{i} \"\n",
    "    i+=1\n",
    "Uoc_B = Uoc_B.split()\n",
    "\n",
    "print(Uoc_A)\n",
    "print(Uoc_B)\n",
    "\n",
    "i=0\n",
    "\n",
    "UC = \"\"\n",
    "while i< len(Uoc_A):\n",
    "    j=0\n",
    "    while j< len(Uoc_B):\n",
    "        if int(Uoc_A[i])==int(Uoc_B[j]):\n",
    "            UC = UC+ f\"{Uoc_A[i]} \"\n",
    "            break\n",
    "        j+=1\n",
    "    i+=1\n",
    "UC = UC.split()\n",
    "print(f'Ước chung lớn nhất của 2 số {A} và {B} là {UC[-1]}')"
   ]
  },
  {
   "cell_type": "code",
   "execution_count": 2,
   "id": "527ee3c8",
   "metadata": {},
   "outputs": [
    {
     "name": "stdout",
     "output_type": "stream",
     "text": [
      "n     a                    b                    x                    fx                   delta               \n",
      "0     -1                   1                    0.0                  1.0                  2                   \n",
      "1     -1                   0.0                  -0.5                 0.1271051            1.0                 \n",
      "2     -1                   -0.5                 -0.75                -0.2092722           0.5                 \n",
      "3     -0.75                -0.5                 -0.625               -0.0498358           0.25                \n",
      "4     -0.625               -0.5                 -0.5625              0.0364802            0.125               \n",
      "5     -0.625               -0.5625              -0.59375             -0.0072207           0.0625              \n",
      "6     -0.59375             -0.5625              -0.578125            0.0144946            0.03125             \n",
      "7     -0.59375             -0.578125            -0.5859375           0.0036031            0.015625            \n",
      "8     -0.59375             -0.5859375           -0.58984375          -0.0018173           0.0078125           \n",
      "9     -0.58984375          -0.5859375           -0.587890625         0.0008908            0.00390625          \n",
      "10    -0.58984375          -0.587890625         -0.5888671875        -0.0004638           0.001953125         \n",
      "11    -0.5888671875        -0.587890625         -0.58837890625       0.0002134            0.0009765625        \n",
      "12    -0.5888671875        -0.58837890625       -0.588623046875      -0.0001252           0.00048828125       \n",
      "13    -0.588623046875      -0.58837890625       -0.5885009765625     4.41e-05             0.000244140625      \n",
      "14    -0.588623046875      -0.5885009765625     -0.58856201171875    -4.06e-05            0.0001220703125     \n",
      "15    -0.58856201171875    -0.5885009765625     -0.588531494140625   1.7e-06              6.103515625e-05     \n",
      "16    -0.58856201171875    -0.588531494140625   -0.5885467529296875  -1.94e-05            3.0517578125e-05    \n",
      "17    -0.5885467529296875  -0.588531494140625   -0.5885391235351562  -8.8e-06             1.52587890625e-05   \n",
      "18    -0.5885391235351562  -0.588531494140625   -0.5885353088378906  -3.6e-06             7.62939453125e-06   \n",
      "Nghiệm gần đúng của phương trình trên là x= -0.5885353088378906\n"
     ]
    }
   ],
   "source": [
    "import math\n",
    "\n",
    "def fx(x):\n",
    "    return (math.e)**x + math.sin(x)\n",
    "                            \n",
    "a=-1\n",
    "b=1\n",
    "alpha = 0.00001\n",
    "delta = 2\n",
    "x = (a+b)/2\n",
    "\n",
    "#Header\n",
    "print(\"n\".ljust(5),\"a\".ljust(20),\"b\".ljust(20),\"x\".ljust(20),\"fx\".ljust(20),\"delta\".ljust(20), end = \"\\n\")\n",
    "n=0\n",
    "\n",
    "while delta>alpha:\n",
    "    x = (a+b)/2\n",
    "    delta = abs(a-b)\n",
    "    print(f\"{n}\".ljust(5),f\"{a}\".ljust(20),f\"{b}\".ljust(20),f\"{x}\".ljust(20)\\\n",
    "          ,f\"{round(fx(x),7)}\".ljust(20),f\"{delta}\".ljust(20),end='\\n')\n",
    "    \n",
    "#     print(fx(a)*fx(x))\n",
    "#     print(fx(b)*fx(x))\n",
    "    if fx(a)*fx(x) <0:\n",
    "        a=a\n",
    "        b=x\n",
    "    elif fx(b)*fx(x) <0:\n",
    "        a=x\n",
    "        b=b\n",
    "    n+=1\n",
    "\n",
    "\n",
    "print(f\"Nghiệm gần đúng của phương trình trên là x= {x}\")"
   ]
  },
  {
   "cell_type": "code",
   "execution_count": null,
   "id": "65c3b2dc",
   "metadata": {},
   "outputs": [],
   "source": []
  }
 ],
 "metadata": {
  "kernelspec": {
   "display_name": "Python 3",
   "language": "python",
   "name": "python3"
  },
  "language_info": {
   "codemirror_mode": {
    "name": "ipython",
    "version": 3
   },
   "file_extension": ".py",
   "mimetype": "text/x-python",
   "name": "python",
   "nbconvert_exporter": "python",
   "pygments_lexer": "ipython3",
   "version": "3.8.8"
  }
 },
 "nbformat": 4,
 "nbformat_minor": 5
}
