{
 "cells": [
  {
   "cell_type": "code",
   "execution_count": 1,
   "id": "2f721b8e",
   "metadata": {},
   "outputs": [
    {
     "name": "stdout",
     "output_type": "stream",
     "text": [
      "Nhập tên:Sang DANG  Quang\n",
      "Sang Dang Quang\n"
     ]
    }
   ],
   "source": [
    "textInput = input(\"Nhập tên:\")\n",
    "\n",
    "textInput = \" \".join(textInput.lower().strip().title().split())\n",
    "\n",
    "print(textInput)"
   ]
  },
  {
   "cell_type": "code",
   "execution_count": null,
   "id": "ec6da134",
   "metadata": {},
   "outputs": [],
   "source": [
    "textInput = input(\"Nhập chuỗi bất kì:\")\n",
    "\n",
    "sum_EvenNumber = 2*textInput.count('2') + 4*textInput.count('4') + 6*textInput.count('6') + 8*textInput.count('8')\n",
    "print(f'Tổng các số chẵn: {sum_EvenNumber}')\n",
    "\n",
    "sum_OddNumber = 1*textInput.count('1') + 3*textInput.count('3') + 5*textInput.count('5') + 7*textInput.count('7')\\\n",
    "    + 9*textInput.count('9')\n",
    "print(f'Tổng các số lẻ: {sum_OddNumber}')"
   ]
  }
 ],
 "metadata": {
  "kernelspec": {
   "display_name": "Python 3",
   "language": "python",
   "name": "python3"
  },
  "language_info": {
   "codemirror_mode": {
    "name": "ipython",
    "version": 3
   },
   "file_extension": ".py",
   "mimetype": "text/x-python",
   "name": "python",
   "nbconvert_exporter": "python",
   "pygments_lexer": "ipython3",
   "version": "3.8.8"
  }
 },
 "nbformat": 4,
 "nbformat_minor": 5
}
