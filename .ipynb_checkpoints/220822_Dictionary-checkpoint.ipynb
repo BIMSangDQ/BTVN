{
 "cells": [
  {
   "cell_type": "code",
   "execution_count": null,
   "id": "5f83bf48",
   "metadata": {},
   "outputs": [],
   "source": [
    "fruits = {'Apple':'Red','Mango':'Yellow','Banana':'Yellow'}\n",
    "print(fruits)\n"
   ]
  },
  {
   "cell_type": "code",
   "execution_count": null,
   "id": "c72714ac",
   "metadata": {},
   "outputs": [],
   "source": [
    "fruits = {'Apple':'Red','Mango':'Yellow','Banana':'Yellow'}\n",
    "\n",
    "#Truy xuất phần tử\n",
    "#Cách 1: Thông qua keys\n",
    "for key in fruits.keys():\n",
    "    print(f'Key = {key}, value = {fruits[key]}')\n",
    "print()\n",
    "\n",
    "#Cách 2: Thông qua items\n",
    "for key,val in fruits.items():\n",
    "    print(f'Key = {key}, value = {val}')\n",
    "print()\n",
    "\n",
    "#Thêm phần tử, Nếu Key đã tồn tại thì update phần tử\n",
    "fruits['Lemon'] = \"Green or Yellow\"\n",
    "for key,val in fruits.items():\n",
    "    print(f'Key = {key}, value = {val}')\n",
    "print()\n",
    "\n",
    "#Xóa phần tử \n",
    "del fruits['Apple']\n",
    "for key,val in fruits.items():\n",
    "    print(f'Key = {key}, value = {val}')\n",
    "    \n",
    "help(fruits.update)"
   ]
  },
  {
   "cell_type": "code",
   "execution_count": 86,
   "id": "b7acfa61",
   "metadata": {},
   "outputs": [
    {
     "name": "stdout",
     "output_type": "stream",
     "text": [
      "Họ và tên            Toán       Lý         Hóa        Điểm trung bình      Xếp loại\n",
      "=====================================================================================\n",
      "Lê Minh Hoàng        10         10         9          9.67                 Giỏi\n",
      "Trần Văn Hà          6          5          7          6.0                  Trung bình\n",
      "Lê Minh Hùng         10         7.5        9          8.83                 Giỏi\n",
      "\n",
      "Họ và tên            Toán       Lý         Hóa        Điểm trung bình      Xếp loại\n",
      "=====================================================================================\n",
      "Lê Minh Hoàng        10         10         9          9.67                 Giỏi\n",
      "Trần Văn Hà          6          5          7          6.0                  Trung bình\n",
      "Lê Minh Hùng         10         7.5        9          8.83                 Giỏi\n",
      "\n",
      "Họ và tên            Toán       Lý         Hóa        Điểm trung bình      Xếp loại\n",
      "=====================================================================================\n",
      "Lê Minh Hoàng        10         10         9          9.67                 Giỏi\n",
      "Trần Văn Hà          6          5          7          6.0                  Trung bình\n",
      "Lê Minh Hùng         10         7.5        9          8.83                 Giỏi\n"
     ]
    }
   ],
   "source": [
    "student_list = {('Lê Minh Hoàng',23,'Hà Nội'):[10,10,9],\n",
    "               ('Trần Văn Hà',25,'Hà Nội'):[6,5,7],\n",
    "               ('Lê Minh Hùng',24,'Hà Nội'):[10,7.5,9]}\n",
    "\n",
    "#In ra danh sách sinh viên + điểm\n",
    "#Tính toán và hiển thị danh sách nhưng thêm 2 cột điểm trung bình + xếp loại\n",
    "\n",
    "def printdic(student_list):\n",
    "    print(\"Họ và tên\".ljust(20),\"Toán\".ljust(10),\"Lý\".ljust(10),\"Hóa\".ljust(10),\\\n",
    "     \"Điểm trung bình\".ljust(20),\"Xếp loại\")\n",
    "    print(\"\".ljust(85,'='))        \n",
    "    for key,value in student_list.items(): \n",
    "        print(key[0].ljust(20),\\\n",
    "               str(value[0]).ljust(10),\\\n",
    "               str(value[1]).ljust(10),\\\n",
    "               str(value[2]).ljust(10),\\\n",
    "               str(value[3]).ljust(20),\n",
    "               value[4])\n",
    "        \n",
    "_average = lambda x,y,z: round((x+y+z)/3,2)\n",
    "\n",
    "for key,_value in student_list.items():\n",
    "    tb = _average(_value[0],_value[1],_value[2])\n",
    "    xl = 'Yếu'\n",
    "    if tb>8:\n",
    "        xl = 'Giỏi'\n",
    "    elif tb>7:\n",
    "        xl='Khá'\n",
    "    elif tb>5:\n",
    "        xl='Trung bình'\n",
    "    \n",
    "    _value.append(tb)\n",
    "    _value.append(xl)\n",
    "    dic = {key:_value}\n",
    "    student_list.update(dic)\n",
    "\n",
    "printdic(student_list)\n",
    "\n",
    "#Sort theo tên\n",
    "print()   \n",
    "sort_student_list = sorted(student_list.items(),key = lambda x: x[0][0])\n",
    "# Tạo dic\n",
    "printdic(student_list)\n",
    "\n",
    "print()\n",
    "sort_student_list = sorted(student_list.items(),key = lambda x:x[1][3])\n",
    "# Tạo dic\n",
    "printdic(student_list)"
   ]
  },
  {
   "cell_type": "code",
   "execution_count": null,
   "id": "852672b5",
   "metadata": {},
   "outputs": [],
   "source": []
  },
  {
   "cell_type": "code",
   "execution_count": null,
   "id": "125ad9fa",
   "metadata": {},
   "outputs": [],
   "source": []
  }
 ],
 "metadata": {
  "kernelspec": {
   "display_name": "Python 3",
   "language": "python",
   "name": "python3"
  },
  "language_info": {
   "codemirror_mode": {
    "name": "ipython",
    "version": 3
   },
   "file_extension": ".py",
   "mimetype": "text/x-python",
   "name": "python",
   "nbconvert_exporter": "python",
   "pygments_lexer": "ipython3",
   "version": "3.8.8"
  }
 },
 "nbformat": 4,
 "nbformat_minor": 5
}
