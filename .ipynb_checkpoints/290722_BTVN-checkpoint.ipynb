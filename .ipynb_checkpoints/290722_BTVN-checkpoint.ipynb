{
 "cells": [
  {
   "cell_type": "code",
   "execution_count": 6,
   "id": "fe405f3a",
   "metadata": {},
   "outputs": [
    {
     "name": "stdout",
     "output_type": "stream",
     "text": [
      "Nhập tổng thu nhập (VNĐ): 25000000\n",
      "Số người phụ thuộc: 1\n",
      "Số tiền thuế TNCN phải đóng: 710000VNĐ\n"
     ]
    }
   ],
   "source": [
    "# Bài 1: Theo luật từ năm 2020 thuế suất thu nhập cá nhân được tính như sau:\n",
    "#         Nếu phần thu nhập tính thuế/tháng đến 5 triệu thì thuế suất là 5%.\n",
    "#         Trên 5 triệu đến 10 triệu thì thuế suất là 10%.\n",
    "#         Trên 10 triệu đến 18 triệu là 15%.\n",
    "#         Trên 18 triệu đến 32 triệu là 20%.\n",
    "#         Trên 32 triệu đến 52 triệu là 25%.\n",
    "#         Trên 52 triệu đến 80 triệu là 30%.\n",
    "#         Trên 80 triệu là 35%. Tính:\n",
    "# 2.\tThuế TNCN phải đóng khi biết tổng thu nhập và số người phụ thuộc.\n",
    "# Biết rằng, mức giảm trừ gia cảnh được áp dụng cho bản thân người đóng thuế là 11 triệu/tháng.\n",
    "# Mức áp dụng đối với người phụ thuộc là 4,4 triệu/tháng.\n",
    "# Thu nhập tính thuế thu nhập cá nhân là thu nhập còn lại sau khi tổng thu nhập đã trừ đi các tổng giảm trừ gia cảnh.\n",
    "\n",
    "tongThuNhap = int(input(\"Nhập tổng thu nhập (VNĐ): \"))\n",
    "soNguoiPhuThuoc = int(input(\"Số người phụ thuộc: \"))\n",
    "\n",
    "ThueSuat1 = 5/100\n",
    "ThueSuat2 = 10/100\n",
    "ThueSuat3 = 15/100\n",
    "ThueSuat4 = 20/100\n",
    "ThueSuat5 = 25/100\n",
    "ThueSuat6 = 30/100\n",
    "ThueSuat7 = 35/100\n",
    "\n",
    "Muc1 = 5000000\n",
    "Muc2 = 10000000\n",
    "Muc3 = 18000000\n",
    "Muc4 = 32000000\n",
    "Muc5 = 52000000\n",
    "Muc6 = 80000000\n",
    "\n",
    "GiamTruGiaCanh = soNguoiPhuThuoc*4400000\n",
    "MucDongThue = 11000000\n",
    "ThueTNCN = 0\n",
    "\n",
    "if tongThuNhap<0 or soNguoiPhuThuoc<0:\n",
    "    print(\"Lỗi nhập liệu\")\n",
    "else:\n",
    "    thuNhapDongThue = tongThuNhap - (MucDongThue+GiamTruGiaCanh)\n",
    "    \n",
    "    if thuNhapDongThue <=0:\n",
    "        print(\"Không cần phải đóng thuế\")\n",
    "    elif thuNhapDongThue < Muc1:\n",
    "        ThueTNCN = thuNhapDongThue*ThueSuat1\n",
    "    elif thuNhapDongThue < Muc2:    \n",
    "        ThueTNCN = Muc1*ThueSuat1 +(thuNhapDongThue-Muc1)*ThueSuat2\n",
    "    elif thuNhapDongThue < Muc3:    \n",
    "        ThueTNCN = Muc1*ThueSuat1 + Muc2*ThueSuat2 +(thuNhapDongThue-Muc2)*ThueSuat3\n",
    "    elif thuNhapDongThue < Muc4:    \n",
    "        ThueTNCN = Muc1*ThueSuat1 + Muc2*ThueSuat2 + Muc3*ThueSuat3 +(thuNhapDongThue-Muc3)*ThueSuat4\n",
    "    elif thuNhapDongThue < Muc5:    \n",
    "        ThueTNCN = Muc1*ThueSuat1 + Muc2*ThueSuat2 + Muc3*ThueSuat3 + Muc4*ThueSuat4\\\n",
    "        +(thuNhapDongThue-Muc4)*ThueSuat5\n",
    "    elif thuNhapDongThue < Muc6:    \n",
    "        ThueTNCN = Muc1*ThueSuat1 + Muc2*ThueSuat2 + Muc3*ThueSuat3 + Muc4*ThueSuat4\\\n",
    "        + Muc5*ThueSuat5 + (thuNhapDongThue-Muc5)*ThueSuat6\n",
    "    else:   \n",
    "        ThueTNCN = Muc1*ThueSuat1 + Muc2*ThueSuat2 + Muc3*ThueSuat3 + Muc4*ThueSuat4\\\n",
    "        + Muc5*ThueSuat5 + Muc6*ThueSuat6 + (thuNhapDongThue-Muc6)*ThueSuat7\n",
    "    \n",
    "    print (f\"Số tiền thuế TNCN phải đóng: {int(ThueTNCN)} VNĐ\")"
   ]
  },
  {
   "cell_type": "code",
   "execution_count": null,
   "id": "9d1cd9b6",
   "metadata": {},
   "outputs": [],
   "source": []
  }
 ],
 "metadata": {
  "kernelspec": {
   "display_name": "Python 3",
   "language": "python",
   "name": "python3"
  },
  "language_info": {
   "codemirror_mode": {
    "name": "ipython",
    "version": 3
   },
   "file_extension": ".py",
   "mimetype": "text/x-python",
   "name": "python",
   "nbconvert_exporter": "python",
   "pygments_lexer": "ipython3",
   "version": "3.8.8"
  }
 },
 "nbformat": 4,
 "nbformat_minor": 5
}
