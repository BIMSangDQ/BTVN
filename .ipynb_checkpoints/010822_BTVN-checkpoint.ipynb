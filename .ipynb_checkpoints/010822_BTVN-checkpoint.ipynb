{
 "cells": [
  {
   "cell_type": "code",
   "execution_count": null,
   "id": "4529fd71",
   "metadata": {},
   "outputs": [],
   "source": [
    "# Bài 1: Một vã vạch hàng hóa là một chuỗi có 13 chữ số,\n",
    "#     chữ số cuối cùng gọi là chữ số kiểm tra C.\n",
    "#     Gọi A là tổng các chữ số ở vị trí lẻ (trừ chữ số kiểm tra C).\n",
    "#     Gọi B là tổng các chữ số ở vị trí chẵn.\n",
    "#     Gọi D = A + 3B.\n",
    "#     Nếu phần dư của D chia cho 10 khác không thì F=10-phần dư, ngược lại F = 0.\n",
    "#     Một mã vạch được coi là mã vạch đúng nếu F=C.\n",
    "#     Viết phần mềm kiểm tra tính đúng đắn của một mã vạch nhập vào.\n",
    "#     Ví dụ: 4902778120972 là 1 mã vạch đúng, 4902778120973 là không phải mã vạch.\n",
    "\n",
    "numbers = input(\"Nhập dãy số muốn kiểm tra:\")\n",
    "\n",
    "if(len(numbers)!=13):\n",
    "    print(f\"{numbers} không phải là một mã vạch\")\n",
    "else:\n",
    "    C = int(numbers[-1])\n",
    "    \n",
    "    i=1\n",
    "    A=0\n",
    "    B=0\n",
    "    while i < 13:\n",
    "        if (i%2==0):\n",
    "            B += int(numbers[i-1])\n",
    "        else:\n",
    "            A += int(numbers[i-1])\n",
    "        i+=1\n",
    "        \n",
    "    D = A+3*B\n",
    "    F = 0 if D%10==0 else 10 - D%10\n",
    "    \n",
    "    print(f\"{numbers} là một mã vạch\" if F==C else f\"{numbers} không phải là một mã vạch\")"
   ]
  },
  {
   "cell_type": "code",
   "execution_count": null,
   "id": "3d0ad6b9",
   "metadata": {},
   "outputs": [],
   "source": [
    "# Bài 2: Nhập vào một số tự nhiên N.\n",
    "# In ra màn hình tất cả các số nhỏ hơn N và những số này chia kết cho 3 nhưng không chia hết cho 6.\n",
    "\n",
    "N = int(input(\"Nhập vào số tự nhiên n:\"))\n",
    "\n",
    "if N<=3:\n",
    "    print(\"Không có số nào thỏa điều kiện\")\n",
    "else:\n",
    "    i=3\n",
    "    print(\"Các số thỏa điều kiện:\", end=' ')\n",
    "    while i < N:\n",
    "        if i%3==0 and i%6!=0:\n",
    "            print(i,end=' ')\n",
    "        i+=1"
   ]
  },
  {
   "cell_type": "code",
   "execution_count": null,
   "id": "a2695d3e",
   "metadata": {},
   "outputs": [],
   "source": []
  },
  {
   "cell_type": "code",
   "execution_count": null,
   "id": "c30ca786",
   "metadata": {},
   "outputs": [],
   "source": []
  }
 ],
 "metadata": {
  "kernelspec": {
   "display_name": "Python 3",
   "language": "python",
   "name": "python3"
  },
  "language_info": {
   "codemirror_mode": {
    "name": "ipython",
    "version": 3
   },
   "file_extension": ".py",
   "mimetype": "text/x-python",
   "name": "python",
   "nbconvert_exporter": "python",
   "pygments_lexer": "ipython3",
   "version": "3.8.8"
  }
 },
 "nbformat": 4,
 "nbformat_minor": 5
}
