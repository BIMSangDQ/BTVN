{
 "cells": [
  {
   "cell_type": "code",
   "execution_count": 6,
   "id": "e42c0e14",
   "metadata": {},
   "outputs": [
    {
     "name": "stdout",
     "output_type": "stream",
     "text": [
      "Không có chuỗi giảm dần\n",
      "['95431', '74310']\n"
     ]
    }
   ],
   "source": [
    "# Nhập một chuỗi gồm các kí tự là số.\n",
    "# Tìm chuỗi con trong chuỗi vừa nhập là chuỗi gồm các số giảm dần dài nhất.\n",
    "# Ví dụ nhập chuỗi “09543134247431035” thì có hai chuỗi thoả mãn là “95431” và “74310”.\n",
    "\n",
    "def descending_series (chars):\n",
    "    \"\"\"\n",
    "    Hàm lấy về các chuỗi giảm dần dài nhất\n",
    "    \n",
    "    Parameters:\n",
    "    - chars: Chuỗi số \n",
    "    \n",
    "    returns:\n",
    "    - None : nếu không có chuỗi giảm dần\n",
    "    - [str]: các chuỗi kí tự giảm dần dài nhất\n",
    "    \"\"\"\n",
    "    \n",
    "    descending_series = \"\"\n",
    "    series = \"\"\n",
    "    max_lenght = 0\n",
    "    for i in range(1,len(chars),1):\n",
    "        if i < len(chars)-1:\n",
    "            if int(chars[i]) < int(chars[i-1]):\n",
    "                if series == \"\":\n",
    "                    series += chars[i-1] + chars[i]\n",
    "                else:\n",
    "                    series += chars[i]\n",
    "\n",
    "            else:\n",
    "                if len(series) > max_lenght:\n",
    "                    descending_series = series\n",
    "                    max_lenght = len(series)\n",
    "                elif len(series) == max_lenght and max_lenght != 0:\n",
    "                    descending_series += \" \" + series\n",
    "                series = \"\"\n",
    "        else:\n",
    "            if int(chars[i]) < int(chars[i-1]):\n",
    "                if series == \"\":\n",
    "                    series += chars[i-1] + chars[i]\n",
    "                else:\n",
    "                    series += chars[i]\n",
    "                    \n",
    "            if len(series) > max_lenght:\n",
    "                descending_series = series\n",
    "                max_lenght = len(series)\n",
    "            elif len(series) == max_lenght and max_lenght != 0:\n",
    "                descending_series += \" \" + series\n",
    "                \n",
    "    descending_series.strip()\n",
    "    if len(descending_series) == 0:\n",
    "        return None\n",
    "    else:\n",
    "        return descending_series.split()\n",
    "        \n",
    "print(\"Không có chuỗi giảm dần\" if descending_series('123')==None else descending_series('123'))\n",
    "print(\"Không có chuỗi giảm dần\" if descending_series('09543134247431035')==None else descending_series('09543134247431035'))"
   ]
  },
  {
   "cell_type": "code",
   "execution_count": null,
   "id": "55a33bee",
   "metadata": {},
   "outputs": [],
   "source": []
  },
  {
   "cell_type": "code",
   "execution_count": null,
   "id": "50d27501",
   "metadata": {},
   "outputs": [],
   "source": []
  },
  {
   "cell_type": "code",
   "execution_count": null,
   "id": "f1caf511",
   "metadata": {},
   "outputs": [],
   "source": []
  }
 ],
 "metadata": {
  "kernelspec": {
   "display_name": "Python 3",
   "language": "python",
   "name": "python3"
  },
  "language_info": {
   "codemirror_mode": {
    "name": "ipython",
    "version": 3
   },
   "file_extension": ".py",
   "mimetype": "text/x-python",
   "name": "python",
   "nbconvert_exporter": "python",
   "pygments_lexer": "ipython3",
   "version": "3.8.8"
  }
 },
 "nbformat": 4,
 "nbformat_minor": 5
}
