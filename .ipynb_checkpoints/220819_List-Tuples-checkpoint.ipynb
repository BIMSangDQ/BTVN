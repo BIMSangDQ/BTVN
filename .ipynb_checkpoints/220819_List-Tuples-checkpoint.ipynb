{
 "cells": [
  {
   "cell_type": "code",
   "execution_count": null,
   "id": "a1e5d6b5",
   "metadata": {},
   "outputs": [],
   "source": [
    "#khai báo list: cách 1\n",
    "languages = [\"Python\",\"C#\",\"HTML\",\"JS\"]\n",
    "\n",
    "number = [10,5,6,9,12]\n",
    "\n",
    "words = [\"Hello\",13,True,4.6,None]"
   ]
  },
  {
   "cell_type": "code",
   "execution_count": null,
   "id": "9504e714",
   "metadata": {},
   "outputs": [],
   "source": [
    "#khai báo list: cách 2\n",
    "\n",
    "languages = list([\"Python\",\"C#\",\"HTML\",\"JS\"])"
   ]
  },
  {
   "cell_type": "code",
   "execution_count": null,
   "id": "30e80586",
   "metadata": {},
   "outputs": [],
   "source": [
    "# khởi tạo list trống\n",
    "empty_list = []"
   ]
  },
  {
   "cell_type": "code",
   "execution_count": null,
   "id": "acadd201",
   "metadata": {},
   "outputs": [],
   "source": [
    "#Cách truy xuất giống như string (truy xuất theo string)\n",
    "print(languages[0])"
   ]
  },
  {
   "cell_type": "code",
   "execution_count": null,
   "id": "c47d3a0a",
   "metadata": {},
   "outputs": [],
   "source": [
    "sub_lang = languages[0:2]\n",
    "print(sub_lang)"
   ]
  },
  {
   "cell_type": "code",
   "execution_count": null,
   "id": "785631e8",
   "metadata": {},
   "outputs": [],
   "source": [
    "#thêm phần tử ở cuối list\n",
    "languages.append(\"CSS\")\n",
    "print(languages)\n",
    "\n",
    "#thêm vào ở vị trí\n",
    "languages.insert(1,\"Swift\")\n",
    "\n",
    "print(languages)"
   ]
  },
  {
   "cell_type": "code",
   "execution_count": null,
   "id": "0e24542f",
   "metadata": {},
   "outputs": [],
   "source": [
    "# Xóa phần tử \n",
    "# Dùng pop\n",
    "deleted = languages.pop(0)\n",
    "print(languages)\n",
    "print(deleted)"
   ]
  },
  {
   "cell_type": "code",
   "execution_count": null,
   "id": "372d56a7",
   "metadata": {},
   "outputs": [],
   "source": [
    "#Dùng remove\n",
    "languages.remove(\"C#\")\n",
    "print(languages)\n"
   ]
  },
  {
   "cell_type": "code",
   "execution_count": null,
   "id": "9b20d51f",
   "metadata": {},
   "outputs": [],
   "source": [
    "# dùng keywoed del\n",
    "languages = list([\"Python\",\"C#\",\"HTML\",\"JS\"])\n",
    "\n",
    "del languages[0]\n",
    "print(languages)"
   ]
  },
  {
   "cell_type": "code",
   "execution_count": null,
   "id": "1bc7f25d",
   "metadata": {},
   "outputs": [],
   "source": [
    "#Sắp xếp list\n",
    "languages = list([\"Python\",\"C#\",\"HTML\",\"JS\"])\n",
    "\n",
    "sortedlanguages = sorted(languages,key=lambda x: len(x))\n",
    "\n",
    "print(sortedlanguages)"
   ]
  },
  {
   "cell_type": "code",
   "execution_count": 10,
   "id": "cd6ff938",
   "metadata": {},
   "outputs": [
    {
     "name": "stdout",
     "output_type": "stream",
     "text": [
      "[['Hoàng', 4, 5, 6, 5.0], ['Tùng', 6, 3, 8, 5.67], ['Hương', 2, 9, 10, 7.0]]\n",
      "\n",
      "[['Hoàng', 4, 5, 6, 5.0], ['Hương', 2, 9, 10, 7.0], ['Tùng', 6, 3, 8, 5.67]]\n",
      "[['Hương', 2, 9, 10, 7.0], ['Hoàng', 4, 5, 6, 5.0], ['Tùng', 6, 3, 8, 5.67]]\n",
      "[['Tùng', 6, 3, 8, 5.67], ['Hoàng', 4, 5, 6, 5.0], ['Hương', 2, 9, 10, 7.0]]\n",
      "[['Hoàng', 4, 5, 6, 5.0], ['Tùng', 6, 3, 8, 5.67], ['Hương', 2, 9, 10, 7.0]]\n",
      "[['Hoàng', 4, 5, 6, 5.0], ['Tùng', 6, 3, 8, 5.67], ['Hương', 2, 9, 10, 7.0]]\n",
      "\n",
      "Các học sinh có điểm trung bình cao nhất: ['Hương']\n",
      "\n",
      "[['Hoàng', 4, 5, 6, 5.0, 'Yếu'], ['Tùng', 6, 3, 8, 5.67, 'Trung bình'], ['Hương', 2, 9, 10, 7.0, 'Trung bình']]\n"
     ]
    }
   ],
   "source": [
    "#add thêm điểm trung bình của mỗi học sinh\n",
    "scores = [[\"Hoàng\",4,5,6],[\"Tùng\",6,3,8],[\"Hương\",2,9,10]]\n",
    "\n",
    "_average = lambda x,y,z: round((x+y+z)/3,2)\n",
    "\n",
    "for student in scores:\n",
    "    student.append(_average(student[1],student[2],student[3]))\n",
    "    \n",
    "print(scores)\n",
    "print()\n",
    "\n",
    "# Sắp xếp theo tên, điểm từng loại\n",
    "sort_name = sorted(scores,key = lambda x: x[0])\n",
    "print(sort_name)\n",
    "\n",
    "sort_maths = sorted(scores,key = lambda x: x[1])\n",
    "print(sort_maths)\n",
    "\n",
    "sort_physical = sorted(scores,key = lambda x: x[2])\n",
    "print(sort_physical)\n",
    "\n",
    "sort_chemistry = sorted(scores,key = lambda x: x[3])\n",
    "print(sort_chemistry)\n",
    "\n",
    "sort_average = sorted(scores,key = lambda x: x[4])\n",
    "print(sort_average)\n",
    "print()\n",
    "\n",
    "#Tìm học sinh có điểm trung bình cao nhất\n",
    "max_average = 0\n",
    "name = []\n",
    "for student in scores:\n",
    "    if student[4]> max_average:\n",
    "        name.clear()\n",
    "        name.append(student[0])\n",
    "        max_average = student[4]\n",
    "    elif student[4]== max_average:\n",
    "        name.append(student[0])\n",
    "\n",
    "print (\"Các học sinh có điểm trung bình cao nhất:\", name)\n",
    "print()\n",
    "\n",
    "#Tạo list mới có xếp loại\n",
    "new_list = []\n",
    "for student in scores:\n",
    "    if student[4] > 8:\n",
    "        new_list.append(student)\n",
    "        new_list[len(new_list)-1].append(\"Giỏi\")\n",
    "    elif student[4] > 7:\n",
    "        new_list.append(student)\n",
    "        new_list[len(new_list)-1].append(\"Khá\")\n",
    "    elif student[4] > 5:\n",
    "        new_list.append(student)\n",
    "        new_list[len(new_list)-1].append(\"Trung bình\")\n",
    "    else:\n",
    "        new_list.append(student)\n",
    "        new_list[len(new_list)-1].append(\"Yếu\")\n",
    "        \n",
    "print(new_list)"
   ]
  },
  {
   "cell_type": "code",
   "execution_count": null,
   "id": "ae43488a",
   "metadata": {},
   "outputs": [],
   "source": []
  }
 ],
 "metadata": {
  "kernelspec": {
   "display_name": "Python 3",
   "language": "python",
   "name": "python3"
  },
  "language_info": {
   "codemirror_mode": {
    "name": "ipython",
    "version": 3
   },
   "file_extension": ".py",
   "mimetype": "text/x-python",
   "name": "python",
   "nbconvert_exporter": "python",
   "pygments_lexer": "ipython3",
   "version": "3.8.8"
  }
 },
 "nbformat": 4,
 "nbformat_minor": 5
}
