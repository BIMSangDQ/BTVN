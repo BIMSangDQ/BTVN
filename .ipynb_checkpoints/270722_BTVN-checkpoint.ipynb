{
 "cells": [
  {
   "cell_type": "code",
   "execution_count": 6,
   "id": "53d1ff15",
   "metadata": {},
   "outputs": [
    {
     "name": "stdout",
     "output_type": "stream",
     "text": [
      "Nhập số điện tiêu dùng trong tháng: 200\n",
      "Số tiền điện phải đóng là: 372000 VNĐ\n"
     ]
    }
   ],
   "source": [
    "#Viết phần mềm tính giá tiền điện của các hộ người dùng. Biết giá cước\n",
    "#tiền điện năm 2022 được tính như sau: \n",
    "#Dưới 50 số thì giá cước là 1678đ/1 số,\n",
    "#từ số 51 đến số 100 với 1734 đ/số\n",
    "#từ 101 đến 200 với 2014đ/số,\n",
    "#từ 201 đến 300 với 2536đ/số\n",
    "#từ 301 đến 400 với 2834đ/số,\n",
    "#từ 401 trở đi với 2927đ/số.\n",
    "#Nhập vào số điện tiêu dùng trong tháng của một hộ gia đình. Tính số tiền phải đóng trong tháng đó căn cứ vào giá cước ở trên.\n",
    "\n",
    "Number = int(input(\"Nhập số điện tiêu dùng trong tháng: \"))\n",
    "\n",
    "Fee = 0\n",
    "\n",
    "UnitPrice_1 = 1678 \n",
    "UnitPrice_2 = 1734 \n",
    "UnitPrice_3 = 2014 \n",
    "UnitPrice_4 = 2536\n",
    "UnitPrice_5 = 2834\n",
    "UnitPrice_6 = 2927\n",
    "\n",
    "Range1 = 50\n",
    "Range2 = 100\n",
    "Range3 = 200\n",
    "Range4 = 300\n",
    "Range5 = 400\n",
    "\n",
    "\n",
    "if (Number <0):\n",
    "    Print(\"Lỗi nhập liệu!\")\n",
    "else:\n",
    "    if Number <= Range1:\n",
    "        Fee += Number*UnitPrice_1\n",
    "    elif Number <= Range2:\n",
    "        Fee += (Range1*UnitPrice_1 + (Number - Range1)*UnitPrice_2)\n",
    "    elif Number <= Range3:\n",
    "        Fee += (Range1*UnitPrice_1 + (Range2-Range1)*UnitPrice_2 + (Number - Range2)*UnitPrice_3)\n",
    "    elif Number <= Range4:\n",
    "        Fee += (Range1*UnitPrice_1 + (Range2-Range1)*UnitPrice_2 + (Range3-Range2)*UnitPrice_3 +\\\n",
    "                (Number - Range3)*UnitPrice_4)\n",
    "    elif Number <= Range5:\n",
    "        Fee += (Range1*UnitPrice_1 + (Range2-Range1)*UnitPrice_2 + (Range3-Range2)*UnitPrice_3 +\\\n",
    "                (Range4-Range3)*UnitPrice_4 + (Number - Range4)*UnitPrice_5)\n",
    "    else:\n",
    "        Fee += (Range1*UnitPrice_1 + (Range2-Range1)*UnitPrice_2 + (Range3-Range2)*UnitPrice_3 +\\\n",
    "                (Range4-Range3)*UnitPrice_4 + (Range5-Range4)*UnitPrice_5 + (Number - Range5)*UnitPrice_6)\n",
    "        \n",
    "    print(f\"Số tiền điện phải đóng là: {Fee} VNĐ\")\n"
   ]
  },
  {
   "cell_type": "code",
   "execution_count": 5,
   "id": "f29a6c6d",
   "metadata": {},
   "outputs": [
    {
     "name": "stdout",
     "output_type": "stream",
     "text": [
      "Nhập a: 3\n",
      "Nhập b: -2\n",
      "Nhập c: 4\n",
      "Phương trình vừa nhập: 3x^2 - 2x + 4\n"
     ]
    }
   ],
   "source": [
    "#Nhập a, b, c là hệ số của một đa thức bậc 2.\n",
    "#In ra phương trình bậc 2 dưới dạng chuẩn (dạng chuẩn có nghĩa là tự nhiên như khi viết tay đa thức ra giấy hoặc bảng).\n",
    "#Các hệ số 1, -1 thì không in hệ số, 0 thì không in  bậc đó. Ví dụ: a = 1, b = -3, c= 0 thì in ra là x^2 – 3x.\n",
    "import math\n",
    "\n",
    "a = int(input(\"Nhập a: \"))\n",
    "b = int(input(\"Nhập b: \"))\n",
    "c = int(input(\"Nhập c: \"))\n",
    "\n",
    "string_a = \"\"\n",
    "string_b = \"\"\n",
    "string_c = \"\"\n",
    "\n",
    "if a != 0:\n",
    "    if a == 1:\n",
    "        string_a = \"x^2\"\n",
    "    elif a == -1:\n",
    "        string_a = \"-x^2\"\n",
    "    else:\n",
    "        string_a = f\"{a}x^2\"\n",
    "        \n",
    "if b != 0:\n",
    "    if b == 1:\n",
    "        string_b = \" + x\"\n",
    "    elif b == -1:\n",
    "        string_b = \" - x\"\n",
    "    elif b > 0:\n",
    "        string_b = f\" + {b}x\"\n",
    "    else:\n",
    "        string_b = f\" - {abs(b)}x\"\n",
    "        \n",
    "if c != 0:\n",
    "    if c>0:\n",
    "        string_c = f\" + {abs(c)}\"\n",
    "    else:\n",
    "        string_c = f\" - {abs(c)}\"\n",
    "        \n",
    "print (f\"Phương trình vừa nhập: {string_a}{string_b}{string_c}\")"
   ]
  },
  {
   "cell_type": "code",
   "execution_count": null,
   "id": "2f9e75cb",
   "metadata": {},
   "outputs": [],
   "source": []
  }
 ],
 "metadata": {
  "kernelspec": {
   "display_name": "Python 3",
   "language": "python",
   "name": "python3"
  },
  "language_info": {
   "codemirror_mode": {
    "name": "ipython",
    "version": 3
   },
   "file_extension": ".py",
   "mimetype": "text/x-python",
   "name": "python",
   "nbconvert_exporter": "python",
   "pygments_lexer": "ipython3",
   "version": "3.8.8"
  }
 },
 "nbformat": 4,
 "nbformat_minor": 5
}
