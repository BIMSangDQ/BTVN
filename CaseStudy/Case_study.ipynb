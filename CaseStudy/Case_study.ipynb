{
 "cells": [
  {
   "cell_type": "code",
   "execution_count": 69,
   "metadata": {},
   "outputs": [],
   "source": [
    "import numpy as np \n",
    "import pandas as pd \n",
    "import matplotlib.pyplot as plt \n",
    "import seaborn as sns "
   ]
  },
  {
   "cell_type": "code",
   "execution_count": 70,
   "metadata": {},
   "outputs": [
    {
     "data": {
      "text/html": [
       "<div>\n",
       "<style scoped>\n",
       "    .dataframe tbody tr th:only-of-type {\n",
       "        vertical-align: middle;\n",
       "    }\n",
       "\n",
       "    .dataframe tbody tr th {\n",
       "        vertical-align: top;\n",
       "    }\n",
       "\n",
       "    .dataframe thead th {\n",
       "        text-align: right;\n",
       "    }\n",
       "</style>\n",
       "<table border=\"1\" class=\"dataframe\">\n",
       "  <thead>\n",
       "    <tr style=\"text-align: right;\">\n",
       "      <th></th>\n",
       "      <th>car_ID</th>\n",
       "      <th>symboling</th>\n",
       "      <th>CarName</th>\n",
       "      <th>fueltype</th>\n",
       "      <th>aspiration</th>\n",
       "      <th>doornumber</th>\n",
       "      <th>carbody</th>\n",
       "      <th>drivewheel</th>\n",
       "      <th>enginelocation</th>\n",
       "      <th>wheelbase</th>\n",
       "      <th>...</th>\n",
       "      <th>enginesize</th>\n",
       "      <th>fuelsystem</th>\n",
       "      <th>boreratio</th>\n",
       "      <th>stroke</th>\n",
       "      <th>compressionratio</th>\n",
       "      <th>horsepower</th>\n",
       "      <th>peakrpm</th>\n",
       "      <th>citympg</th>\n",
       "      <th>highwaympg</th>\n",
       "      <th>price</th>\n",
       "    </tr>\n",
       "  </thead>\n",
       "  <tbody>\n",
       "    <tr>\n",
       "      <th>0</th>\n",
       "      <td>1</td>\n",
       "      <td>3</td>\n",
       "      <td>alfa-romero giulia</td>\n",
       "      <td>gas</td>\n",
       "      <td>std</td>\n",
       "      <td>two</td>\n",
       "      <td>convertible</td>\n",
       "      <td>rwd</td>\n",
       "      <td>front</td>\n",
       "      <td>88.6</td>\n",
       "      <td>...</td>\n",
       "      <td>130</td>\n",
       "      <td>mpfi</td>\n",
       "      <td>3.47</td>\n",
       "      <td>2.68</td>\n",
       "      <td>9.0</td>\n",
       "      <td>111</td>\n",
       "      <td>5000</td>\n",
       "      <td>21</td>\n",
       "      <td>27</td>\n",
       "      <td>13495.0</td>\n",
       "    </tr>\n",
       "    <tr>\n",
       "      <th>1</th>\n",
       "      <td>2</td>\n",
       "      <td>3</td>\n",
       "      <td>alfa-romero stelvio</td>\n",
       "      <td>gas</td>\n",
       "      <td>std</td>\n",
       "      <td>two</td>\n",
       "      <td>convertible</td>\n",
       "      <td>rwd</td>\n",
       "      <td>front</td>\n",
       "      <td>88.6</td>\n",
       "      <td>...</td>\n",
       "      <td>130</td>\n",
       "      <td>mpfi</td>\n",
       "      <td>3.47</td>\n",
       "      <td>2.68</td>\n",
       "      <td>9.0</td>\n",
       "      <td>111</td>\n",
       "      <td>5000</td>\n",
       "      <td>21</td>\n",
       "      <td>27</td>\n",
       "      <td>16500.0</td>\n",
       "    </tr>\n",
       "    <tr>\n",
       "      <th>2</th>\n",
       "      <td>3</td>\n",
       "      <td>1</td>\n",
       "      <td>alfa-romero Quadrifoglio</td>\n",
       "      <td>gas</td>\n",
       "      <td>std</td>\n",
       "      <td>two</td>\n",
       "      <td>hatchback</td>\n",
       "      <td>rwd</td>\n",
       "      <td>front</td>\n",
       "      <td>94.5</td>\n",
       "      <td>...</td>\n",
       "      <td>152</td>\n",
       "      <td>mpfi</td>\n",
       "      <td>2.68</td>\n",
       "      <td>3.47</td>\n",
       "      <td>9.0</td>\n",
       "      <td>154</td>\n",
       "      <td>5000</td>\n",
       "      <td>19</td>\n",
       "      <td>26</td>\n",
       "      <td>16500.0</td>\n",
       "    </tr>\n",
       "    <tr>\n",
       "      <th>3</th>\n",
       "      <td>4</td>\n",
       "      <td>2</td>\n",
       "      <td>audi 100 ls</td>\n",
       "      <td>gas</td>\n",
       "      <td>std</td>\n",
       "      <td>four</td>\n",
       "      <td>sedan</td>\n",
       "      <td>fwd</td>\n",
       "      <td>front</td>\n",
       "      <td>99.8</td>\n",
       "      <td>...</td>\n",
       "      <td>109</td>\n",
       "      <td>mpfi</td>\n",
       "      <td>3.19</td>\n",
       "      <td>3.40</td>\n",
       "      <td>10.0</td>\n",
       "      <td>102</td>\n",
       "      <td>5500</td>\n",
       "      <td>24</td>\n",
       "      <td>30</td>\n",
       "      <td>13950.0</td>\n",
       "    </tr>\n",
       "    <tr>\n",
       "      <th>4</th>\n",
       "      <td>5</td>\n",
       "      <td>2</td>\n",
       "      <td>audi 100ls</td>\n",
       "      <td>gas</td>\n",
       "      <td>std</td>\n",
       "      <td>four</td>\n",
       "      <td>sedan</td>\n",
       "      <td>4wd</td>\n",
       "      <td>front</td>\n",
       "      <td>99.4</td>\n",
       "      <td>...</td>\n",
       "      <td>136</td>\n",
       "      <td>mpfi</td>\n",
       "      <td>3.19</td>\n",
       "      <td>3.40</td>\n",
       "      <td>8.0</td>\n",
       "      <td>115</td>\n",
       "      <td>5500</td>\n",
       "      <td>18</td>\n",
       "      <td>22</td>\n",
       "      <td>17450.0</td>\n",
       "    </tr>\n",
       "  </tbody>\n",
       "</table>\n",
       "<p>5 rows × 26 columns</p>\n",
       "</div>"
      ],
      "text/plain": [
       "   car_ID  symboling                   CarName fueltype aspiration doornumber  \\\n",
       "0       1          3        alfa-romero giulia      gas        std        two   \n",
       "1       2          3       alfa-romero stelvio      gas        std        two   \n",
       "2       3          1  alfa-romero Quadrifoglio      gas        std        two   \n",
       "3       4          2               audi 100 ls      gas        std       four   \n",
       "4       5          2                audi 100ls      gas        std       four   \n",
       "\n",
       "       carbody drivewheel enginelocation  wheelbase  ...  enginesize  \\\n",
       "0  convertible        rwd          front       88.6  ...         130   \n",
       "1  convertible        rwd          front       88.6  ...         130   \n",
       "2    hatchback        rwd          front       94.5  ...         152   \n",
       "3        sedan        fwd          front       99.8  ...         109   \n",
       "4        sedan        4wd          front       99.4  ...         136   \n",
       "\n",
       "   fuelsystem  boreratio  stroke compressionratio horsepower  peakrpm citympg  \\\n",
       "0        mpfi       3.47    2.68              9.0        111     5000      21   \n",
       "1        mpfi       3.47    2.68              9.0        111     5000      21   \n",
       "2        mpfi       2.68    3.47              9.0        154     5000      19   \n",
       "3        mpfi       3.19    3.40             10.0        102     5500      24   \n",
       "4        mpfi       3.19    3.40              8.0        115     5500      18   \n",
       "\n",
       "   highwaympg    price  \n",
       "0          27  13495.0  \n",
       "1          27  16500.0  \n",
       "2          26  16500.0  \n",
       "3          30  13950.0  \n",
       "4          22  17450.0  \n",
       "\n",
       "[5 rows x 26 columns]"
      ]
     },
     "execution_count": 70,
     "metadata": {},
     "output_type": "execute_result"
    }
   ],
   "source": [
    "cars = pd.read_csv('Case_study_CarPrice_Assignment.csv') \n",
    "cars.head()"
   ]
  },
  {
   "cell_type": "code",
   "execution_count": 71,
   "metadata": {},
   "outputs": [
    {
     "name": "stdout",
     "output_type": "stream",
     "text": [
      "<class 'pandas.core.frame.DataFrame'>\n",
      "RangeIndex: 205 entries, 0 to 204\n",
      "Data columns (total 26 columns):\n",
      " #   Column            Non-Null Count  Dtype  \n",
      "---  ------            --------------  -----  \n",
      " 0   car_ID            205 non-null    int64  \n",
      " 1   symboling         205 non-null    int64  \n",
      " 2   CarName           205 non-null    object \n",
      " 3   fueltype          205 non-null    object \n",
      " 4   aspiration        205 non-null    object \n",
      " 5   doornumber        205 non-null    object \n",
      " 6   carbody           205 non-null    object \n",
      " 7   drivewheel        205 non-null    object \n",
      " 8   enginelocation    205 non-null    object \n",
      " 9   wheelbase         205 non-null    float64\n",
      " 10  carlength         205 non-null    float64\n",
      " 11  carwidth          205 non-null    float64\n",
      " 12  carheight         205 non-null    float64\n",
      " 13  curbweight        205 non-null    int64  \n",
      " 14  enginetype        205 non-null    object \n",
      " 15  cylindernumber    205 non-null    object \n",
      " 16  enginesize        205 non-null    int64  \n",
      " 17  fuelsystem        205 non-null    object \n",
      " 18  boreratio         205 non-null    float64\n",
      " 19  stroke            205 non-null    float64\n",
      " 20  compressionratio  205 non-null    float64\n",
      " 21  horsepower        205 non-null    int64  \n",
      " 22  peakrpm           205 non-null    int64  \n",
      " 23  citympg           205 non-null    int64  \n",
      " 24  highwaympg        205 non-null    int64  \n",
      " 25  price             205 non-null    float64\n",
      "dtypes: float64(8), int64(8), object(10)\n",
      "memory usage: 41.8+ KB\n"
     ]
    }
   ],
   "source": [
    "cars.info()"
   ]
  },
  {
   "attachments": {},
   "cell_type": "markdown",
   "metadata": {},
   "source": [
    "Nhận thấy chưa có cột company"
   ]
  },
  {
   "cell_type": "code",
   "execution_count": 72,
   "metadata": {},
   "outputs": [
    {
     "data": {
      "text/plain": [
       "array(['alfa-romero', 'audi', 'bmw', 'chevrolet', 'dodge', 'honda',\n",
       "       'isuzu', 'jaguar', 'maxda', 'mazda', 'buick', 'mercury',\n",
       "       'mitsubishi', 'Nissan', 'nissan', 'peugeot', 'plymouth', 'porsche',\n",
       "       'porcshce', 'renault', 'saab', 'subaru', 'toyota', 'toyouta',\n",
       "       'vokswagen', 'volkswagen', 'vw', 'volvo'], dtype=object)"
      ]
     },
     "execution_count": 72,
     "metadata": {},
     "output_type": "execute_result"
    }
   ],
   "source": [
    "companies = cars['CarName'].apply(lambda x: x.split(' ')[0])\n",
    "companies.unique()"
   ]
  },
  {
   "attachments": {},
   "cell_type": "markdown",
   "metadata": {},
   "source": [
    "- Có một số lỗi nhập liệu"
   ]
  },
  {
   "cell_type": "code",
   "execution_count": 73,
   "metadata": {},
   "outputs": [
    {
     "data": {
      "text/html": [
       "<div>\n",
       "<style scoped>\n",
       "    .dataframe tbody tr th:only-of-type {\n",
       "        vertical-align: middle;\n",
       "    }\n",
       "\n",
       "    .dataframe tbody tr th {\n",
       "        vertical-align: top;\n",
       "    }\n",
       "\n",
       "    .dataframe thead th {\n",
       "        text-align: right;\n",
       "    }\n",
       "</style>\n",
       "<table border=\"1\" class=\"dataframe\">\n",
       "  <thead>\n",
       "    <tr style=\"text-align: right;\">\n",
       "      <th></th>\n",
       "      <th>car_ID</th>\n",
       "      <th>symboling</th>\n",
       "      <th>CarName</th>\n",
       "      <th>company</th>\n",
       "      <th>fueltype</th>\n",
       "      <th>aspiration</th>\n",
       "      <th>doornumber</th>\n",
       "      <th>carbody</th>\n",
       "      <th>drivewheel</th>\n",
       "      <th>enginelocation</th>\n",
       "      <th>...</th>\n",
       "      <th>enginesize</th>\n",
       "      <th>fuelsystem</th>\n",
       "      <th>boreratio</th>\n",
       "      <th>stroke</th>\n",
       "      <th>compressionratio</th>\n",
       "      <th>horsepower</th>\n",
       "      <th>peakrpm</th>\n",
       "      <th>citympg</th>\n",
       "      <th>highwaympg</th>\n",
       "      <th>price</th>\n",
       "    </tr>\n",
       "  </thead>\n",
       "  <tbody>\n",
       "    <tr>\n",
       "      <th>0</th>\n",
       "      <td>1</td>\n",
       "      <td>3</td>\n",
       "      <td>alfa-romero giulia</td>\n",
       "      <td>alfa-romero</td>\n",
       "      <td>gas</td>\n",
       "      <td>std</td>\n",
       "      <td>two</td>\n",
       "      <td>convertible</td>\n",
       "      <td>rwd</td>\n",
       "      <td>front</td>\n",
       "      <td>...</td>\n",
       "      <td>130</td>\n",
       "      <td>mpfi</td>\n",
       "      <td>3.47</td>\n",
       "      <td>2.68</td>\n",
       "      <td>9.0</td>\n",
       "      <td>111</td>\n",
       "      <td>5000</td>\n",
       "      <td>21</td>\n",
       "      <td>27</td>\n",
       "      <td>13495.0</td>\n",
       "    </tr>\n",
       "    <tr>\n",
       "      <th>1</th>\n",
       "      <td>2</td>\n",
       "      <td>3</td>\n",
       "      <td>alfa-romero stelvio</td>\n",
       "      <td>alfa-romero</td>\n",
       "      <td>gas</td>\n",
       "      <td>std</td>\n",
       "      <td>two</td>\n",
       "      <td>convertible</td>\n",
       "      <td>rwd</td>\n",
       "      <td>front</td>\n",
       "      <td>...</td>\n",
       "      <td>130</td>\n",
       "      <td>mpfi</td>\n",
       "      <td>3.47</td>\n",
       "      <td>2.68</td>\n",
       "      <td>9.0</td>\n",
       "      <td>111</td>\n",
       "      <td>5000</td>\n",
       "      <td>21</td>\n",
       "      <td>27</td>\n",
       "      <td>16500.0</td>\n",
       "    </tr>\n",
       "    <tr>\n",
       "      <th>2</th>\n",
       "      <td>3</td>\n",
       "      <td>1</td>\n",
       "      <td>alfa-romero Quadrifoglio</td>\n",
       "      <td>alfa-romero</td>\n",
       "      <td>gas</td>\n",
       "      <td>std</td>\n",
       "      <td>two</td>\n",
       "      <td>hatchback</td>\n",
       "      <td>rwd</td>\n",
       "      <td>front</td>\n",
       "      <td>...</td>\n",
       "      <td>152</td>\n",
       "      <td>mpfi</td>\n",
       "      <td>2.68</td>\n",
       "      <td>3.47</td>\n",
       "      <td>9.0</td>\n",
       "      <td>154</td>\n",
       "      <td>5000</td>\n",
       "      <td>19</td>\n",
       "      <td>26</td>\n",
       "      <td>16500.0</td>\n",
       "    </tr>\n",
       "    <tr>\n",
       "      <th>3</th>\n",
       "      <td>4</td>\n",
       "      <td>2</td>\n",
       "      <td>audi 100 ls</td>\n",
       "      <td>audi</td>\n",
       "      <td>gas</td>\n",
       "      <td>std</td>\n",
       "      <td>four</td>\n",
       "      <td>sedan</td>\n",
       "      <td>fwd</td>\n",
       "      <td>front</td>\n",
       "      <td>...</td>\n",
       "      <td>109</td>\n",
       "      <td>mpfi</td>\n",
       "      <td>3.19</td>\n",
       "      <td>3.40</td>\n",
       "      <td>10.0</td>\n",
       "      <td>102</td>\n",
       "      <td>5500</td>\n",
       "      <td>24</td>\n",
       "      <td>30</td>\n",
       "      <td>13950.0</td>\n",
       "    </tr>\n",
       "    <tr>\n",
       "      <th>4</th>\n",
       "      <td>5</td>\n",
       "      <td>2</td>\n",
       "      <td>audi 100ls</td>\n",
       "      <td>audi</td>\n",
       "      <td>gas</td>\n",
       "      <td>std</td>\n",
       "      <td>four</td>\n",
       "      <td>sedan</td>\n",
       "      <td>4wd</td>\n",
       "      <td>front</td>\n",
       "      <td>...</td>\n",
       "      <td>136</td>\n",
       "      <td>mpfi</td>\n",
       "      <td>3.19</td>\n",
       "      <td>3.40</td>\n",
       "      <td>8.0</td>\n",
       "      <td>115</td>\n",
       "      <td>5500</td>\n",
       "      <td>18</td>\n",
       "      <td>22</td>\n",
       "      <td>17450.0</td>\n",
       "    </tr>\n",
       "  </tbody>\n",
       "</table>\n",
       "<p>5 rows × 27 columns</p>\n",
       "</div>"
      ],
      "text/plain": [
       "   car_ID  symboling                   CarName      company fueltype  \\\n",
       "0       1          3        alfa-romero giulia  alfa-romero      gas   \n",
       "1       2          3       alfa-romero stelvio  alfa-romero      gas   \n",
       "2       3          1  alfa-romero Quadrifoglio  alfa-romero      gas   \n",
       "3       4          2               audi 100 ls         audi      gas   \n",
       "4       5          2                audi 100ls         audi      gas   \n",
       "\n",
       "  aspiration doornumber      carbody drivewheel enginelocation  ...  \\\n",
       "0        std        two  convertible        rwd          front  ...   \n",
       "1        std        two  convertible        rwd          front  ...   \n",
       "2        std        two    hatchback        rwd          front  ...   \n",
       "3        std       four        sedan        fwd          front  ...   \n",
       "4        std       four        sedan        4wd          front  ...   \n",
       "\n",
       "   enginesize  fuelsystem  boreratio  stroke  compressionratio horsepower  \\\n",
       "0         130        mpfi       3.47    2.68               9.0        111   \n",
       "1         130        mpfi       3.47    2.68               9.0        111   \n",
       "2         152        mpfi       2.68    3.47               9.0        154   \n",
       "3         109        mpfi       3.19    3.40              10.0        102   \n",
       "4         136        mpfi       3.19    3.40               8.0        115   \n",
       "\n",
       "  peakrpm  citympg highwaympg    price  \n",
       "0    5000       21         27  13495.0  \n",
       "1    5000       21         27  16500.0  \n",
       "2    5000       19         26  16500.0  \n",
       "3    5500       24         30  13950.0  \n",
       "4    5500       18         22  17450.0  \n",
       "\n",
       "[5 rows x 27 columns]"
      ]
     },
     "execution_count": 73,
     "metadata": {},
     "output_type": "execute_result"
    }
   ],
   "source": [
    "cars.insert(3,'company',companies)\n",
    "cars.head()"
   ]
  },
  {
   "cell_type": "code",
   "execution_count": 74,
   "metadata": {},
   "outputs": [],
   "source": [
    "def replace_name(after, before):\n",
    "    for i in range(0,len(after)):\n",
    "        a = after[i]\n",
    "        b = before[i]\n",
    "        cars.company.replace(b,a,inplace=True)"
   ]
  },
  {
   "cell_type": "code",
   "execution_count": 75,
   "metadata": {},
   "outputs": [
    {
     "name": "stdout",
     "output_type": "stream",
     "text": [
      "['alfa-romero' 'audi' 'bmw' 'chevrolet' 'dodge' 'honda' 'isuzu' 'jaguar'\n",
      " 'mazda' 'buick' 'mercury' 'mitsubishi' 'Nissan' 'nissan' 'peugeot'\n",
      " 'plymouth' 'porsche' 'renault' 'saab' 'subaru' 'toyota' 'volkswagen'\n",
      " 'volvo']\n",
      "Sau khi sử lý còn lại 23 hãng xe\n"
     ]
    }
   ],
   "source": [
    "b = ['maxda','porcshce','toyouta','vokswagen','vw']\n",
    "a = ['mazda','porsche','toyota','volkswagen','volkswagen']\n",
    "replace_name(a,b)\n",
    "print(cars.company.unique())\n",
    "print(f'Sau khi sử lý còn lại {len(cars.company.unique())} hãng xe')"
   ]
  },
  {
   "cell_type": "code",
   "execution_count": 76,
   "metadata": {},
   "outputs": [],
   "source": [
    "count = 0\n",
    "for isdup in cars.duplicated():\n",
    "    if isdup:\n",
    "        print (count,isdup,sep='\\t')\n",
    "    count +=1"
   ]
  },
  {
   "attachments": {},
   "cell_type": "markdown",
   "metadata": {},
   "source": [
    "- Không có hàng nào trùng nhau"
   ]
  },
  {
   "cell_type": "code",
   "execution_count": 82,
   "metadata": {},
   "outputs": [
    {
     "data": {
      "image/png": "[encoded data removed]",
      "text/plain": [
       "<Figure size 2000x800 with 2 Axes>"
      ]
     },
     "metadata": {},
     "output_type": "display_data"
    }
   ],
   "source": [
    "sns.set_theme(style = 'white')\n",
    "\n",
    "plt.figure(figsize=(20,8))\n",
    "plt.subplot(1,2,1)\n",
    "plt.title('Car Price histogram Plot',fontsize = 16)\n",
    "n, bins, patches = plt.hist(cars.price,bins = 14,rwidth = 0.8,align='mid')\n",
    "plt.xticks([i for i in range(5000,47500,2500)],rotation = 45)\n",
    "plt.xlabel('Car Price',fontsize = 14)\n",
    "plt.ylabel('Frequency',fontsize = 14)\n",
    "for i in range(len(patches)):\n",
    "    patch = patches[i]\n",
    "    height = patch.get_height()\n",
    "    v = patch.get_x()\n",
    "    plt.text(patch.get_x() + patch.get_width()/2, height, str(int(height)), ha='center', va='bottom')\n",
    "    if height>20:\n",
    "        plt.text(patch.get_x() + patch.get_width()/2, height/2-2, str(int(round(v,0))) + ' USD', ha='center', va='bottom',rotation=90)\n",
    "\n",
    "plt.subplot(1,2,2) \n",
    "plt.title('Car Price Spread',fontsize = 16) \n",
    "sns.boxplot(x=cars.price)\n",
    "plt.xticks([i for i in range(5000,47500,2500)],rotation = 45)\n",
    "plt.xlabel('Car Price',fontsize = 14)\n",
    "plt.show()"
   ]
  },
  {
   "cell_type": "code",
   "execution_count": 78,
   "metadata": {},
   "outputs": [
    {
     "data": {
      "text/plain": [
       "count      205.000000\n",
       "mean     13276.710571\n",
       "std       7988.852332\n",
       "min       5118.000000\n",
       "25%       7788.000000\n",
       "50%      10295.000000\n",
       "75%      16503.000000\n",
       "max      45400.000000\n",
       "Name: price, dtype: float64"
      ]
     },
     "execution_count": 78,
     "metadata": {},
     "output_type": "execute_result"
    }
   ],
   "source": [
    "cars.price.describe()"
   ]
  },
  {
   "attachments": {},
   "cell_type": "markdown",
   "metadata": {},
   "source": [
    "- Độ lệch chuẩn ~ 8000 USD/chiếc\n",
    "- Giá trung bình khoảng 13000 USD/ chiếc\n",
    "- Tập trung ở phân khúc giá rẻ nhiều (5000-10000 USD/chiếc)\n",
    "- Phân khúc tầm trung khoảng 10000-20000 USD/chiếc"
   ]
  },
  {
   "cell_type": "code",
   "execution_count": 89,
   "metadata": {},
   "outputs": [],
   "source": [
    "car_count = cars.company.value_counts().to_dict()\n",
    "v = cars.groupby(['company','fueltype'])['fueltype'].count().to_dict()\n",
    "di_dict = {}\n",
    "gas_dist = {}\n",
    "for i in v.keys():\n",
    "    if i[1] == 'diesel':\n",
    "        di_dict[i[0]] = v.get(i)\n",
    "    else:\n",
    "        if i[0] not in list(di_dict.keys()):\n",
    "            di_dict[i[0]] = 0\n",
    "\n",
    "    if i[1] == 'gas':\n",
    "        gas_dist[i[0]] = v.get(i)\n",
    "    else:\n",
    "        if i[0] not in list(gas_dist.keys()):\n",
    "            gas_dist[i[0]] = 0\n",
    "\n",
    "list_company = list(car_count.keys())\n",
    "di_dict = {i : di_dict[i] for i in list_company}\n",
    "gas_dist = {i : gas_dist[i] for i in list_company}"
   ]
  },
  {
   "cell_type": "code",
   "execution_count": 96,
   "metadata": {},
   "outputs": [
    {
     "name": "stdout",
     "output_type": "stream",
     "text": [
      "['toyota', 'mazda', 'nissan', 'mitsubishi', 'honda', 'volkswagen', 'subaru', 'peugeot', 'volvo', 'dodge', 'buick', 'bmw', 'audi', 'plymouth', 'saab', 'porsche', 'isuzu', 'jaguar', 'chevrolet', 'alfa-romero', 'renault', 'mercury', 'Nissan']\n",
      "[32, 17, 17, 13, 13, 12, 12, 11, 11, 9, 8, 8, 7, 7, 6, 5, 4, 3, 3, 3, 2, 1, 1]\n"
     ]
    },
    {
     "ename": "TypeError",
     "evalue": "'tuple' object is not callable",
     "output_type": "error",
     "traceback": [
      "\u001b[1;31m---------------------------------------------------------------------------\u001b[0m",
      "\u001b[1;31mTypeError\u001b[0m                                 Traceback (most recent call last)",
      "Cell \u001b[1;32mIn [96], line 9\u001b[0m\n\u001b[0;32m      7\u001b[0m \u001b[39mprint\u001b[39m(x)\n\u001b[0;32m      8\u001b[0m \u001b[39mprint\u001b[39m(y)\n\u001b[1;32m----> 9\u001b[0m pathcher \u001b[39m=\u001b[39m plt\u001b[39m.\u001b[39;49mbar(x,y,alpha \u001b[39m=\u001b[39;49m \u001b[39m0.5\u001b[39;49m)\n\u001b[0;32m     10\u001b[0m \u001b[39mfor\u001b[39;00m i \u001b[39min\u001b[39;00m pathcher:\n\u001b[0;32m     11\u001b[0m     plt\u001b[39m.\u001b[39mtext(i\u001b[39m.\u001b[39mget_x()\u001b[39m+\u001b[39mi\u001b[39m.\u001b[39mget_width()\u001b[39m/\u001b[39m\u001b[39m2\u001b[39m, i\u001b[39m.\u001b[39mget_height()\u001b[39m+\u001b[39m\u001b[39m0.2\u001b[39m,\n\u001b[0;32m     12\u001b[0m              \u001b[39mstr\u001b[39m((i\u001b[39m.\u001b[39mget_height())),\n\u001b[0;32m     13\u001b[0m              fontsize \u001b[39m=\u001b[39m \u001b[39m12\u001b[39m)\n",
      "\u001b[1;31mTypeError\u001b[0m: 'tuple' object is not callable"
     ]
    },
    {
     "data": {
      "image/png": "[encoded data removed]",
      "text/plain": [
       "<Figure size 2000x800 with 1 Axes>"
      ]
     },
     "metadata": {},
     "output_type": "display_data"
    }
   ],
   "source": [
    "car_count = cars.company.value_counts().to_dict()\n",
    "plt.figure(figsize=(20,8))\n",
    "plt.subplot(1,2,1) \n",
    "\n",
    "x = list(car_count.keys())\n",
    "y = list(car_count.values())\n",
    "print(x)\n",
    "print(y)\n",
    "pathcher = plt.bar(x,y,alpha = 0.5)\n",
    "for i in pathcher:\n",
    "    plt.text(i.get_x()+i.get_width()/2, i.get_height()+0.2,\n",
    "             str((i.get_height())),\n",
    "             fontsize = 12)\n",
    "plt.plot(list(car_count.keys()),list(di_dict.values()),label = 'diesel',color='r',marker = '*')\n",
    "plt.plot(list(car_count.keys()),list(gas_dist.values()),label = 'gas',color='b',marker = '*')\n",
    "plt.title('Frequency distribution chart',fontsize = 16)\n",
    "plt.xlabel('Company',fontsize = 14)\n",
    "plt.xticks(rotation=45)\n",
    "plt.ylabel('Frequency',fontsize = 14)\n",
    "plt.legend(fontsize = 14,loc = 'upper right')\n",
    "\n",
    "plt.subplot(1,2,2) \n",
    "carbody_count = cars.carbody.value_counts().to_dict()\n",
    "pathcher =plt.bar(list(carbody_count.keys()),list(carbody_count.values()))\n",
    "for i in pathcher:\n",
    "    plt.text(i.get_x()+i.get_width()/2, i.get_height()+0.2,\n",
    "             str((i.get_height())),\n",
    "             fontsize = 12)\n",
    "plt.title('Frequency distribution chart',fontsize = 16)\n",
    "plt.xlabel('Car body',fontsize = 14)\n",
    "plt.ylabel('Frequency',fontsize = 14)\n",
    "plt.show()\n"
   ]
  },
  {
   "cell_type": "code",
   "execution_count": null,
   "metadata": {},
   "outputs": [
    {
     "data": {
      "text/plain": [
       "['hatchback', 'wagon', 'sedan', 'convertible', 'hardtop']"
      ]
     },
     "execution_count": 33,
     "metadata": {},
     "output_type": "execute_result"
    }
   ],
   "source": [
    "carbody_ser = cars.groupby(['carbody'])['price'].mean().sort_values()\n",
    "company_ser = cars.groupby(['company'])['price'].mean().sort_values()\n",
    "fueltype_ser = cars.groupby(['fueltype'])['price'].mean().sort_values()"
   ]
  },
  {
   "cell_type": "code",
   "execution_count": null,
   "metadata": {},
   "outputs": [],
   "source": [
    "def show_barchart(seri,chartname,xlabel,ylabel,rotation = 0):\n",
    "    plt.bar(list(seri.index),list(seri.values))\n",
    "    plt.title(chartname,fontsize = 16)\n",
    "    plt.xlabel(xlabel,fontsize = 14)\n",
    "    plt.ylabel(ylabel,fontsize = 14)\n",
    "    plt.xticks(rotation = rotation)\n",
    "    plt.show()"
   ]
  },
  {
   "cell_type": "code",
   "execution_count": null,
   "metadata": {},
   "outputs": [
    {
     "ename": "TypeError",
     "evalue": "'tuple' object is not callable",
     "output_type": "error",
     "traceback": [
      "\u001b[1;31m---------------------------------------------------------------------------\u001b[0m",
      "\u001b[1;31mTypeError\u001b[0m                                 Traceback (most recent call last)",
      "Cell \u001b[1;32mIn [49], line 1\u001b[0m\n\u001b[1;32m----> 1\u001b[0m show_barchart(carbody_ser,\u001b[39m'\u001b[39;49m\u001b[39mCarbody vs Average price\u001b[39;49m\u001b[39m'\u001b[39;49m,\u001b[39m'\u001b[39;49m\u001b[39m'\u001b[39;49m,\u001b[39m'\u001b[39;49m\u001b[39m'\u001b[39;49m)\n\u001b[0;32m      2\u001b[0m show_barchart(company_ser,\u001b[39m'\u001b[39m\u001b[39mCompany vs Average price\u001b[39m\u001b[39m'\u001b[39m,\u001b[39m'\u001b[39m\u001b[39m'\u001b[39m,\u001b[39m'\u001b[39m\u001b[39m'\u001b[39m,\u001b[39m45\u001b[39m)\n\u001b[0;32m      3\u001b[0m show_barchart(fueltype_ser,\u001b[39m'\u001b[39m\u001b[39mFueltype vs Average price\u001b[39m\u001b[39m'\u001b[39m,\u001b[39m'\u001b[39m\u001b[39m'\u001b[39m,\u001b[39m'\u001b[39m\u001b[39m'\u001b[39m)\n",
      "Cell \u001b[1;32mIn [48], line 2\u001b[0m, in \u001b[0;36mshow_barchart\u001b[1;34m(seri, chartname, xlabel, ylabel, rotation)\u001b[0m\n\u001b[0;32m      1\u001b[0m \u001b[39mdef\u001b[39;00m \u001b[39mshow_barchart\u001b[39m(seri,chartname,xlabel,ylabel,rotation \u001b[39m=\u001b[39m \u001b[39m0\u001b[39m):\n\u001b[1;32m----> 2\u001b[0m     plt\u001b[39m.\u001b[39;49mbar(\u001b[39mlist\u001b[39;49m(seri\u001b[39m.\u001b[39;49mindex),\u001b[39mlist\u001b[39;49m(seri\u001b[39m.\u001b[39;49mvalues))\n\u001b[0;32m      3\u001b[0m     plt\u001b[39m.\u001b[39mtitle(chartname,fontsize \u001b[39m=\u001b[39m \u001b[39m16\u001b[39m)\n\u001b[0;32m      4\u001b[0m     plt\u001b[39m.\u001b[39mxlabel(xlabel,fontsize \u001b[39m=\u001b[39m \u001b[39m14\u001b[39m)\n",
      "\u001b[1;31mTypeError\u001b[0m: 'tuple' object is not callable"
     ]
    }
   ],
   "source": [
    "show_barchart(carbody_ser,'Carbody vs Average price','','')\n",
    "show_barchart(company_ser,'Company vs Average price','','',45)\n",
    "show_barchart(fueltype_ser,'Fueltype vs Average price','','')"
   ]
  },
  {
   "attachments": {},
   "cell_type": "markdown",
   "metadata": {},
   "source": [
    "- Toyota là hãng xe chiếm thị phần cao nhất.\n",
    "- Loại thân xe Sedan, hatchback bán chạy nhất.\n",
    "- Xe sử dụng loại nhiên liệu gas bán chạy hơn nhiều so với xe sử dụng loại nhiên liệu diesel"
   ]
  },
  {
   "cell_type": "code",
   "execution_count": 81,
   "metadata": {},
   "outputs": [
    {
     "ename": "TypeError",
     "evalue": "'tuple' object is not callable",
     "output_type": "error",
     "traceback": [
      "\u001b[1;31m---------------------------------------------------------------------------\u001b[0m",
      "\u001b[1;31mTypeError\u001b[0m                                 Traceback (most recent call last)",
      "Cell \u001b[1;32mIn [81], line 7\u001b[0m\n\u001b[0;32m      5\u001b[0m plt\u001b[39m.\u001b[39mtitle(\u001b[39m'\u001b[39m\u001b[39msymboling bar Plot\u001b[39m\u001b[39m'\u001b[39m,fontsize \u001b[39m=\u001b[39m \u001b[39m16\u001b[39m)\n\u001b[0;32m      6\u001b[0m symbol_count \u001b[39m=\u001b[39m cars\u001b[39m.\u001b[39msymboling\u001b[39m.\u001b[39mvalue_counts()\u001b[39m.\u001b[39mto_dict()\n\u001b[1;32m----> 7\u001b[0m pathcher \u001b[39m=\u001b[39mplt\u001b[39m.\u001b[39;49mbar(\u001b[39mlist\u001b[39;49m(symbol_count\u001b[39m.\u001b[39;49mkeys()),\u001b[39mlist\u001b[39;49m(symbol_count\u001b[39m.\u001b[39;49mvalues()))\n\u001b[0;32m      8\u001b[0m \u001b[39mfor\u001b[39;00m i \u001b[39min\u001b[39;00m pathcher:\n\u001b[0;32m      9\u001b[0m     plt\u001b[39m.\u001b[39mtext(i\u001b[39m.\u001b[39mget_x()\u001b[39m+\u001b[39mi\u001b[39m.\u001b[39mget_width()\u001b[39m/\u001b[39m\u001b[39m2\u001b[39m, i\u001b[39m.\u001b[39mget_height()\u001b[39m+\u001b[39m\u001b[39m0.2\u001b[39m,\n\u001b[0;32m     10\u001b[0m              \u001b[39mstr\u001b[39m((i\u001b[39m.\u001b[39mget_height())),\n\u001b[0;32m     11\u001b[0m              fontsize \u001b[39m=\u001b[39m \u001b[39m12\u001b[39m)\n",
      "\u001b[1;31mTypeError\u001b[0m: 'tuple' object is not callable"
     ]
    },
    {
     "data": {
      "image/png": "[encoded data removed]",
      "text/plain": [
       "<Figure size 2000x800 with 1 Axes>"
      ]
     },
     "metadata": {},
     "output_type": "display_data"
    }
   ],
   "source": [
    "sns.set_theme(style = 'white')\n",
    "\n",
    "plt.figure(figsize=(20,8))\n",
    "plt.subplot(1,2,1)\n",
    "plt.title('symboling bar Plot',fontsize = 16)\n",
    "symbol_count = cars.symboling.value_counts().to_dict()\n",
    "pathcher =plt.bar(list(symbol_count.keys()),list(symbol_count.values()))\n",
    "for i in pathcher:\n",
    "    plt.text(i.get_x()+i.get_width()/2, i.get_height()+0.2,\n",
    "             str((i.get_height())),\n",
    "             fontsize = 12)\n",
    "plt.xlabel('Symboling',fontsize = 14)\n",
    "plt.ylabel('Frequency',fontsize = 14)\n",
    "\n",
    "\n",
    "plt.subplot(1,2,2) \n",
    "plt.title('Car Price Spread',fontsize = 16) \n",
    "sns.boxplot(x=cars.symboling,y=cars.price)\n",
    "plt.yticks([i for i in range(5000,47500,2500)])\n",
    "plt.xlabel('Symboling',fontsize = 14)\n",
    "plt.ylabel('Car Price',fontsize = 14)\n",
    "plt.show()"
   ]
  }
 ],
 "metadata": {
  "kernelspec": {
   "display_name": "Python 3",
   "language": "python",
   "name": "python3"
  },
  "language_info": {
   "codemirror_mode": {
    "name": "ipython",
    "version": 3
   },
   "file_extension": ".py",
   "mimetype": "text/x-python",
   "name": "python",
   "nbconvert_exporter": "python",
   "pygments_lexer": "ipython3",
   "version": "3.10.8"
  },
  "orig_nbformat": 4,
  "vscode": {
   "interpreter": {
    "hash": "69bdb29fa5b284b7c766c6014f8dd1955f741bad82f646884d6bfd8516008893"
   }
  }
 },
 "nbformat": 4,
 "nbformat_minor": 2
}
