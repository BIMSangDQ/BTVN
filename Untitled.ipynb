{
 "cells": [
  {
   "cell_type": "code",
   "execution_count": 1,
   "id": "b259ef58",
   "metadata": {},
   "outputs": [],
   "source": [
    "# Bài 1: Theo luật từ năm 2020 thuế suất thu nhập cá nhân được tính như sau:\n",
    "#         Nếu phần thu nhập tính thuế/tháng đến 5 triệu thì thuế suất là 5%.\n",
    "#         Trên 5 triệu đến 10 triệu thì thuế suất là 10%.\n",
    "#         Trên 10 triệu đến 18 triệu là 15%.\n",
    "#         Trên 18 triệu đến 32 triệu là 20%.\n",
    "#         Trên 32 triệu đến 52 triệu là 25%.\n",
    "#         Trên 52 triệu đến 80 triệu là 30%.\n",
    "#         Trên 80 triệu là 35%.\n",
    "\n"
   ]
  },
  {
   "cell_type": "code",
   "execution_count": null,
   "id": "67b6f14c",
   "metadata": {},
   "outputs": [],
   "source": []
  }
 ],
 "metadata": {
  "kernelspec": {
   "display_name": "Python 3",
   "language": "python",
   "name": "python3"
  },
  "language_info": {
   "codemirror_mode": {
    "name": "ipython",
    "version": 3
   },
   "file_extension": ".py",
   "mimetype": "text/x-python",
   "name": "python",
   "nbconvert_exporter": "python",
   "pygments_lexer": "ipython3",
   "version": "3.8.8"
  }
 },
 "nbformat": 4,
 "nbformat_minor": 5
}
