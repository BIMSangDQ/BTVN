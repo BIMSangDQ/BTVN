{
 "cells": [
  {
   "cell_type": "code",
   "execution_count": 2,
   "id": "9ec1819e",
   "metadata": {},
   "outputs": [
    {
     "name": "stdout",
     "output_type": "stream",
     "text": [
      "5200000\n"
     ]
    }
   ],
   "source": [
    "Luong = 25000000\n",
    "SoNguoiPhuThuoc =2\n",
    "\n",
    "ThuNhapTinhThue = Luong - 11000000 - SoNguoiPhuThuoc*4400000\n",
    "print(ThuNhapTinhThue)"
   ]
  },
  {
   "cell_type": "code",
   "execution_count": null,
   "id": "0518363b",
   "metadata": {},
   "outputs": [],
   "source": []
  }
 ],
 "metadata": {
  "kernelspec": {
   "display_name": "Python 3",
   "language": "python",
   "name": "python3"
  },
  "language_info": {
   "codemirror_mode": {
    "name": "ipython",
    "version": 3
   },
   "file_extension": ".py",
   "mimetype": "text/x-python",
   "name": "python",
   "nbconvert_exporter": "python",
   "pygments_lexer": "ipython3",
   "version": "3.8.8"
  }
 },
 "nbformat": 4,
 "nbformat_minor": 5
}
