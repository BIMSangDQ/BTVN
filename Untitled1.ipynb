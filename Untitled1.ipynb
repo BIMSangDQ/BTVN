{
 "cells": [
  {
   "cell_type": "code",
   "execution_count": 6,
   "id": "4ffd4cdb",
   "metadata": {},
   "outputs": [
    {
     "name": "stdout",
     "output_type": "stream",
     "text": [
      "(2.0, -0.75)\n"
     ]
    }
   ],
   "source": [
    "def gtb2(a,b,c):\n",
    "    \"\"\"\n",
    "    Hàm giải phương trình bậc 2: ax^2 + bx + c = 0\n",
    "    \n",
    "    parameters:\n",
    "    a(float): Hệ số bậc 2\n",
    "    b(float): Hệ số bậc 1\n",
    "    c(float): Hệ số bậc 0\n",
    "    \n",
    "    returns:\n",
    "    - (-1, None, None): vô nghiệm\n",
    "    - (1,x1, x2): có 2 nghiệm\n",
    "    - (0, None, None) vô số nghiệm\n",
    "    \"\"\"\n",
    "    \n",
    "    import math\n",
    "    if (a == 0 and b ==0):\n",
    "        return None\n",
    "    elif (a==0):\n",
    "        return -c/b\n",
    "    else:\n",
    "        delta = b**2 - 4*a*c\n",
    "        if delta < 0:\n",
    "            return None\n",
    "        elif delta == 0:\n",
    "            return -b/(2*a)\n",
    "        else:\n",
    "            x1 = (-b + math.sqrt(delta))/(2*a)\n",
    "            x2 = (-b - math.sqrt(delta))/(2*a)\n",
    "            return x1,x2\n",
    "        \n",
    "print(gtb2(4,-5,-6))"
   ]
  },
  {
   "cell_type": "code",
   "execution_count": null,
   "id": "7f883c49",
   "metadata": {},
   "outputs": [],
   "source": [
    "def gtb2c2(a,b,c):\n",
    "    \"\"\"\n",
    "    Hàm giải phương trình bậc 2: ax^2 + bx + c = 0\n",
    "    \n",
    "    parameters:\n",
    "    - a(float): Hệ số bậc 2\n",
    "    - b(float): Hệ số bậc 1\n",
    "    - c(float): Hệ số bậc 0\n",
    "    \n",
    "    returns:\n",
    "    - (-1, None, None): vô nghiệm\n",
    "    - (0, None, None) vô số nghiệm\n",
    "    - (1, x1, x2): có 2 nghiệm\n",
    "    - (2, x1, None): có 2 nghiệm    \n",
    "    \"\"\"\n",
    "    \n",
    "    if a==0:\n",
    "        if b==0:\n",
    "            if c == 0:\n",
    "                return 0,None,None\n",
    "            else:\n",
    "                return -1,None,None\n",
    "        else:\n",
    "            return 2, -c/b,None\n",
    "    else:\n",
    "        delta = b**2 - 4*a*c\n",
    "        if delta < 0:\n",
    "            return -1,None,None\n",
    "        elif delta == 0:\n",
    "            return 2,-b/(2*a),None\n",
    "        else:\n",
    "            x1 = (-b + math.sqrt(delta))/(2*a)\n",
    "            x2 = (-b - math.sqrt(delta))/(2*a)\n",
    "            return 1,x1,x2"
   ]
  }
 ],
 "metadata": {
  "kernelspec": {
   "display_name": "Python 3",
   "language": "python",
   "name": "python3"
  },
  "language_info": {
   "codemirror_mode": {
    "name": "ipython",
    "version": 3
   },
   "file_extension": ".py",
   "mimetype": "text/x-python",
   "name": "python",
   "nbconvert_exporter": "python",
   "pygments_lexer": "ipython3",
   "version": "3.8.8"
  }
 },
 "nbformat": 4,
 "nbformat_minor": 5
}
