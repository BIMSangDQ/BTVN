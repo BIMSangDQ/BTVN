{
 "cells": [
  {
   "cell_type": "code",
   "execution_count": 1,
   "id": "348564fe",
   "metadata": {
    "scrolled": true
   },
   "outputs": [
    {
     "name": "stdout",
     "output_type": "stream",
     "text": [
      "Nhập năm cần xem:2022\n"
     ]
    }
   ],
   "source": [
    "import turtle\n",
    "import calendar\n",
    "import datetime\n",
    "\n",
    "t=turtle.Turtle()\n",
    "t.hideturtle()\n",
    "\n",
    "#mm = int(input(\"Nhập tháng cần xem:\"))\n",
    "yy = int(input(\"Nhập năm cần xem:\"))\n",
    "\n",
    "def go_to(x,y):\n",
    "    \"\"\"\n",
    "    Hàm di chuyển con trỏ không để lại nét vẽ\n",
    "    \n",
    "    Parameters:\n",
    "    x(float) : Hoành độ của điểm đến\n",
    "    y(float) : Tung độ của điểm đến\n",
    "    \"\"\"\n",
    "    t.penup()\n",
    "    t.goto(x,y)\n",
    "    t.pendown()\n",
    "\n",
    "def write_text(x,y,style,text):\n",
    "    \"\"\"\n",
    "    Hàm ghi chữ tại 1 điểm\n",
    "    \n",
    "    Parameters:\n",
    "    x(float) : Hoành độ của điểm đến\n",
    "    y(float) : Tung độ của điểm đến\n",
    "    style: Style của text muốn viết\n",
    "    text(str) : Nội dung text muốn ghi\n",
    "    \"\"\"\n",
    "    go_to(x,y)\n",
    "    t.write(text,move = False, font = style,align = 'left')\n",
    "\n",
    "t.speed(10)\n",
    "startX = -900\n",
    "startY = 300\n",
    "spaceX = 50\n",
    "space = 35\n",
    "chars = \"SMTWTFS\"\n",
    "style = ('Arial', 20)\n",
    "\n",
    "t.pencolor('red')\n",
    "write_text(-100,400,('Arial', 50, 'italic'),str(yy))\n",
    "\n",
    "calendar.setfirstweekday(calendar.SUNDAY)\n",
    "for q in range(3):\n",
    "    for mm in range(1,5,1):\n",
    "        \n",
    "        allWeekOfMonth = calendar.monthcalendar(yy,mm+4*q)\n",
    "        x=startX\n",
    "        y=startY\n",
    "\n",
    "        for i in range(7):\n",
    "            t.pencolor(\"red\") if i == 0 else t.pencolor(\"black\")\n",
    "            write_text(x,y,style,chars[i])\n",
    "            x += spaceX\n",
    "\n",
    "        go_to(x,y)\n",
    "        t.goto(startX,startY)\n",
    "\n",
    "        x=startX\n",
    "        y -=space\n",
    "        go_to(x,y)\n",
    "        for week in allWeekOfMonth:\n",
    "            y= startY - space if len(allWeekOfMonth)==6 and week == allWeekOfMonth[5] else y\n",
    "            for dayOfMonth in week:\n",
    "                if dayOfMonth !=0:\n",
    "                    t.pencolor(\"red\") if datetime.datetime(yy,mm+4*q,dayOfMonth).weekday() == 6 else t.pencolor(\"black\")\n",
    "                    write_text(x,y,style,str(dayOfMonth))\n",
    "                x+=spaceX\n",
    "            x=startX\n",
    "            y-=space\n",
    "\n",
    "        t.pencolor(\"black\")\n",
    "        go_to(startX+spaceX*7,startY+space)\n",
    "        t.write(datetime.datetime(yy,mm+4*q,1).strftime(\"%B\"),move = False, font=('Arial', 50, 'bold'),align = 'right')\n",
    "\n",
    "        startX += 450\n",
    "    startX = -900\n",
    "    startY -=300\n",
    "    \n",
    "turtle.done()    "
   ]
  },
  {
   "cell_type": "code",
   "execution_count": null,
   "id": "9aaa5cce",
   "metadata": {
    "scrolled": true
   },
   "outputs": [],
   "source": [
    "def max_even_number(_string):\n",
    "    \"\"\"\n",
    "    Hàm tìm số chẵn lớn nhất hoặc số lẻ bé nhất\n",
    "    \n",
    "    Parameters:\n",
    "    _string(str) : Chuỗi cần tìm kiếm\n",
    "    \n",
    "    Returns:\n",
    "    int: Số chẵn lớn nhất và số lẻ bé\n",
    "    \"\"\"\n",
    "    even_number = None\n",
    "    odd_number = None\n",
    "    numbers = _string.split()\n",
    "    for number in numbers:\n",
    "       if number.isnumeric():\n",
    "            if int(number)%2==0:\n",
    "                even_number = int(number) if even_number == None else even_number if even_number > int(number) else int(number)\n",
    "            else:\n",
    "                odd_number = int(number) if odd_number == None else odd_number if odd_number < int(number) else int(number)\n",
    "    return even_number,odd_number\n",
    "                \n",
    "max_even_number(\"abd 34 tr13 85 sh 342 21 def\")"
   ]
  },
  {
   "cell_type": "code",
   "execution_count": null,
   "id": "974c3390",
   "metadata": {},
   "outputs": [],
   "source": []
  }
 ],
 "metadata": {
  "kernelspec": {
   "display_name": "Python 3 (ipykernel)",
   "language": "python",
   "name": "python3"
  },
  "language_info": {
   "codemirror_mode": {
    "name": "ipython",
    "version": 3
   },
   "file_extension": ".py",
   "mimetype": "text/x-python",
   "name": "python",
   "nbconvert_exporter": "python",
   "pygments_lexer": "ipython3",
   "version": "3.9.12"
  }
 },
 "nbformat": 4,
 "nbformat_minor": 5
}
