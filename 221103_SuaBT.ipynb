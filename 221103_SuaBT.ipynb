{
 "cells": [
  {
   "cell_type": "code",
   "execution_count": null,
   "id": "bd48d52b",
   "metadata": {},
   "outputs": [],
   "source": [
    "import pandas as pd\n",
    "df = pd.read_excel(\"Data/students.xlsx\")\n",
    "df"
   ]
  },
  {
   "cell_type": "markdown",
   "id": "0d097465",
   "metadata": {},
   "source": [
    "### Có bao nhiêu học sinh ở từng tỉnh thành tham gia?"
   ]
  },
  {
   "cell_type": "code",
   "execution_count": 4,
   "id": "245801e7",
   "metadata": {},
   "outputs": [
    {
     "data": {
      "text/plain": [
       "Quê quán\n",
       "Bắc Ninh      2\n",
       "Hà Nam        1\n",
       "Hà Nội        4\n",
       "Nam Định      1\n",
       "Quảng Bình    1\n",
       "Thái Bình     1\n",
       "Name: Mã học sinh, dtype: int64"
      ]
     },
     "execution_count": 4,
     "metadata": {},
     "output_type": "execute_result"
    }
   ],
   "source": [
    "df.groupby('Quê quán')['Mã học sinh'].count()"
   ]
  },
  {
   "cell_type": "markdown",
   "id": "64a8a739",
   "metadata": {},
   "source": [
    "### Học sinh lớn tuổi nhất"
   ]
  },
  {
   "cell_type": "code",
   "execution_count": null,
   "id": "8bd8283c",
   "metadata": {},
   "outputs": [],
   "source": []
  },
  {
   "cell_type": "markdown",
   "id": "493bfc01",
   "metadata": {},
   "source": [
    "### Học sinh nhỏ tuổi nhất "
   ]
  },
  {
   "cell_type": "code",
   "execution_count": null,
   "id": "2a558dc1",
   "metadata": {},
   "outputs": [],
   "source": []
  },
  {
   "cell_type": "markdown",
   "id": "f5b387ec",
   "metadata": {},
   "source": [
    "### Chia phổ điểm từ 0-10 thành 10 đoạn.\n",
    "### Tính số lượng sinh viên có điểm từng môn trong các phổ trên"
   ]
  },
  {
   "cell_type": "code",
   "execution_count": null,
   "id": "3f4f8d7e",
   "metadata": {},
   "outputs": [],
   "source": []
  },
  {
   "cell_type": "markdown",
   "id": "baa0cefb",
   "metadata": {},
   "source": [
    "### Thêm cột điểm trung bình"
   ]
  },
  {
   "cell_type": "code",
   "execution_count": null,
   "id": "64324bd2",
   "metadata": {},
   "outputs": [],
   "source": []
  }
 ],
 "metadata": {
  "kernelspec": {
   "display_name": "Python 3",
   "language": "python",
   "name": "python3"
  },
  "language_info": {
   "codemirror_mode": {
    "name": "ipython",
    "version": 3
   },
   "file_extension": ".py",
   "mimetype": "text/x-python",
   "name": "python",
   "nbconvert_exporter": "python",
   "pygments_lexer": "ipython3",
   "version": "3.8.8"
  }
 },
 "nbformat": 4,
 "nbformat_minor": 5
}
