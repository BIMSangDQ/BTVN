{
 "cells": [
  {
   "cell_type": "code",
   "execution_count": 442,
   "metadata": {},
   "outputs": [],
   "source": [
    "import matplotlib.pyplot as plt\n",
    "import numpy as np\n",
    "import pandas as pd\n",
    "import seaborn as sns\n",
    "import scipy.stats as stats"
   ]
  },
  {
   "cell_type": "code",
   "execution_count": 443,
   "metadata": {},
   "outputs": [
    {
     "data": {
      "text/html": [
       "<div>\n",
       "<style scoped>\n",
       "    .dataframe tbody tr th:only-of-type {\n",
       "        vertical-align: middle;\n",
       "    }\n",
       "\n",
       "    .dataframe tbody tr th {\n",
       "        vertical-align: top;\n",
       "    }\n",
       "\n",
       "    .dataframe thead th {\n",
       "        text-align: right;\n",
       "    }\n",
       "</style>\n",
       "<table border=\"1\" class=\"dataframe\">\n",
       "  <thead>\n",
       "    <tr style=\"text-align: right;\">\n",
       "      <th></th>\n",
       "      <th>sepal_length</th>\n",
       "      <th>sepal_width</th>\n",
       "      <th>petal_length</th>\n",
       "      <th>petal_width</th>\n",
       "      <th>species</th>\n",
       "    </tr>\n",
       "  </thead>\n",
       "  <tbody>\n",
       "    <tr>\n",
       "      <th>0</th>\n",
       "      <td>5.1</td>\n",
       "      <td>3.5</td>\n",
       "      <td>1.4</td>\n",
       "      <td>0.2</td>\n",
       "      <td>setosa</td>\n",
       "    </tr>\n",
       "    <tr>\n",
       "      <th>1</th>\n",
       "      <td>4.9</td>\n",
       "      <td>3.0</td>\n",
       "      <td>1.4</td>\n",
       "      <td>0.2</td>\n",
       "      <td>setosa</td>\n",
       "    </tr>\n",
       "    <tr>\n",
       "      <th>2</th>\n",
       "      <td>4.7</td>\n",
       "      <td>3.2</td>\n",
       "      <td>1.3</td>\n",
       "      <td>0.2</td>\n",
       "      <td>setosa</td>\n",
       "    </tr>\n",
       "    <tr>\n",
       "      <th>3</th>\n",
       "      <td>4.6</td>\n",
       "      <td>3.1</td>\n",
       "      <td>1.5</td>\n",
       "      <td>0.2</td>\n",
       "      <td>setosa</td>\n",
       "    </tr>\n",
       "    <tr>\n",
       "      <th>4</th>\n",
       "      <td>5.0</td>\n",
       "      <td>3.6</td>\n",
       "      <td>1.4</td>\n",
       "      <td>0.2</td>\n",
       "      <td>setosa</td>\n",
       "    </tr>\n",
       "  </tbody>\n",
       "</table>\n",
       "</div>"
      ],
      "text/plain": [
       "   sepal_length  sepal_width  petal_length  petal_width species\n",
       "0           5.1          3.5           1.4          0.2  setosa\n",
       "1           4.9          3.0           1.4          0.2  setosa\n",
       "2           4.7          3.2           1.3          0.2  setosa\n",
       "3           4.6          3.1           1.5          0.2  setosa\n",
       "4           5.0          3.6           1.4          0.2  setosa"
      ]
     },
     "execution_count": 443,
     "metadata": {},
     "output_type": "execute_result"
    }
   ],
   "source": [
    "iris = sns.load_dataset(\"iris\")\n",
    "iris.head()"
   ]
  },
  {
   "attachments": {},
   "cell_type": "markdown",
   "metadata": {},
   "source": [
    "### <b>1. Kiểm định giả thuyết cho rằng chiều dài đài hoa trung bình của loài setosa là 5.0, độ rộng đài hoa versicolor là 3.5 và chiều dài cánh hoa của virginica là 1.4. Tiến hành kiểm định dựa trên tập mẫu gồm 25 dòng thông tin đầu tiên của mỗi loài hoa</b>"
   ]
  },
  {
   "attachments": {},
   "cell_type": "markdown",
   "metadata": {},
   "source": [
    "    - H0: Chiều dài đài hoa trung bình của loài setosa là 5.0\n",
    "    - HA: Chiều dài đài hoa trung bình của loài setosa khác 5.0"
   ]
  },
  {
   "attachments": {},
   "cell_type": "markdown",
   "metadata": {},
   "source": [
    "- Chọn mức í nghĩa là 5%\n",
    "-  Phương pháp kiểm định <b>One sample T-test</b>"
   ]
  },
  {
   "cell_type": "code",
   "execution_count": 444,
   "metadata": {},
   "outputs": [
    {
     "data": {
      "text/plain": [
       "array([5.1, 4.9, 4.7, 4.6, 5. , 5.4, 4.6, 5. , 4.4, 4.9, 5.4, 4.8, 4.8,\n",
       "       4.3, 5.8, 5.7, 5.4, 5.1, 5.7, 5.1, 5.4, 5.1, 4.6, 5.1, 4.8])"
      ]
     },
     "execution_count": 444,
     "metadata": {},
     "output_type": "execute_result"
    }
   ],
   "source": [
    "setosa=iris[iris['species'].str.contains('setosa')]['sepal_length'][0:25]\n",
    "setosa = np.array(setosa)\n",
    "setosa"
   ]
  },
  {
   "cell_type": "code",
   "execution_count": 445,
   "metadata": {},
   "outputs": [
    {
     "name": "stdout",
     "output_type": "stream",
     "text": [
      "t_statistic 0.3495270022268392\n",
      "p_value 0.7297421135161855\n"
     ]
    }
   ],
   "source": [
    "t_statistic, p_value = stats.ttest_1samp(a=setosa,popmean=5)\n",
    "print('t_statistic',t_statistic)\n",
    "print ('p_value',p_value)"
   ]
  },
  {
   "cell_type": "code",
   "execution_count": 446,
   "metadata": {},
   "outputs": [
    {
     "name": "stdout",
     "output_type": "stream",
     "text": [
      "Vì Pvalue = 0.7297421135161855 > alpha = 0.05.\n",
      "H0 được chấp nhận: chiều dài trung bình đài hoa setosa là 5.0\n"
     ]
    }
   ],
   "source": [
    "if p_value > 0.05:\n",
    "    print(f'Vì Pvalue = {p_value} > alpha = 0.05.\\nH0 được chấp nhận: chiều dài trung bình đài hoa setosa là 5.0')\n",
    "else:\n",
    "        print(f'Vì Pvalue = {p_value} < alpha = 0.05.\\nKhông đủ cơ sở để H0 được chấp nhận: chiều dài trung bình đài hoa setosa không phải là 5.0')"
   ]
  },
  {
   "cell_type": "code",
   "execution_count": 447,
   "metadata": {},
   "outputs": [
    {
     "data": {
      "text/plain": [
       "5.006"
      ]
     },
     "execution_count": 447,
     "metadata": {},
     "output_type": "execute_result"
    }
   ],
   "source": [
    "iris[iris['species'].str.contains('setosa')]['sepal_length'].mean()"
   ]
  },
  {
   "attachments": {},
   "cell_type": "markdown",
   "metadata": {},
   "source": [
    "    - H0: độ rộng đài hoa trung bình của loài versicolor là 3.5\n",
    "    - HA: độ rộng đài hoa trung bình của loài versicolor khác 3.5"
   ]
  },
  {
   "attachments": {},
   "cell_type": "markdown",
   "metadata": {},
   "source": [
    "- Chọn mức í nghĩa là 5%\n",
    "-  Phương pháp kiểm định <b>One sample T-test</b>"
   ]
  },
  {
   "cell_type": "code",
   "execution_count": 448,
   "metadata": {},
   "outputs": [
    {
     "name": "stderr",
     "output_type": "stream",
     "text": [
      "C:\\Users\\Admin-s\\AppData\\Local\\Temp\\ipykernel_4476\\1525248993.py:1: FutureWarning: The behavior of `series[i:j]` with an integer-dtype index is deprecated. In a future version, this will be treated as *label-based* indexing, consistent with e.g. `series[i]` lookups. To retain the old behavior, use `series.iloc[i:j]`. To get the future behavior, use `series.loc[i:j]`.\n",
      "  versicolor=iris[iris['species'].str.contains('versicolor')]['sepal_width'][0:25]\n"
     ]
    },
    {
     "data": {
      "text/plain": [
       "array([3.2, 3.2, 3.1, 2.3, 2.8, 2.8, 3.3, 2.4, 2.9, 2.7, 2. , 3. , 2.2,\n",
       "       2.9, 2.9, 3.1, 3. , 2.7, 2.2, 2.5, 3.2, 2.8, 2.5, 2.8, 2.9])"
      ]
     },
     "execution_count": 448,
     "metadata": {},
     "output_type": "execute_result"
    }
   ],
   "source": [
    "versicolor=iris[iris['species'].str.contains('versicolor')]['sepal_width'][0:25]\n",
    "versicolor = np.array(versicolor)\n",
    "versicolor"
   ]
  },
  {
   "cell_type": "code",
   "execution_count": 449,
   "metadata": {},
   "outputs": [
    {
     "name": "stdout",
     "output_type": "stream",
     "text": [
      "t_statistic -10.26356838593974\n",
      "p_value 2.950231929091389e-10\n"
     ]
    }
   ],
   "source": [
    "t_statistic, p_value = stats.ttest_1samp(a=versicolor,popmean=3.5)\n",
    "print('t_statistic',t_statistic)\n",
    "print ('p_value',p_value)"
   ]
  },
  {
   "cell_type": "code",
   "execution_count": 450,
   "metadata": {},
   "outputs": [
    {
     "name": "stdout",
     "output_type": "stream",
     "text": [
      "Vì Pvalue = 2.950231929091389e-10 < alpha = 0.05.\n",
      "Không đủ cơ sở để H0 được chấp nhận: độ rộng đài hoa trung bình của loài versicolor không phải 3.5\n"
     ]
    }
   ],
   "source": [
    "if p_value > 0.05:\n",
    "    print(f'Vì Pvalue = {p_value} > alpha = 0.05.\\nH0 được chấp nhận: độ rộng đài hoa trung bình của loài versicolor là 3.5')\n",
    "else:\n",
    "        print(f'Vì Pvalue = {p_value} < alpha = 0.05.\\nKhông đủ cơ sở để H0 được chấp nhận: độ rộng đài hoa trung bình của loài versicolor không phải 3.5')"
   ]
  },
  {
   "cell_type": "code",
   "execution_count": 451,
   "metadata": {},
   "outputs": [
    {
     "data": {
      "text/plain": [
       "2.7700000000000005"
      ]
     },
     "execution_count": 451,
     "metadata": {},
     "output_type": "execute_result"
    }
   ],
   "source": [
    "iris[iris['species'].str.contains('versicolor')]['sepal_width'].mean()"
   ]
  },
  {
   "attachments": {},
   "cell_type": "markdown",
   "metadata": {},
   "source": [
    "    - H0: chiều dài cánh hoa trung bình của loài virginica là 1.4\n",
    "    - HA: chiều dài cánh hoa trung bình của loài virginica khác 1.4"
   ]
  },
  {
   "attachments": {},
   "cell_type": "markdown",
   "metadata": {},
   "source": [
    "- Chọn mức í nghĩa là 5%\n",
    "-  Phương pháp kiểm định <b>One sample T-test</b>"
   ]
  },
  {
   "cell_type": "code",
   "execution_count": 452,
   "metadata": {},
   "outputs": [
    {
     "data": {
      "text/plain": [
       "array(['setosa', 'versicolor', 'virginica'], dtype=object)"
      ]
     },
     "execution_count": 452,
     "metadata": {},
     "output_type": "execute_result"
    }
   ],
   "source": [
    "iris['species'].unique()"
   ]
  },
  {
   "cell_type": "code",
   "execution_count": 453,
   "metadata": {},
   "outputs": [
    {
     "name": "stderr",
     "output_type": "stream",
     "text": [
      "C:\\Users\\Admin-s\\AppData\\Local\\Temp\\ipykernel_4476\\54936209.py:1: FutureWarning: The behavior of `series[i:j]` with an integer-dtype index is deprecated. In a future version, this will be treated as *label-based* indexing, consistent with e.g. `series[i]` lookups. To retain the old behavior, use `series.iloc[i:j]`. To get the future behavior, use `series.loc[i:j]`.\n",
      "  verginica=iris[iris['species'].str.contains('virginica')]['petal_length'][0:25]\n"
     ]
    },
    {
     "data": {
      "text/plain": [
       "array([6. , 5.1, 5.9, 5.6, 5.8, 6.6, 4.5, 6.3, 5.8, 6.1, 5.1, 5.3, 5.5,\n",
       "       5. , 5.1, 5.3, 5.5, 6.7, 6.9, 5. , 5.7, 4.9, 6.7, 4.9, 5.7])"
      ]
     },
     "execution_count": 453,
     "metadata": {},
     "output_type": "execute_result"
    }
   ],
   "source": [
    "verginica=iris[iris['species'].str.contains('virginica')]['petal_length'][0:25]\n",
    "verginica = np.array(verginica)\n",
    "verginica"
   ]
  },
  {
   "cell_type": "code",
   "execution_count": 454,
   "metadata": {},
   "outputs": [
    {
     "name": "stdout",
     "output_type": "stream",
     "text": [
      "t_statistic 32.8101050594474\n",
      "p_value 1.8843793148369172e-21\n"
     ]
    }
   ],
   "source": [
    "t_statistic, p_value = stats.ttest_1samp(a=verginica,popmean=1.4)\n",
    "print('t_statistic',t_statistic)\n",
    "print ('p_value',p_value)"
   ]
  },
  {
   "cell_type": "code",
   "execution_count": 455,
   "metadata": {},
   "outputs": [
    {
     "name": "stdout",
     "output_type": "stream",
     "text": [
      "Vì Pvalue = 1.8843793148369172e-21 < alpha = 0.05.\n",
      "Không đủ cơ sở để H0 được chấp nhận: chiều dài cánh hoa trung bình của loài verginica không phải là 1.4\n"
     ]
    }
   ],
   "source": [
    "if p_value > 0.05:\n",
    "    print(f'Vì Pvalue = {p_value} > alpha = 0.05.\\nH0 được chấp nhận: chiều dài cánh hoa trung bình của loài verginica là 1.4')\n",
    "else:\n",
    "        print(f'Vì Pvalue = {p_value} < alpha = 0.05.\\nKhông đủ cơ sở để H0 được chấp nhận: chiều dài cánh hoa trung bình của loài verginica không phải là 1.4')"
   ]
  },
  {
   "cell_type": "code",
   "execution_count": 456,
   "metadata": {},
   "outputs": [
    {
     "data": {
      "text/plain": [
       "5.5520000000000005"
      ]
     },
     "execution_count": 456,
     "metadata": {},
     "output_type": "execute_result"
    }
   ],
   "source": [
    "iris[iris['species'].str.contains('virginica')]['petal_length'].mean()"
   ]
  },
  {
   "attachments": {},
   "cell_type": "markdown",
   "metadata": {},
   "source": [
    "### <b>2. Hãy kiểm định các giả thuyết cho rằng giá trị trung bình của chiều dài, độ rộng đài hoa, chiều dài, rộng cánh hoa của mỗi loài hoa hai vườn là bằng nhau </b>"
   ]
  },
  {
   "attachments": {},
   "cell_type": "markdown",
   "metadata": {},
   "source": [
    "##### Kiểm định giá trị trung bình của chiều dài mỗi loài hoa là bằng nhau"
   ]
  },
  {
   "attachments": {},
   "cell_type": "markdown",
   "metadata": {},
   "source": [
    "    - H0: Giá trị trung bình của chiều dài đài hoa mỗi loài là như nhau.\n",
    "    - HA: Giá trị trung bình của chiều dài đài hoa mỗi loài có khác nhau."
   ]
  },
  {
   "attachments": {},
   "cell_type": "markdown",
   "metadata": {},
   "source": [
    "- Chọn mức í nghĩa là 5%\n",
    "-  Phương pháp kiểm định <b>Two sample T-test</b>"
   ]
  },
  {
   "cell_type": "code",
   "execution_count": 457,
   "metadata": {},
   "outputs": [
    {
     "name": "stderr",
     "output_type": "stream",
     "text": [
      "C:\\Users\\Admin-s\\AppData\\Local\\Temp\\ipykernel_4476\\476134247.py:5: FutureWarning: The behavior of `series[i:j]` with an integer-dtype index is deprecated. In a future version, this will be treated as *label-based* indexing, consistent with e.g. `series[i]` lookups. To retain the old behavior, use `series.iloc[i:j]`. To get the future behavior, use `series.loc[i:j]`.\n",
      "  ar=iris[iris['species'].str.contains(i)]['sepal_length'][0:25]\n",
      "C:\\Users\\Admin-s\\AppData\\Local\\Temp\\ipykernel_4476\\476134247.py:7: FutureWarning: The behavior of `series[i:j]` with an integer-dtype index is deprecated. In a future version, this will be treated as *label-based* indexing, consistent with e.g. `series[i]` lookups. To retain the old behavior, use `series.iloc[i:j]`. To get the future behavior, use `series.loc[i:j]`.\n",
      "  ar2=iris[iris['species'].str.contains(i)]['sepal_length'][25:51]\n"
     ]
    }
   ],
   "source": [
    "iris_ar = iris['species'].unique()\n",
    "arr1 = []\n",
    "arr2 = []\n",
    "for i in iris_ar:\n",
    "    ar=iris[iris['species'].str.contains(i)]['sepal_length'][0:25]\n",
    "    arr1.append(np.array(ar))\n",
    "    ar2=iris[iris['species'].str.contains(i)]['sepal_length'][25:51]\n",
    "    arr2.append(np.array(ar2))\n"
   ]
  },
  {
   "cell_type": "code",
   "execution_count": 458,
   "metadata": {},
   "outputs": [
    {
     "data": {
      "text/plain": [
       "[array([5.1, 4.9, 4.7, 4.6, 5. , 5.4, 4.6, 5. , 4.4, 4.9, 5.4, 4.8, 4.8,\n",
       "        4.3, 5.8, 5.7, 5.4, 5.1, 5.7, 5.1, 5.4, 5.1, 4.6, 5.1, 4.8]),\n",
       " array([7. , 6.4, 6.9, 5.5, 6.5, 5.7, 6.3, 4.9, 6.6, 5.2, 5. , 5.9, 6. ,\n",
       "        6.1, 5.6, 6.7, 5.6, 5.8, 6.2, 5.6, 5.9, 6.1, 6.3, 6.1, 6.4]),\n",
       " array([6.3, 5.8, 7.1, 6.3, 6.5, 7.6, 4.9, 7.3, 6.7, 7.2, 6.5, 6.4, 6.8,\n",
       "        5.7, 5.8, 6.4, 6.5, 7.7, 7.7, 6. , 6.9, 5.6, 7.7, 6.3, 6.7])]"
      ]
     },
     "execution_count": 458,
     "metadata": {},
     "output_type": "execute_result"
    }
   ],
   "source": [
    "arr1"
   ]
  },
  {
   "cell_type": "code",
   "execution_count": 459,
   "metadata": {},
   "outputs": [
    {
     "data": {
      "text/plain": [
       "[array([5. , 5. , 5.2, 5.2, 4.7, 4.8, 5.4, 5.2, 5.5, 4.9, 5. , 5.5, 4.9,\n",
       "        4.4, 5.1, 5. , 4.5, 4.4, 5. , 5.1, 4.8, 5.1, 4.6, 5.3, 5. ]),\n",
       " array([6.6, 6.8, 6.7, 6. , 5.7, 5.5, 5.5, 5.8, 6. , 5.4, 6. , 6.7, 6.3,\n",
       "        5.6, 5.5, 5.5, 6.1, 5.8, 5. , 5.6, 5.7, 5.7, 6.2, 5.1, 5.7]),\n",
       " array([7.2, 6.2, 6.1, 6.4, 7.2, 7.4, 7.9, 6.4, 6.3, 6.1, 7.7, 6.3, 6.4,\n",
       "        6. , 6.9, 6.7, 6.9, 5.8, 6.8, 6.7, 6.7, 6.3, 6.5, 6.2, 5.9])]"
      ]
     },
     "execution_count": 459,
     "metadata": {},
     "output_type": "execute_result"
    }
   ],
   "source": [
    "arr2"
   ]
  },
  {
   "cell_type": "code",
   "execution_count": 460,
   "metadata": {},
   "outputs": [
    {
     "name": "stdout",
     "output_type": "stream",
     "text": [
      "chiều dài trung bình đài hoa 2 vườn bằng nhau với loài hoa setosa (pvalue = 0.6635872571303114)\n",
      "chiều dài trung bình đài hoa 2 vườn bằng nhau với loài hoa versicolor (pvalue = 0.3026126264579398)\n",
      "chiều dài trung bình đài hoa 2 vườn bằng nhau với loài hoa virginica (pvalue = 0.8954597698813008)\n"
     ]
    }
   ],
   "source": [
    "for i in range(len(arr1)):\n",
    "    t_statistic, p_value = stats.ttest_ind(a= arr1[i],b=arr2[i],equal_var=True)\n",
    "    if (p_value > 0.05):\n",
    "        print(f'chiều dài trung bình đài hoa 2 vườn bằng nhau với loài hoa {iris_ar[i]} (pvalue = {p_value})')\n",
    "    else:\n",
    "        (print(f'chiều dài trung bình đài hoa  2 vườn khác nhau với loài hoa {iris_ar[i]} (pvalue = {p_value})'))"
   ]
  },
  {
   "attachments": {},
   "cell_type": "markdown",
   "metadata": {},
   "source": [
    "Vậy giả thuyết H0: chiều dài trung bình đài hoa của 2 vườn là giống nhau với mỗi loài hoa là <b>chính xác</b>"
   ]
  },
  {
   "attachments": {},
   "cell_type": "markdown",
   "metadata": {},
   "source": [
    "### <b>3. Kiểm định giả thuyết cho rằng giá trị trung bình các thông tin của loài hoa này không phụ thuộc vào quá trình chăm sóc (Không sử dụng phân bón và sử dụng phân bón super-phosphate)</b>"
   ]
  },
  {
   "attachments": {},
   "cell_type": "markdown",
   "metadata": {},
   "source": [
    "    - H0: Giá trị trung bình của chiều dài đài hoa loài setosa là như nhau. khi sử dụng hoặc không sử dụng phân bón\n",
    "    - HA: Giá trị trung bình của chiều dài đài hoa loài setosa có khác nhau khi sử dụng phân bón và không sử dụng phân bón."
   ]
  },
  {
   "attachments": {},
   "cell_type": "markdown",
   "metadata": {},
   "source": [
    "- Chọn mức í nghĩa là 5% \n",
    "- phương pháp kiểm định Paired sample T-test"
   ]
  },
  {
   "cell_type": "code",
   "execution_count": 461,
   "metadata": {},
   "outputs": [
    {
     "name": "stderr",
     "output_type": "stream",
     "text": [
      "C:\\Users\\Admin-s\\AppData\\Local\\Temp\\ipykernel_4476\\2054547486.py:2: SettingWithCopyWarning: \n",
      "A value is trying to be set on a copy of a slice from a DataFrame\n",
      "\n",
      "See the caveats in the documentation: https://pandas.pydata.org/pandas-docs/stable/user_guide/indexing.html#returning-a-view-versus-a-copy\n",
      "  setosa_df.drop('species',axis=1,inplace=True)\n"
     ]
    },
    {
     "data": {
      "text/html": [
       "<div>\n",
       "<style scoped>\n",
       "    .dataframe tbody tr th:only-of-type {\n",
       "        vertical-align: middle;\n",
       "    }\n",
       "\n",
       "    .dataframe tbody tr th {\n",
       "        vertical-align: top;\n",
       "    }\n",
       "\n",
       "    .dataframe thead th {\n",
       "        text-align: right;\n",
       "    }\n",
       "</style>\n",
       "<table border=\"1\" class=\"dataframe\">\n",
       "  <thead>\n",
       "    <tr style=\"text-align: right;\">\n",
       "      <th></th>\n",
       "      <th>sepal_length</th>\n",
       "      <th>sepal_width</th>\n",
       "      <th>petal_length</th>\n",
       "      <th>petal_width</th>\n",
       "    </tr>\n",
       "  </thead>\n",
       "  <tbody>\n",
       "    <tr>\n",
       "      <th>0</th>\n",
       "      <td>5.1</td>\n",
       "      <td>3.5</td>\n",
       "      <td>1.4</td>\n",
       "      <td>0.2</td>\n",
       "    </tr>\n",
       "    <tr>\n",
       "      <th>1</th>\n",
       "      <td>4.9</td>\n",
       "      <td>3.0</td>\n",
       "      <td>1.4</td>\n",
       "      <td>0.2</td>\n",
       "    </tr>\n",
       "    <tr>\n",
       "      <th>2</th>\n",
       "      <td>4.7</td>\n",
       "      <td>3.2</td>\n",
       "      <td>1.3</td>\n",
       "      <td>0.2</td>\n",
       "    </tr>\n",
       "    <tr>\n",
       "      <th>3</th>\n",
       "      <td>4.6</td>\n",
       "      <td>3.1</td>\n",
       "      <td>1.5</td>\n",
       "      <td>0.2</td>\n",
       "    </tr>\n",
       "    <tr>\n",
       "      <th>4</th>\n",
       "      <td>5.0</td>\n",
       "      <td>3.6</td>\n",
       "      <td>1.4</td>\n",
       "      <td>0.2</td>\n",
       "    </tr>\n",
       "  </tbody>\n",
       "</table>\n",
       "</div>"
      ],
      "text/plain": [
       "   sepal_length  sepal_width  petal_length  petal_width\n",
       "0           5.1          3.5           1.4          0.2\n",
       "1           4.9          3.0           1.4          0.2\n",
       "2           4.7          3.2           1.3          0.2\n",
       "3           4.6          3.1           1.5          0.2\n",
       "4           5.0          3.6           1.4          0.2"
      ]
     },
     "execution_count": 461,
     "metadata": {},
     "output_type": "execute_result"
    }
   ],
   "source": [
    "setosa_df = iris[iris['species'].str.contains('setosa')]\n",
    "setosa_df.drop('species',axis=1,inplace=True)\n",
    "setosa_df.head()"
   ]
  },
  {
   "cell_type": "code",
   "execution_count": 462,
   "metadata": {},
   "outputs": [
    {
     "data": {
      "text/plain": [
       "Index(['sepal_length', 'sepal_width', 'petal_length', 'petal_width'], dtype='object')"
      ]
     },
     "execution_count": 462,
     "metadata": {},
     "output_type": "execute_result"
    }
   ],
   "source": [
    "_property = setosa_df.columns\n",
    "_property"
   ]
  },
  {
   "cell_type": "code",
   "execution_count": 463,
   "metadata": {},
   "outputs": [],
   "source": [
    "arr1 = []\n",
    "arr2 = []\n",
    "for i in _property:\n",
    "    ar=setosa_df[i][0:25]\n",
    "    arr1.append(np.array(ar))\n",
    "    ar2=setosa_df[i][25:51]\n",
    "    arr2.append(np.array(ar2))"
   ]
  },
  {
   "cell_type": "code",
   "execution_count": 464,
   "metadata": {},
   "outputs": [
    {
     "data": {
      "text/plain": [
       "[array([5.1, 4.9, 4.7, 4.6, 5. , 5.4, 4.6, 5. , 4.4, 4.9, 5.4, 4.8, 4.8,\n",
       "        4.3, 5.8, 5.7, 5.4, 5.1, 5.7, 5.1, 5.4, 5.1, 4.6, 5.1, 4.8]),\n",
       " array([3.5, 3. , 3.2, 3.1, 3.6, 3.9, 3.4, 3.4, 2.9, 3.1, 3.7, 3.4, 3. ,\n",
       "        3. , 4. , 4.4, 3.9, 3.5, 3.8, 3.8, 3.4, 3.7, 3.6, 3.3, 3.4]),\n",
       " array([1.4, 1.4, 1.3, 1.5, 1.4, 1.7, 1.4, 1.5, 1.4, 1.5, 1.5, 1.6, 1.4,\n",
       "        1.1, 1.2, 1.5, 1.3, 1.4, 1.7, 1.5, 1.7, 1.5, 1. , 1.7, 1.9]),\n",
       " array([0.2, 0.2, 0.2, 0.2, 0.2, 0.4, 0.3, 0.2, 0.2, 0.1, 0.2, 0.2, 0.1,\n",
       "        0.1, 0.2, 0.4, 0.4, 0.3, 0.3, 0.3, 0.2, 0.4, 0.2, 0.5, 0.2])]"
      ]
     },
     "execution_count": 464,
     "metadata": {},
     "output_type": "execute_result"
    }
   ],
   "source": [
    "arr1"
   ]
  },
  {
   "cell_type": "code",
   "execution_count": 465,
   "metadata": {},
   "outputs": [
    {
     "data": {
      "text/plain": [
       "[array([5. , 5. , 5.2, 5.2, 4.7, 4.8, 5.4, 5.2, 5.5, 4.9, 5. , 5.5, 4.9,\n",
       "        4.4, 5.1, 5. , 4.5, 4.4, 5. , 5.1, 4.8, 5.1, 4.6, 5.3, 5. ]),\n",
       " array([3. , 3.4, 3.5, 3.4, 3.2, 3.1, 3.4, 4.1, 4.2, 3.1, 3.2, 3.5, 3.6,\n",
       "        3. , 3.4, 3.5, 2.3, 3.2, 3.5, 3.8, 3. , 3.8, 3.2, 3.7, 3.3]),\n",
       " array([1.6, 1.6, 1.5, 1.4, 1.6, 1.6, 1.5, 1.5, 1.4, 1.5, 1.2, 1.3, 1.4,\n",
       "        1.3, 1.5, 1.3, 1.3, 1.3, 1.6, 1.9, 1.4, 1.6, 1.4, 1.5, 1.4]),\n",
       " array([0.2, 0.4, 0.2, 0.2, 0.2, 0.2, 0.4, 0.1, 0.2, 0.2, 0.2, 0.2, 0.1,\n",
       "        0.2, 0.2, 0.3, 0.3, 0.2, 0.6, 0.4, 0.3, 0.2, 0.2, 0.2, 0.2])]"
      ]
     },
     "execution_count": 465,
     "metadata": {},
     "output_type": "execute_result"
    }
   ],
   "source": [
    "# Có sử dụng phân bón\n",
    "arr2"
   ]
  },
  {
   "cell_type": "code",
   "execution_count": 466,
   "metadata": {},
   "outputs": [
    {
     "name": "stdout",
     "output_type": "stream",
     "text": [
      "Giá trị trung bình của 2 phương pháp là giống nhau với thông số sepal_length (pvalue = 0.6830857467767293)\n",
      "Giá trị trung bình của 2 phương pháp là giống nhau với thông số sepal_width (pvalue = 0.38617205452294123)\n",
      "Giá trị trung bình của 2 phương pháp là giống nhau với thông số petal_length (pvalue = 0.9314275194735182)\n",
      "Giá trị trung bình của 2 phương pháp là giống nhau với thông số petal_width (pvalue = 0.8765788780036303)\n"
     ]
    }
   ],
   "source": [
    "for i in range(len(arr1)):\n",
    "    t_statistic, p_value = stats.ttest_rel(a= arr1[i],b=arr2[i])\n",
    "    if (p_value > 0.05):\n",
    "        print(f'Giá trị trung bình của 2 phương pháp là giống nhau với thông số {_property[i]} (pvalue = {p_value})')\n",
    "    else:\n",
    "        print(f'Giá trị trung bình của 2 phương pháp là khác nhau với thông số {_property[i]} (pvalue = {p_value})')"
   ]
  },
  {
   "attachments": {},
   "cell_type": "markdown",
   "metadata": {},
   "source": [
    "Vậy H0 là chính xác. Các thông số của loài hòa setosa là <b>giống nhau</b> khi có sử dụng phân bón và không sử dụng phân bón. Vậy việc sử dụng phân bón không có ảnh hưởng tới các thông số của loài hoa này"
   ]
  }
 ],
 "metadata": {
  "kernelspec": {
   "display_name": "Python 3.10.8 64-bit (microsoft store)",
   "language": "python",
   "name": "python3"
  },
  "language_info": {
   "codemirror_mode": {
    "name": "ipython",
    "version": 3
   },
   "file_extension": ".py",
   "mimetype": "text/x-python",
   "name": "python",
   "nbconvert_exporter": "python",
   "pygments_lexer": "ipython3",
   "version": "3.10.8 (tags/v3.10.8:aaaf517, Oct 11 2022, 16:50:30) [MSC v.1933 64 bit (AMD64)]"
  },
  "orig_nbformat": 4,
  "vscode": {
   "interpreter": {
    "hash": "69bdb29fa5b284b7c766c6014f8dd1955f741bad82f646884d6bfd8516008893"
   }
  }
 },
 "nbformat": 4,
 "nbformat_minor": 2
}
