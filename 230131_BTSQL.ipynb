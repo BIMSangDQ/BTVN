{
 "cells": [
  {
   "cell_type": "code",
   "execution_count": null,
   "metadata": {},
   "outputs": [],
   "source": [
    "import pyodbc\n",
    "import pandas as pd"
   ]
  },
  {
   "cell_type": "code",
   "execution_count": 13,
   "metadata": {},
   "outputs": [],
   "source": [
    "yes_choice = ['yes','y']\n",
    "no_choice = ['no','n']"
   ]
  },
  {
   "cell_type": "code",
   "execution_count": 14,
   "metadata": {},
   "outputs": [],
   "source": [
    "def SQLConnect():\n",
    "    conn = pyodbc.connect('Driver={SQL Server};'\n",
    "                        'Server=DESKTOP-OQLFA92\\SANGDANG;'\n",
    "                        'Database=COVID19;'\n",
    "                        'Trusted_Connection=yes;')\n",
    "    return conn"
   ]
  },
  {
   "cell_type": "code",
   "execution_count": 22,
   "metadata": {},
   "outputs": [],
   "source": [
    "def List_idbook():\n",
    "    conn = SQLConnect()\n",
    "    query = \"SELECT * FROM Lb_book\"\n",
    "\n",
    "    cursor = conn.cursor()\n",
    "    cursor.execute(query)\n",
    "    books = cursor.fetchall()\n",
    "    book_id_list = []\n",
    "    for b in books:\n",
    "        book_id_list.append(b[0])\n",
    "    conn.close()\n",
    "    return book_id_list"
   ]
  },
  {
   "cell_type": "code",
   "execution_count": 23,
   "metadata": {},
   "outputs": [],
   "source": [
    "def List_idcategory():\n",
    "    conn = SQLConnect()\n",
    "    query = \"SELECT * FROM Lb_Category\"\n",
    "\n",
    "    cursor = conn.cursor()\n",
    "    cursor.execute(query)\n",
    "    Categories = cursor.fetchall()\n",
    "    Category_id_list = []\n",
    "    for b in Categories:\n",
    "        Category_id_list.append(b[0])\n",
    "    conn.close()\n",
    "    return Category_id_list"
   ]
  },
  {
   "cell_type": "code",
   "execution_count": 24,
   "metadata": {},
   "outputs": [],
   "source": [
    "def List_idcompany():\n",
    "    conn = SQLConnect()\n",
    "    query = \"SELECT * FROM Lb_Company\"\n",
    "\n",
    "    cursor = conn.cursor()\n",
    "    cursor.execute(query)\n",
    "    Companies = cursor.fetchall()\n",
    "    Company_id_list = []\n",
    "    for b in Companies:\n",
    "        Company_id_list.append(b[0])\n",
    "    conn.close()\n",
    "    return Company_id_list"
   ]
  },
  {
   "cell_type": "code",
   "execution_count": 17,
   "metadata": {},
   "outputs": [],
   "source": [
    "def Add_book():\n",
    "    conn = SQLConnect()\n",
    "    book_name = input(\"Nhập tên sách: \")\n",
    "    year_of_public = int(input(\"Nhập năm xuất bản sách: \"))\n",
    "    page_number = int(input(\"Nhập số trang: \"))\n",
    "    price = int(input(\"Nhập giá tiền: \"))\n",
    "    \n",
    "    cursor = conn.cursor()\n",
    "    category_sql = \"SELECT * FROM Lb_Category\"\n",
    "    cursor.execute(category_sql)\n",
    "    categories = cursor.fetchall()\n",
    "    category_list = []\n",
    "    print('Nhập số tương ứng với thể loại có trong danh mục dưới đây: ')\n",
    "    for c in categories:\n",
    "        print(f'{c[0]} - {c[1]}')\n",
    "        category_list.append(c[0])\n",
    "    category = 0\n",
    "    isTrue = True\n",
    "    while True:\n",
    "        category = int(input(\"Nhập thể loại\"))\n",
    "        if category in category_list:\n",
    "            break\n",
    "        else:\n",
    "            user_input=input(\"Thể loại vừa nhập không tồn tại!\\n Bạn có muốn nhập lại?(yes/no): \") \n",
    "            if user_input.lower() in no_choice:\n",
    "                isTrue = False\n",
    "                break\n",
    "    if isTrue == False: return\n",
    "    cursor.close()\n",
    "\n",
    "    cursor = conn.cursor()\n",
    "    category_sql = \"SELECT * FROM Lb_Company\"\n",
    "    cursor.execute(category_sql)\n",
    "    companies = cursor.fetchall()\n",
    "    company_list = []\n",
    "    print('Nhập số tương ứng với NXB có trong danh mục dưới đây: ')\n",
    "    for c in companies:\n",
    "        print(f'{c[0]} - {c[1]}')\n",
    "        company_list.append(c[0])\n",
    "    company = 0\n",
    "    isTrue = True\n",
    "    while True:\n",
    "        company = int(input(\"Nhập NXB: \"))\n",
    "        if company in company_list:\n",
    "            break\n",
    "        else:\n",
    "            user_input=input(\"NXB vừa nhập không tồn tại!\\n Bạn có muốn nhập lại?(yes/no): \") \n",
    "            if user_input.lower() in no_choice:\n",
    "                isTrue = False\n",
    "                break\n",
    "    if isTrue == False: return\n",
    "    \n",
    "    book_sql = \"\"\"\n",
    "    INSERT INTO Lb_book(book_name,category_id,year_of_public,page_number,publis_company_id,price)\n",
    "    VALUES(?,?,?,?,?)\n",
    "    \"\"\"\n",
    "    cursor = conn.cursor()\n",
    "    cursor.execute(book_sql,book_name,category,year_of_public,page_number,company,price)\n",
    "    cursor.commit()\n",
    "    conn.close()\n"
   ]
  },
  {
   "cell_type": "code",
   "execution_count": 20,
   "metadata": {},
   "outputs": [],
   "source": [
    "def View_all_book():\n",
    "    conn = SQLConnect()\n",
    "    book_sql = \"SELECT * FROM Lb_book\"\n",
    "    data = pd.read_sql(book_sql,conn)\n",
    "    print(data)\n",
    "    \n",
    "    conn.close()"
   ]
  },
  {
   "cell_type": "code",
   "execution_count": null,
   "metadata": {},
   "outputs": [],
   "source": [
    "def Show_book(id):\n",
    "    conn = SQLConnect()\n",
    "    book_sql = f\"SELECT * FROM Lb_book where id = {id}\"\n",
    "    data = pd.read_sql(book_sql,conn)\n",
    "    print(data)\n",
    "    \n",
    "    conn.close()"
   ]
  },
  {
   "cell_type": "code",
   "execution_count": null,
   "metadata": {},
   "outputs": [],
   "source": [
    "def edit_book():\n",
    "    conn = SQLConnect()\n",
    "    book_id_input = int(input(\"Nhập id cuốn sách muốn sửa: \"))\n",
    "    book_id_list = List_idbook()\n",
    "    if book_id_input in book_id_list:\n",
    "        Show_book(book_id_input)\n",
    "        book_name = input(\"Nhập tên mới (Enter nếu không thay đổi)\")\n",
    "        \n",
    "    else:\n",
    "        print(\"Mã cuốn sách vừa rồi không tồn tại!\")\n",
    "        return"
   ]
  },
  {
   "cell_type": "code",
   "execution_count": null,
   "metadata": {},
   "outputs": [],
   "source": [
    "def del_book():\n",
    "    conn = SQLConnect()\n",
    "    book_id_input = int(input(\"Nhập id cuốn sách muốn xóa: \"))\n",
    "    book_id_list = List_idbook()\n",
    "    if book_id_input in book_id_list:\n",
    "        Show_book(book_id_input)\n",
    "\n",
    "        query = f\"DELETE FROM Lb_book WHERE id = {book_id_input}\"\n",
    "        cursor = conn.cursor()\n",
    "        cursor.execute(query)\n",
    "        cursor.comit()\n",
    "        cursor.close()\n",
    "        conn.close()\n",
    "        print(\"Xóa thành công!\")\n",
    "    else:\n",
    "        print(\"Mã cuốn sách vừa rồi không tồn tại!\")\n",
    "        return"
   ]
  },
  {
   "cell_type": "code",
   "execution_count": null,
   "metadata": {},
   "outputs": [],
   "source": [
    "def find_Book():\n",
    "    conn = SQLConnect()\n",
    "    list_condition = []\n",
    "\n",
    "    while True:\n",
    "        \n",
    "    conn.close()"
   ]
  },
  {
   "cell_type": "code",
   "execution_count": 12,
   "metadata": {},
   "outputs": [
    {
     "name": "stdout",
     "output_type": "stream",
     "text": [
      "##################################################\n",
      "            CHƯƠNG TRÌNH QUẢN LÝ THƯ VIỆN\n",
      "                       ---                        \n",
      "1. Thao tác với sách\n",
      "2. Thao tác với Thể loại\n",
      "3. Thao tác với Nhà xuất bản\n"
     ]
    }
   ],
   "source": [
    "optionList = [1,2,3]\n",
    "suboptionList = [1,2,3,4,5]\n",
    "out_pro = False\n",
    "\n",
    "print(\"#\"*50)\n",
    "print(' '*12+'CHƯƠNG TRÌNH QUẢN LÝ THƯ VIỆN')\n",
    "print(' '*23+\"---\" + \" \"*24)\n",
    "print(\"1. Thao tác với sách\")\n",
    "print(\"2. Thao tác với Thể loại\")\n",
    "print(\"3. Thao tác với Nhà xuất bản\")\n",
    "user_input = 0\n",
    "while True:\n",
    "    user_input = int(input(\"Nhập đối tượng muốn thực hiện các thao tác tiếp theo (1/2/3): \"))\n",
    "    if user_input in optionList:\n",
    "        break\n",
    "    else:\n",
    "        select_option = input(\"Bạn vừa chọn đối tượng không hợp lệ!\\n Bạn có muốn chọn lại không (yes/no)?:\")\n",
    "        if select_option in no_choice:\n",
    "            out_pro = True\n",
    "            break\n",
    "\n",
    "if out_pro == False:\n",
    "    if user_input == 1:\n",
    "        print(\"1. Thêm sách\")\n",
    "        print(\"2. Xem toàn bộ sách\")\n",
    "        print(\"3. Sửa thông tin sách\")\n",
    "        print(\"4. Xóa sách\")\n",
    "        print(\"5. Tìm kiếm\") #Chia ra tìm kiếm theo thông tin nào? hay kết hợp 2 3\n",
    "    elif user_input == 2:\n",
    "        print(\"1. Thêm Thể loại\")\n",
    "        print(\"2. Xem toàn bộ thể loại\")\n",
    "        print(\"3. Sửa tên thể loại\")\n",
    "        print(\"4. Xóa thể loại\") #Check tồn tại sách thể loại đó thì sao?\n",
    "        print(\"5. Tìm kiếm\")\n",
    "    elif user_input == 3:\n",
    "        print(\"1. Thêm Nhà xuất bản\")\n",
    "        print(\"2. Xem toàn bộ nhà xuất bản\")\n",
    "        print(\"3. Sửa tên nhà xuất bản\")\n",
    "        print(\"4. Xóa nhà xuất bản\") #Check tồn tại sách của nhà xuất bản đó thì sao?\n",
    "        print(\"5. Tìm kiếm\")\n"
   ]
  }
 ],
 "metadata": {
  "kernelspec": {
   "display_name": "Python 3",
   "language": "python",
   "name": "python3"
  },
  "language_info": {
   "codemirror_mode": {
    "name": "ipython",
    "version": 3
   },
   "file_extension": ".py",
   "mimetype": "text/x-python",
   "name": "python",
   "nbconvert_exporter": "python",
   "pygments_lexer": "ipython3",
   "version": "3.10.8 (tags/v3.10.8:aaaf517, Oct 11 2022, 16:50:30) [MSC v.1933 64 bit (AMD64)]"
  },
  "orig_nbformat": 4,
  "vscode": {
   "interpreter": {
    "hash": "69bdb29fa5b284b7c766c6014f8dd1955f741bad82f646884d6bfd8516008893"
   }
  }
 },
 "nbformat": 4,
 "nbformat_minor": 2
}
