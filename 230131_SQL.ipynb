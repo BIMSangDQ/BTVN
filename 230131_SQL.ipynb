{
 "cells": [
  {
   "cell_type": "code",
   "execution_count": null,
   "metadata": {},
   "outputs": [],
   "source": [
    "import pyodbc\n",
    "import pandas as pd"
   ]
  },
  {
   "cell_type": "code",
   "execution_count": null,
   "metadata": {},
   "outputs": [],
   "source": [
    "def SQLConnect():\n",
    "    conn = pyodbc.connect('Driver={SQL Server};'\n",
    "                        'Server=DESKTOP-OQLFA92\\SANGDANG;'\n",
    "                        'Database=COVID19;'\n",
    "                        'Trusted_Connection=yes;')\n",
    "    return conn"
   ]
  },
  {
   "cell_type": "code",
   "execution_count": null,
   "metadata": {},
   "outputs": [],
   "source": [
    "conn = SQLConnect()\n",
    "\n",
    "cursor = conn.cursor()\n",
    "name = input(\"Nhập họ và tên:\")\n",
    "email = input(\"Nhập Email:\")\n",
    "gender = int(input(\"Nhập giới tính (0- Nữ/ 1- Nam):\"))\n",
    "birth = input(\"Nhập ngày sinh (yyyy-mm-dd):\")\n",
    "depart_sql = \"SELECT * FROM Deparment\"\n",
    "cursor.execute(depart_sql)\n",
    "departs = cursor.fetchall()\n",
    "departs_list = []\n",
    "print('Nhập số tương ứng với phòng ban có trong danh mục dưới đây: ')\n",
    "for d in departs:\n",
    "    print(f'{d[0]} - {d[1]}')\n",
    "    departs_list.append(d[0])\n",
    "department = 0\n",
    "isTrue = True\n",
    "while True:\n",
    "    department = int(input(\"Nhập phòng ban\"))\n",
    "    if department in departs_list:\n",
    "        break\n",
    "    else:\n",
    "        user_input=input(\"Phòng ban vừa nhập không tồn tại!\\n Bạn có muốn nhập lại?(yes/no): \") \n",
    "        if user_input.lower() == 'no':\n",
    "            isTrue = False\n",
    "            break\n",
    "if isTrue:\n",
    "    insert_sql = \"\"\"\n",
    "    INSERT INTO Employee(emp_name,emp_birth,emp_gender,emp_emmail,emp_deparment)\n",
    "    VALUES(?,?,?,?,?)\n",
    "    \"\"\"\n",
    "    cursor = conn.cursor()\n",
    "    cursor.execute(insert_sql,name,birth,gender,email,department)\n",
    "    cursor.commit()\n",
    "cursor.close()\n",
    "conn.close()\n",
    "print(\"Thêm nhân viên thành công!\")"
   ]
  }
 ],
 "metadata": {
  "kernelspec": {
   "display_name": "Python 3",
   "language": "python",
   "name": "python3"
  },
  "language_info": {
   "codemirror_mode": {
    "name": "ipython",
    "version": 3
   },
   "file_extension": ".py",
   "mimetype": "text/x-python",
   "name": "python",
   "nbconvert_exporter": "python",
   "pygments_lexer": "ipython3",
   "version": "3.10.8 (tags/v3.10.8:aaaf517, Oct 11 2022, 16:50:30) [MSC v.1933 64 bit (AMD64)]"
  },
  "orig_nbformat": 4,
  "vscode": {
   "interpreter": {
    "hash": "69bdb29fa5b284b7c766c6014f8dd1955f741bad82f646884d6bfd8516008893"
   }
  }
 },
 "nbformat": 4,
 "nbformat_minor": 2
}
