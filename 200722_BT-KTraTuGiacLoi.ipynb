{
 "cells": [
  {
   "cell_type": "code",
   "execution_count": 1,
   "id": "3b1b488d",
   "metadata": {},
   "outputs": [
    {
     "name": "stdout",
     "output_type": "stream",
     "text": [
      "Nhập Xa= 0\n",
      "Nhập Ya= 0\n",
      "Nhập Xb= 100\n",
      "Nhập Yb= 0\n",
      "Nhập Xc= 100\n",
      "Nhập Yc= 100\n",
      "Nhập Xd= 0\n",
      "Nhập Yd= 100\n",
      "Nhập màu muốn vẽ = red\n",
      "Tứ giác lõm: False\n"
     ]
    }
   ],
   "source": [
    "import math\n",
    "import turtle\n",
    "\n",
    "Xa = float(input('Nhập Xa= '))\n",
    "Ya = float(input('Nhập Ya= '))\n",
    "Xb = float(input('Nhập Xb= '))\n",
    "Yb = float(input('Nhập Yb= '))\n",
    "Xc = float(input('Nhập Xc= '))\n",
    "Yc = float(input('Nhập Yc= '))\n",
    "Xd = float(input('Nhập Xd= '))\n",
    "Yd = float(input('Nhập Yd= '))\n",
    "color = input('Nhập màu muốn vẽ = ')\n",
    "\n",
    "#phương trình đường AC: dạng a1X+b1Y=c2\n",
    "a1= (Ya-Yc)\n",
    "b1= (Xc-Xa)\n",
    "c1= (Ya-Yc)*Xa + (Xc-Xa)*Ya\n",
    "\n",
    "#phương trình đường BD: dạng a2X+b2Y=c2\n",
    "a2= (Yb-Yd)\n",
    "b2= (Xd-Xb)\n",
    "c2= (Yb-Yd)*Xb + (Xd-Xb)*Yb\n",
    "\n",
    "#Giao điểm 2 đường chéo là điểm H\n",
    "Yh = (c1*a2-c2*a1)/(b1*a2-b2*a1)\n",
    "Xh = (c1-b1*Yh)/a1\n",
    "\n",
    "#Tứ giác lõm khi giao điểm nằm ngoài 1 đoạn thẳng\n",
    "Lenght_AC = math.sqrt((Xa-Xc)**2 + (Ya-Yc)**2)\n",
    "Lenght_BD = math.sqrt((Xb-Xd)**2 + (Yb-Yd)**2)\n",
    "Lenght_AH = math.sqrt((Xa-Xh)**2 + (Ya-Yh)**2)\n",
    "Lenght_CH = math.sqrt((Xc-Xh)**2 + (Yc-Yh)**2)\n",
    "Lenght_BH = math.sqrt((Xb-Xh)**2 + (Yb-Yh)**2)\n",
    "Lenght_DH = math.sqrt((Xd-Xh)**2 + (Yd-Yh)**2)\n",
    "\n",
    "# Tứ giác lõm khi điểm H nằm ngoài tứ giác\n",
    "TugiacLom = (Lenght_BD < (Lenght_BH+Lenght_DH)) or (Lenght_AC < (Lenght_AH+Lenght_CH))\n",
    "print(f'Tứ giác lõm: {TugiacLom}')\n",
    "\n",
    "\n",
    "t=turtle.Turtle()\n",
    "t.shape('turtle')\n",
    "\n",
    "# Hàm di chuyển turtle không để lại đường đi\n",
    "def Goto(x, y):\n",
    "    t.penup()\n",
    "    t.goto(x, y)\n",
    "    t.pendown()\n",
    "\n",
    "# Hàm vẽ vòng tròn tại vị trí tâm x,y và bán kính r\n",
    "def Draw_Point(x,y,r,color):\n",
    "    Goto(x+r,y)\n",
    "    t.setheading(0)\n",
    "    t.left(90)\n",
    "    t.fillcolor(color)\n",
    "    t.begin_fill()\n",
    "    t.circle(r)\n",
    "    t.end_fill()\n",
    "        \n",
    "t.speed(10)\n",
    "t.hideturtle()\n",
    "#Vẽ tứ giác\n",
    "Goto(Xa,Ya)\n",
    "t.goto(Xb,Yb)\n",
    "t.goto(Xc,Yc)\n",
    "t.goto(Xd,Yd)\n",
    "t.goto(Xa,Ya)\n",
    "\n",
    "#Vẽ 2 đường chéo\n",
    "t.pencolor('red')\n",
    "t.goto(Xc,Yc)\n",
    "\n",
    "Goto(Xb,Yb)\n",
    "t.goto(Xd,Yd)\n",
    "\n",
    "t.pencolor(color)\n",
    "Draw_Point(Xa,Ya,5,color)\n",
    "Draw_Point(Xb,Yb,5,color)\n",
    "Draw_Point(Xc,Yc,5,color)\n",
    "Draw_Point(Xd,Yd,5,color)\n",
    "Draw_Point(Xh,Yh,5,color)\n",
    "\n",
    "# Điền tên điểm\n",
    "t.pencolor('black')\n",
    "Goto(Xa,Ya)\n",
    "t.write(\"A\",move=False, font=('monaco',20),align='left')\n",
    "\n",
    "Goto(Xb,Yb)\n",
    "t.write(\"B\",move=False, font=('monaco',20),align='left')\n",
    "\n",
    "Goto(Xc,Yc)\n",
    "t.write(\"C\",move=False, font=('monaco',20),align='left')\n",
    "\n",
    "Goto(Xd,Yd)\n",
    "t.write(\"D\",move=False, font=('monaco',20),align='left')\n",
    "\n",
    "Goto(Xh,Yh)\n",
    "t.write(\"H\",move=False, font=('monaco',20),align='left')\n",
    "\n",
    "turtle.done()"
   ]
  },
  {
   "cell_type": "code",
   "execution_count": 19,
   "id": "5d699617",
   "metadata": {},
   "outputs": [],
   "source": [
    "#phương trình đường AC: dạng a1X+b1Y=c2\n",
    "# a1= (Ya-Yc)\n",
    "# b1= (Xc-Xa)\n",
    "# c1= (Ya-Yc)*Xa + (Xc-Xa)*Ya\n",
    "from math import sqrt\n",
    "def pt(X1,Y1,X2,Y2,xm,ym):\n",
    "    a= (Y1-Y2)\n",
    "    b= (X2-X1)\n",
    "    c= (Y1-Y2)*X1 + (X2-X1)*Y1\n",
    "    print(a,b,c)\n",
    "    L = abs(a*xm + b*ym-c)/sqrt(a**2+b**2)\n",
    "    return round(L,1)"
   ]
  },
  {
   "cell_type": "code",
   "execution_count": 20,
   "id": "4074f5fc",
   "metadata": {},
   "outputs": [
    {
     "name": "stdout",
     "output_type": "stream",
     "text": [
      "0.8 -0.2 -0.06\n",
      "-0.3 -2.0 -0.6\n",
      "-1.1 -1.8 -2.2\n",
      "[4.0, 0.3, 1.0]\n"
     ]
    }
   ],
   "source": [
    "Ax, Ay, Bx, By, Cx, Cy, Mx, My = [0.2,1.1,0.0,0.3,2.0,0.0,4.0,0.0]\n",
    "\n",
    "s = []\n",
    "s.append(pt(Ax, Ay, Bx, By,Mx, My))\n",
    "s.append(pt(Cx, Cy, Bx, By,Mx, My))\n",
    "s.append(pt(Cx, Cy, Ax, Ay,Mx, My))\n",
    "print(s)"
   ]
  }
 ],
 "metadata": {
  "kernelspec": {
   "display_name": "Python 3",
   "language": "python",
   "name": "python3"
  },
  "language_info": {
   "codemirror_mode": {
    "name": "ipython",
    "version": 3
   },
   "file_extension": ".py",
   "mimetype": "text/x-python",
   "name": "python",
   "nbconvert_exporter": "python",
   "pygments_lexer": "ipython3",
   "version": "3.10.8 (tags/v3.10.8:aaaf517, Oct 11 2022, 16:50:30) [MSC v.1933 64 bit (AMD64)]"
  },
  "vscode": {
   "interpreter": {
    "hash": "69bdb29fa5b284b7c766c6014f8dd1955f741bad82f646884d6bfd8516008893"
   }
  }
 },
 "nbformat": 4,
 "nbformat_minor": 5
}
