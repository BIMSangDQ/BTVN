{
 "cells": [
  {
   "cell_type": "code",
   "execution_count": null,
   "id": "24f5a057",
   "metadata": {},
   "outputs": [],
   "source": [
    "text = \"Python\"\n",
    "\n",
    "for i in text:\n",
    "    print (i)"
   ]
  },
  {
   "cell_type": "code",
   "execution_count": null,
   "id": "13521fa7",
   "metadata": {},
   "outputs": [],
   "source": [
    "mylist = [\"apple\",\"orange\",\"banana\"]\n",
    "\n",
    "#i là phần tử; foreach\n",
    "for i in mylist:\n",
    "    print (i)"
   ]
  },
  {
   "cell_type": "code",
   "execution_count": null,
   "id": "87726e79",
   "metadata": {},
   "outputs": [],
   "source": [
    "text_A = input(\"Nhập chuỗi 1: \")\n",
    "text_B = input(\"Nhập chuỗi 2: \")\n",
    "\n",
    "goals_A =0\n",
    "goals_B =0\n",
    "\n",
    "for i in text_A:\n",
    "    if int(i) == 1:\n",
    "        goals_A +=1\n",
    "        \n",
    "for i in text_B:\n",
    "    if int(i) == 1:\n",
    "        goals_B +=1\n",
    "        \n",
    "print(f\"Tỉ số 2 đội là: {goals_A}-{goals_B}\")"
   ]
  },
  {
   "cell_type": "code",
   "execution_count": null,
   "id": "2ccc0cd3",
   "metadata": {},
   "outputs": [],
   "source": [
    "mylist = range(0,10,1)\n",
    "print(list(mylist))\n",
    "\n",
    "#start = 0 thì ko cần\n",
    "#step = 1 thì ko cần"
   ]
  },
  {
   "cell_type": "code",
   "execution_count": null,
   "id": "97b61914",
   "metadata": {
    "scrolled": true
   },
   "outputs": [],
   "source": [
    "#i là số\n",
    "for i in range(10):\n",
    "    print (i, end=' ')"
   ]
  },
  {
   "cell_type": "code",
   "execution_count": null,
   "id": "fb41c2eb",
   "metadata": {
    "scrolled": true
   },
   "outputs": [],
   "source": [
    "print(list(range(6,0,-1)))"
   ]
  },
  {
   "cell_type": "code",
   "execution_count": null,
   "id": "dbc7cfa4",
   "metadata": {},
   "outputs": [],
   "source": [
    "n = int(input(\"Nhập số n:\"))\n",
    "\n",
    "for i in range(n,0,-1):\n",
    "    print(i*\"*\")"
   ]
  },
  {
   "cell_type": "code",
   "execution_count": null,
   "id": "2030b2a7",
   "metadata": {},
   "outputs": [],
   "source": [
    "#break and continue\n",
    "text  = input()\n",
    "\n",
    "words = text.split()\n",
    "for word in words:\n",
    "    if word.lower() == \"việt\":\n",
    "        print('found')\n",
    "        break"
   ]
  },
  {
   "cell_type": "code",
   "execution_count": 6,
   "id": "246049c1",
   "metadata": {},
   "outputs": [
    {
     "name": "stdout",
     "output_type": "stream",
     "text": [
      "1x1=1\t1x2=2\t1x3=3\t1x4=4\t1x5=5\t1x6=6\t1x7=7\t1x8=8\t1x9=9\t\n",
      "2x1=2\t2x2=4\t2x3=6\t2x4=8\t2x5=10\t2x6=12\t2x7=14\t2x8=16\t2x9=18\t\n",
      "3x1=3\t3x2=6\t3x3=9\t3x4=12\t3x5=15\t3x6=18\t3x7=21\t3x8=24\t3x9=27\t\n",
      "4x1=4\t4x2=8\t4x3=12\t4x4=16\t4x5=20\t4x6=24\t4x7=28\t4x8=32\t4x9=36\t\n",
      "5x1=5\t5x2=10\t5x3=15\t5x4=20\t5x5=25\t5x6=30\t5x7=35\t5x8=40\t5x9=45\t\n",
      "6x1=6\t6x2=12\t6x3=18\t6x4=24\t6x5=30\t6x6=36\t6x7=42\t6x8=48\t6x9=54\t\n",
      "7x1=7\t7x2=14\t7x3=21\t7x4=28\t7x5=35\t7x6=42\t7x7=49\t7x8=56\t7x9=63\t\n",
      "8x1=8\t8x2=16\t8x3=24\t8x4=32\t8x5=40\t8x6=48\t8x7=56\t8x8=64\t8x9=72\t\n",
      "9x1=9\t9x2=18\t9x3=27\t9x4=36\t9x5=45\t9x6=54\t9x7=63\t9x8=72\t9x9=81\t\n"
     ]
    }
   ],
   "source": [
    "#in bảng cưu chương\n",
    "for i in range(1,10):\n",
    "    for j in range(1,10):\n",
    "        print(f'{i}x{j}={i*j}',end='\\t')\n",
    "    print()"
   ]
  },
  {
   "cell_type": "code",
   "execution_count": 10,
   "id": "96b58858",
   "metadata": {},
   "outputs": [
    {
     "name": "stdout",
     "output_type": "stream",
     "text": [
      "184\n"
     ]
    }
   ],
   "source": [
    "#Cho 1 tờ 100k, hỏi có tối đa bao nhiêu cách đổi ra 2 3 5k.\n",
    "\n",
    "#2x + 3y + 5z = 100\n",
    "\n",
    "soCach = 0\n",
    "#x <=50\n",
    "#y <=33\n",
    "#z <=20\n",
    "\n",
    "for x in range(51):\n",
    "    for y in range(34):\n",
    "        for z in range(21):\n",
    "            if 2*x+3*y+5*z ==100:\n",
    "                #print(f'2*{x}+3*{y}+5*{z}')\n",
    "                soCach +=1\n",
    "\n",
    "print(soCach)"
   ]
  },
  {
   "cell_type": "code",
   "execution_count": null,
   "id": "8130f1b4",
   "metadata": {},
   "outputs": [],
   "source": []
  }
 ],
 "metadata": {
  "kernelspec": {
   "display_name": "Python 3",
   "language": "python",
   "name": "python3"
  },
  "language_info": {
   "codemirror_mode": {
    "name": "ipython",
    "version": 3
   },
   "file_extension": ".py",
   "mimetype": "text/x-python",
   "name": "python",
   "nbconvert_exporter": "python",
   "pygments_lexer": "ipython3",
   "version": "3.8.8"
  }
 },
 "nbformat": 4,
 "nbformat_minor": 5
}
