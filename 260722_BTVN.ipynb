{
 "cells": [
  {
   "cell_type": "code",
   "execution_count": 3,
   "id": "3110f1cb",
   "metadata": {},
   "outputs": [
    {
     "name": "stdout",
     "output_type": "stream",
     "text": [
      "Nhập tên:ĐẶNG    QuaNG SÁng\n",
      "Đặng Quang Sáng\n"
     ]
    }
   ],
   "source": [
    "textInput = input(\"Nhập tên:\")\n",
    "\n",
    "textInput = \" \".join(textInput.lower().strip().title().split())\n",
    "\n",
    "print(textInput)"
   ]
  },
  {
   "cell_type": "code",
   "execution_count": 2,
   "id": "812db363",
   "metadata": {},
   "outputs": [
    {
     "name": "stdout",
     "output_type": "stream",
     "text": [
      "Nhập chuỗi bất kì:465412s1dg32s1g56sd4g65sdg\n",
      "Tổng các số chẵn: 34\n",
      "Tổng các số lẻ: 21\n"
     ]
    }
   ],
   "source": [
    "textInput = input(\"Nhập chuỗi bất kì:\")\n",
    "\n",
    "sum_EvenNumber = 2*textInput.count('2') + 4*textInput.count('4') + 6*textInput.count('6')\\\n",
    "+ 8*textInput.count('8')\n",
    "print(f'Tổng các số chẵn: {sum_EvenNumber}')\n",
    "\n",
    "sum_OddNumber = 1*textInput.count('1') + 3*textInput.count('3') + 5*textInput.count('5')\\\n",
    "+ 7*textInput.count('7') + 9*textInput.count('9')\n",
    "print(f'Tổng các số lẻ: {sum_OddNumber}')"
   ]
  },
  {
   "cell_type": "code",
   "execution_count": null,
   "id": "e7cd9ee5",
   "metadata": {},
   "outputs": [],
   "source": []
  }
 ],
 "metadata": {
  "kernelspec": {
   "display_name": "Python 3",
   "language": "python",
   "name": "python3"
  },
  "language_info": {
   "codemirror_mode": {
    "name": "ipython",
    "version": 3
   },
   "file_extension": ".py",
   "mimetype": "text/x-python",
   "name": "python",
   "nbconvert_exporter": "python",
   "pygments_lexer": "ipython3",
   "version": "3.8.8"
  }
 },
 "nbformat": 4,
 "nbformat_minor": 5
}
