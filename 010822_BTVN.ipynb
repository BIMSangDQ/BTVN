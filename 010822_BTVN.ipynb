{
 "cells": [
  {
   "cell_type": "code",
   "execution_count": null,
   "id": "4529fd71",
   "metadata": {},
   "outputs": [],
   "source": [
    "#Vẽ bàn cờ tướng\n",
    "\n",
    "import turtle\n",
    "\n",
    "\n",
    "# Hàm di chuyển turtle không để lại đường đi\n",
    "def Goto(x, y):\n",
    "    t.setheading(0)\n",
    "    t.penup()\n",
    "    t.goto(x, y)\n",
    "    t.pendown()\n",
    "\n",
    "# align == 0: center\n",
    "# align == 1: left\n",
    "# align == 2: right   \n",
    "def Draw_position(x,y,_witdh,align):\n",
    "    if (align == 0 or align ==1):\n",
    "        Goto(x+_witdh/20, y+_witdh/20)\n",
    "        t.left(90)\n",
    "        t.forward(_witdh/10)\n",
    "        t.backward(_witdh/10)\n",
    "        t.right(90)\n",
    "        t.forward(_witdh/10)\n",
    "        \n",
    "        Goto(x+_witdh/20, y-_witdh/20)\n",
    "        t.right(90)\n",
    "        t.forward(_witdh/10)\n",
    "        t.backward(_witdh/10)\n",
    "        t.left(90)\n",
    "        t.forward(_witdh/10)\n",
    "        \n",
    "    if (align == 0 or align ==2):\n",
    "        Goto(x-_witdh/20, y+_witdh/20)\n",
    "        t.left(90)\n",
    "        t.forward(_witdh/10)\n",
    "        t.backward(_witdh/10)\n",
    "        t.left(90)\n",
    "        t.forward(_witdh/10)\n",
    "        \n",
    "        Goto(x-_witdh/20, y-_witdh/20)\n",
    "        t.right(90)\n",
    "        t.forward(_witdh/10)\n",
    "        t.backward(_witdh/10)\n",
    "        t.right(90)\n",
    "        t.forward(_witdh/10)\n",
    "        \n",
    "_witdh = int(input(\"Nhập kích thước ô trong bàn cờ : \"))\n",
    "\n",
    "t=turtle.Turtle()\n",
    "t.speed(10)\n",
    "\n",
    "for i in range(-5,5,1):\n",
    "    Goto(-4*_witdh, (i+0.5)*_witdh)\n",
    "    t.forward(8*_witdh)\n",
    "    \n",
    "for i in range(-4,5,1):\n",
    "    Goto(i*_witdh, (-4.5)*_witdh)\n",
    "    t.left(90)\n",
    "    if i == -4 or i == 4:\n",
    "        t.forward(9*_witdh)\n",
    "        t.right(90)\n",
    "    else:\n",
    "        t.forward(4*_witdh)\n",
    "        t.penup()\n",
    "        t.forward(_witdh)\n",
    "        t.pendown()\n",
    "        t.forward(4*_witdh)\n",
    "        t.right(90)\n",
    "        \n",
    "Goto(-1*_witdh, (-4.5)*_witdh)\n",
    "t.goto(_witdh,(-2.5)*_witdh)\n",
    "t.backward(2*_witdh)\n",
    "t.goto(_witdh, (-4.5)*_witdh)\n",
    "\n",
    "Goto(-1*_witdh, (4.5)*_witdh)\n",
    "t.goto(_witdh,(2.5)*_witdh)\n",
    "t.backward(2*_witdh)\n",
    "t.goto(_witdh, (4.5)*_witdh)\n",
    "\n",
    "\n",
    "Draw_position(-3*_witdh,-2.5*_witdh,_witdh,0)\n",
    "Draw_position(3*_witdh,-2.5*_witdh,_witdh,0)\n",
    "Draw_position(-3*_witdh,2.5*_witdh,_witdh,0)\n",
    "Draw_position(3*_witdh,2.5*_witdh,_witdh,0)\n",
    "\n",
    "for i in range(-4,5,2):\n",
    "    if (i ==-4):\n",
    "        Draw_position(i*_witdh,-1.5*_witdh,_witdh,1)\n",
    "        Draw_position(i*_witdh,1.5*_witdh,_witdh,1)\n",
    "    elif (i == 4):\n",
    "        Draw_position(i*_witdh,-1.5*_witdh,_witdh,2)\n",
    "        Draw_position(i*_witdh,1.5*_witdh,_witdh,2)\n",
    "    else:\n",
    "        Draw_position(i*_witdh,-1.5*_witdh,_witdh,0)\n",
    "        Draw_position(i*_witdh,1.5*_witdh,_witdh,0)\n",
    "    \n",
    "    \n",
    "t.hideturtle()\n",
    "turtle.done()"
   ]
  },
  {
   "cell_type": "code",
   "execution_count": null,
   "id": "3d0ad6b9",
   "metadata": {},
   "outputs": [],
   "source": [
    "# Bài 2: Nhập vào một số tự nhiên N.\n",
    "# In ra màn hình tất cả các số nhỏ hơn N và những số này chia kết cho 3 nhưng không chia hết cho 6.\n",
    "\n",
    "N = int(input(\"Nhập vào số tự nhiên n:\"))\n",
    "\n",
    "if N<=3:\n",
    "    print(\"Không có số nào thỏa điều kiện\")\n",
    "else:\n",
    "    i=3\n",
    "    print(\"Các số thỏa điều kiện:\", end=' ')\n",
    "    while i < N:\n",
    "        if i%3==0 and i%6!=0:\n",
    "            print(i,end=' ')\n",
    "        i+=1"
   ]
  },
  {
   "cell_type": "code",
   "execution_count": null,
   "id": "5c0609a3",
   "metadata": {
    "scrolled": true
   },
   "outputs": [],
   "source": [
    "textInput = input(\"Nhập tên:\")\n",
    "\n",
    "textInput = \" \".join(textInput.lower().strip().title().split())\n",
    "\n",
    "print(textInput)"
   ]
  },
  {
   "cell_type": "code",
   "execution_count": null,
   "id": "84c7736d",
   "metadata": {},
   "outputs": [],
   "source": [
    "textInput = input(\"Nhập tên:\")\n",
    "\n",
    "textInput = textInput.lower().strip().split()\n",
    "\n",
    "i=0\n",
    "Name = ''\n",
    "while i < len(textInput):\n",
    "    Name += \" \"+textInput[i][0].upper()+textInput[i][1:].lower()\n",
    "    i+=1\n",
    "    \n",
    "print(Name.lstrip())"
   ]
  },
  {
   "cell_type": "code",
   "execution_count": null,
   "id": "21360b97",
   "metadata": {},
   "outputs": [],
   "source": [
    "#Nhập 1 chuỗi kí tự, bao nhiêu kí tự là số, bao nhiêu kí tự nguyên âm\n",
    "textInput = input(\"Nhập chuỗi kí tự:\")\n",
    "textInput = textInput.lower()\n",
    "\n",
    "count1 = 0\n",
    "count2 = 0\n",
    "\n",
    "i=0\n",
    "while i<len(textInput):\n",
    "    if textInput[i].isnumeric():\n",
    "        count1+=1\n",
    "    elif textInput[i] == 'u' or textInput[i] == 'e' or textInput[i] == 'o'\\\n",
    "        or textInput[i] == 'a' or textInput[i] == 'i':\n",
    "        count2+=1\n",
    "    i+=1\n",
    "    \n",
    "print(f\"Chuỗi đã nhập có {count1} kí tự là số\")\n",
    "print(f\"Chuỗi đã nhập có {count2} kí tự nguyên âm\")"
   ]
  },
  {
   "cell_type": "code",
   "execution_count": 4,
   "id": "badcfc4b",
   "metadata": {},
   "outputs": [
    {
     "name": "stdout",
     "output_type": "stream",
     "text": [
      "Nhập số thứ nhất:69\n",
      "Nhập số thứ hai:96\n",
      "['1', '3', '23']\n",
      "['1', '2', '3', '4', '6', '8', '12', '16', '24', '32', '48']\n",
      "Ước chung lớn nhất của 2 số 69 và 96 là 3\n"
     ]
    }
   ],
   "source": [
    "A = int(input(\"Nhập số thứ nhất: \"))\n",
    "B = int(input(\"Nhập số thứ hai: \"))\n",
    "\n",
    "Uoc_A = \"\"\n",
    "Uoc_B = \"\"\n",
    "\n",
    "i=1\n",
    "while i <= A/2:\n",
    "    if A%i==0:\n",
    "        Uoc_A = Uoc_A + f\"{i} \"\n",
    "    i+=1\n",
    "Uoc_A = Uoc_A.split()\n",
    "\n",
    "i=1\n",
    "while i <= B/2:\n",
    "    if B%i==0:\n",
    "        Uoc_B =Uoc_B+ f\"{i} \"\n",
    "    i+=1\n",
    "Uoc_B = Uoc_B.split()\n",
    "\n",
    "print(Uoc_A)\n",
    "print(Uoc_B)\n",
    "\n",
    "i=0\n",
    "\n",
    "UCLN = \"\"\n",
    "while i< len(Uoc_A):\n",
    "    j=0\n",
    "    while j< len(Uoc_B):\n",
    "        if int(Uoc_A[i])==int(Uoc_B[j]):\n",
    "            UCLN = UCLN+ f\"{Uoc_A[i]} \"\n",
    "            break\n",
    "        j+=1\n",
    "    i+=1\n",
    "UCLN = UCLN.split()\n",
    "print(f'Ước chung lớn nhất của 2 số {A} và {B} là {UCLN[-1]}')"
   ]
  },
  {
   "cell_type": "code",
   "execution_count": 33,
   "id": "4d4051b0",
   "metadata": {},
   "outputs": [
    {
     "name": "stdout",
     "output_type": "stream",
     "text": [
      "1\t\t-1\t\t0.0\t\t0.0\n",
      "1.0\n",
      "2\t\t-1\t\t-0.5\t\t-0.5\n",
      "0.12710512110843042\n",
      "3\t\t-0.75\t\t-0.5\t\t-0.75\n",
      "-0.20927220728231938\n",
      "4\t\t-0.625\t\t-0.5\t\t-0.625\n",
      "-0.04983584442147193\n",
      "5\t\t-0.625\t\t-0.5625\t\t-0.5625\n",
      "0.03648015119490289\n",
      "6\t\t-0.59375\t\t-0.5625\t\t-0.59375\n",
      "-0.007220681084346481\n",
      "7\t\t-0.59375\t\t-0.578125\t\t-0.578125\n",
      "0.014494553895267215\n",
      "8\t\t-0.59375\t\t-0.5859375\t\t-0.5859375\n",
      "0.0036030751816206186\n",
      "9\t\t-0.58984375\t\t-0.5859375\t\t-0.58984375\n",
      "-0.0018172765008965808\n",
      "10\t\t-0.58984375\t\t-0.587890625\t\t-0.587890625\n",
      "0.0008907819834432784\n",
      "11\t\t-0.5888671875\t\t-0.587890625\t\t-0.5888671875\n",
      "-0.00046377672676489734\n",
      "12\t\t-0.5888671875\t\t-0.58837890625\t\t-0.58837890625\n",
      "0.00021337027743073556\n",
      "13\t\t-0.588623046875\t\t-0.58837890625\t\t-0.588623046875\n",
      "-0.00012523631440686245\n",
      "14\t\t-0.588623046875\t\t-0.5885009765625\t\t-0.5885009765625\n",
      "4.4058709328553824e-05\n",
      "15\t\t-0.58856201171875\t\t-0.5885009765625\t\t-0.58856201171875\n",
      "-4.0590870616363794e-05\n",
      "16\t\t-0.58856201171875\t\t-0.588531494140625\t\t-0.588531494140625\n",
      "1.7334023406645471e-06\n",
      "17\t\t-0.5885467529296875\t\t-0.588531494140625\t\t-0.5885467529296875\n",
      "-1.9428863392234597e-05\n",
      "18\t\t-0.5885391235351562\t\t-0.588531494140625\t\t-0.5885391235351562\n",
      "-8.847762839270246e-06\n",
      "19\t\t-0.5885353088378906\t\t-0.588531494140625\t\t-0.5885353088378906\n",
      "-3.5571883276741545e-06\n",
      "20\t\t-0.5885334014892578\t\t-0.588531494140625\t\t-0.5885334014892578\n",
      "-9.118950130559966e-07\n"
     ]
    }
   ],
   "source": [
    "import math\n",
    "\n",
    "def fx(x):\n",
    "    return (math.e)**x + math.sin(x)\n",
    "                            \n",
    "a=-1\n",
    "b=1\n",
    "\n",
    "alpha = 0.00001\n",
    "# print(\"n\",\"a\",\"fa\",\"b\",\"fb\",\"x\",\"fx\",sep=\"\\t\\t\")\n",
    "n=0\n",
    "while n<20:\n",
    "    x = (a+b)/2\n",
    "#     print(fx(a)*fx(x))\n",
    "#     print(fx(b)*fx(x))\n",
    "    if fx(a)*fx(x) <0:\n",
    "        a=a\n",
    "        b=x\n",
    "    elif fx(b)*fx(x) <0:\n",
    "        a=x\n",
    "        b=b\n",
    "    tb = (a+b)/2\n",
    "    n+=1\n",
    "    print(f\"{n}\",f\"{a}\",f\"{b}\",f\"{x}\",sep=\"\\t\\t\",end='\\n')\n"
   ]
  },
  {
   "cell_type": "code",
   "execution_count": 29,
   "id": "88516d27",
   "metadata": {},
   "outputs": [
    {
     "name": "stdout",
     "output_type": "stream",
     "text": [
      "-0.47359154363645417\n"
     ]
    }
   ],
   "source": [
    "import math\n",
    "\n",
    "def fx(x):\n",
    "    return (math.e)**x + math.sin(x)\n",
    "\n",
    "\n",
    "\n",
    "print(fx(-1))"
   ]
  },
  {
   "cell_type": "code",
   "execution_count": 7,
   "id": "e6e54003",
   "metadata": {},
   "outputs": [],
   "source": [
    "def checkContrain(s1, s2):\n",
    "    dict1 = {}\n",
    "    dict2 = {}\n",
    "    for c in s1:\n",
    "        if c not in dict1.keys():\n",
    "            dict1[c] = 1\n",
    "        else:\n",
    "            dict1[c] = dict1[c]+1\n",
    "\n",
    "    for c in s2:\n",
    "        if c not in dict2.keys():\n",
    "            dict2[c] = 1\n",
    "        else:\n",
    "            dict2[c] = dict2[c]+1\n",
    "\n",
    "    for key in dict1.keys():\n",
    "        if key not in dict2.keys():\n",
    "            return '0'\n",
    "        \n",
    "    for key in dict2.keys():\n",
    "        if key not in dict1.keys():\n",
    "            return '0'\n",
    "        \n",
    "    for key in dict1.keys():\n",
    "        if dict1[key] != dict2[key]:\n",
    "            return '0'\n",
    "    return '1'\n"
   ]
  },
  {
   "cell_type": "code",
   "execution_count": 8,
   "id": "5825f7ac",
   "metadata": {},
   "outputs": [
    {
     "data": {
      "text/plain": [
       "'1'"
      ]
     },
     "execution_count": 8,
     "metadata": {},
     "output_type": "execute_result"
    }
   ],
   "source": [
    "checkContrain('abcd','badc')"
   ]
  },
  {
   "cell_type": "code",
   "execution_count": 10,
   "id": "b105997d",
   "metadata": {},
   "outputs": [],
   "source": [
    "def solve(planText):\n",
    "    dict1 = []\n",
    "    sub = []\n",
    "    count = 1\n",
    "    isadd = False\n",
    "    for i in range(1,len(planText)):\n",
    "        if i == len(planText)-1 and planText[i] == planText[i-1]:\n",
    "            isadd = True\n",
    "\n",
    "        if planText[i] == planText[i-1]:\n",
    "            count +=1\n",
    "        else:\n",
    "            sub = [planText[i-1],count]\n",
    "            dict1.append(sub)\n",
    "            count = 1\n",
    "\n",
    "    sub = [planText[-1],count]\n",
    "    dict1.append(sub)\n",
    "\n",
    "    s = ''\n",
    "    for key,count in dict1:\n",
    "        n = hex(count%16).replace('0x','')\n",
    "        print(key,hex(count%16))\n",
    "        s = s+key+n\n",
    "    \n",
    "    return(s[::-1])\n",
    "\n"
   ]
  },
  {
   "cell_type": "code",
   "execution_count": 15,
   "id": "3e4161a0",
   "metadata": {},
   "outputs": [
    {
     "name": "stdout",
     "output_type": "stream",
     "text": [
      "0x3057\n"
     ]
    }
   ],
   "source": [
    "print(hex(12375))"
   ]
  }
 ],
 "metadata": {
  "kernelspec": {
   "display_name": "Python 3",
   "language": "python",
   "name": "python3"
  },
  "language_info": {
   "codemirror_mode": {
    "name": "ipython",
    "version": 3
   },
   "file_extension": ".py",
   "mimetype": "text/x-python",
   "name": "python",
   "nbconvert_exporter": "python",
   "pygments_lexer": "ipython3",
   "version": "3.10.8 (tags/v3.10.8:aaaf517, Oct 11 2022, 16:50:30) [MSC v.1933 64 bit (AMD64)]"
  },
  "vscode": {
   "interpreter": {
    "hash": "69bdb29fa5b284b7c766c6014f8dd1955f741bad82f646884d6bfd8516008893"
   }
  }
 },
 "nbformat": 4,
 "nbformat_minor": 5
}
