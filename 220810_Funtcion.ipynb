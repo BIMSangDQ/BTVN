{
 "cells": [
  {
   "cell_type": "code",
   "execution_count": 7,
   "id": "8f368593",
   "metadata": {
    "slideshow": {
     "slide_type": "slide"
    }
   },
   "outputs": [
    {
     "name": "stdout",
     "output_type": "stream",
     "text": [
      "Hàm tính giai thừa của mmột số\n",
      "    number: số truyền vào\n",
      "    kết quả: Giai thừa của số n\n",
      "Help on function gt in module __main__:\n",
      "\n",
      "gt(number=5)\n",
      "    Hàm tính giai thừa của mmột số\n",
      "    number: số truyền vào\n",
      "    kết quả: Giai thừa của số n\n",
      "\n",
      "120\n"
     ]
    }
   ],
   "source": [
    "# hàm tính giai thừa\n",
    "\n",
    "def gt(number=5):\n",
    "    '''Hàm tính giai thừa của mmột số\n",
    "    number: số truyền vào\n",
    "    kết quả: Giai thừa của số n'''\n",
    "    result=1\n",
    "    for i in range(1,number+1,1):\n",
    "        result = result*i\n",
    "        \n",
    "    return result\n",
    "\n",
    "print(gt.__doc__)\n",
    "\n",
    "help(gt)\n",
    "\n",
    "print(gt())\n",
    "\n",
    "#Tham số ko bắt buộc nằm sau các tham số bắt buộc \n",
    "#tham số có trả về và không trả về: Trả về với return nếu ko return trả về none"
   ]
  },
  {
   "cell_type": "code",
   "execution_count": 9,
   "id": "098bae79",
   "metadata": {
    "slideshow": {
     "slide_type": "-"
    }
   },
   "outputs": [
    {
     "name": "stdout",
     "output_type": "stream",
     "text": [
      "Dang Quang Sang\n",
      "Help on function BoDauTiengViet in module __main__:\n",
      "\n",
      "BoDauTiengViet(Name)\n",
      "    Hàm chuyển đổi bỏ dấu tiếng Việt\n",
      "    name: chuỗi muốn bỏ dấu\n",
      "    kết quả: trả về chuỗi đã boỏ dấu\n",
      "\n"
     ]
    }
   ],
   "source": [
    "# Bài 1: Trong các phần mềm quản lý nhân sự,\n",
    "#     chức năng tìm kiếm thông tin nhân sự thông qua tên của nhân viên là một chức năng quan trọng của phần mềm.\n",
    "#     Chức năng có khả năng tìm kiếm khi người dùng nhập vào tên tiếng Việt có dấu hoặc kể cả không có dấu.\n",
    "#     Để làm điều đó, khi nhập vào dữ liệu là tiếng Việt có dấu được chuyển sang dữ liệu tiếng Việt không có dấu.\n",
    "#     Viết chương trình chuyển tiếng Việt có dấu sang tiếng Việt không có dấu.\n",
    "#     Ví dụ: Nhập vào là \"Nguyễn văn bình\" thì kết quả là \"Nguyen van binh\".\n",
    "\n",
    "def BoDauTiengViet(Name):\n",
    "    '''Hàm chuyển đổi bỏ dấu tiếng Việt\n",
    "    Name: chuỗi muốn bỏ dấu\n",
    "    kết quả: trả về chuỗi đã bỏ dấu'''\n",
    "\n",
    "    Name.strip()\n",
    "\n",
    "    string1 = \"áàảãạăắằẳẵặâấầẩẫậ\"\n",
    "    string2 = \"ÁÀẢÃẠĂẮẰẲẴẶÂẤẦẨẪẬ\"\n",
    "    string3 = \"éèẻẽẹêếềểễệ\"\n",
    "    string4 = \"ÉÈẺẼẸÊẾỀỂỄỆ\"\n",
    "    string5 = \"óòỏõọôốồổỗộơớờởỡợ\"\n",
    "    string6 = \"ÓÒỎÕỌÔỐỒỔỖỘƠỚỜỞỠỢ\"\n",
    "    string7 = \"íìỉĩị\"\n",
    "    string8 = \"ÍÌỈĨỊ\"\n",
    "    string9 = \"úùủũụưứừửữự\"\n",
    "    string10 = \"ÚÙỦŨỤƯỨỪỬỮỰ\"\n",
    "    string11 = \"ýỳỷỹỵ\"\n",
    "    string12 = \"ÝỲỶỸỴ\"\n",
    "    string13 = \"đ\"\n",
    "    string14 = \"Đ\"\n",
    "\n",
    "    newName = \"\"\n",
    "    for char in Name:\n",
    "        if char in string1:\n",
    "            newName += 'a'\n",
    "        elif char in string2:\n",
    "            newName += 'A'\n",
    "        elif char in string3:\n",
    "            newName += 'e'\n",
    "        elif char in string4:\n",
    "            newName += 'E'\n",
    "        elif char in string5:\n",
    "            newName += 'o'\n",
    "        elif char in string6:\n",
    "            newName += 'O'\n",
    "        elif char in string7:\n",
    "            newName += 'i'\n",
    "        elif char in string8:\n",
    "            newName += 'I'\n",
    "        elif char in string9:\n",
    "            newName += 'u'\n",
    "        elif char in string10:\n",
    "            newName += 'U'\n",
    "        elif char in string11:\n",
    "            newName += 'y'\n",
    "        elif char in string12:\n",
    "            newName += 'Y'\n",
    "        elif char in string13:\n",
    "            newName += 'd'\n",
    "        elif char in string14:\n",
    "            newName += 'D'\n",
    "        else:\n",
    "            newName += char\n",
    "    return newName\n",
    "\n",
    "newName = BoDauTiengViet(\"Đặng Quang Sáng\")\n",
    "print(newName)\n",
    "\n",
    "help(BoDauTiengViet)"
   ]
  },
  {
   "cell_type": "code",
   "execution_count": null,
   "id": "93c01377",
   "metadata": {},
   "outputs": [],
   "source": []
  }
 ],
 "metadata": {
  "celltoolbar": "Slideshow",
  "kernelspec": {
   "display_name": "Python 3",
   "language": "python",
   "name": "python3"
  },
  "language_info": {
   "codemirror_mode": {
    "name": "ipython",
    "version": 3
   },
   "file_extension": ".py",
   "mimetype": "text/x-python",
   "name": "python",
   "nbconvert_exporter": "python",
   "pygments_lexer": "ipython3",
   "version": "3.8.8"
  }
 },
 "nbformat": 4,
 "nbformat_minor": 5
}
