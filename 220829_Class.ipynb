{
 "cells": [
  {
   "cell_type": "code",
   "execution_count": null,
   "id": "e11c84fe",
   "metadata": {},
   "outputs": [],
   "source": [
    "class car:\n",
    "    \"\"\"Class ô tô\"\"\"\n",
    "    #Liệt kê thuộc tính\n",
    "    engine = 'V8'\n",
    "    company = 'Toyota'\n",
    "    speed = 200\n",
    "    \n",
    "    #Hàm khởi tạo: Giúp khởi tạo các giá trị của thuộc tính\n",
    "    def __init__(self,en,com,sp):\n",
    "        self.engine = en\n",
    "        self.company = com\n",
    "        self.speed = sp\n",
    "    \n",
    "    #Liệt kê các hành vi (phương thức)\n",
    "    def run(self):\n",
    "        print('Any car can run')\n",
    "        \n",
    "    def transport(self):\n",
    "        print('Any car can transport')\n",
    "        \n",
    "    def stop(self):\n",
    "        print('Any car can stop')"
   ]
  },
  {
   "cell_type": "code",
   "execution_count": null,
   "id": "a09a8b5d",
   "metadata": {},
   "outputs": [],
   "source": [
    "#Xây dựng 100 tam giác. Kiểm tra xem có bao nhiêu tam giác thực sự\n",
    "class Triangle:\n",
    "    def __init__(self,a,b,c):\n",
    "        self.a=a\n",
    "        self.b=b\n",
    "        self.c=c\n",
    "        \n",
    "    def validate(self):\n",
    "        if self.a + self.b > self.c and self.a + self.c > self.b and self.b + self.c > self.a:\n",
    "            return True\n",
    "        else:\n",
    "            return False\n",
    "   \n",
    "    def length(self):\n",
    "        if self.validate():\n",
    "            return self.a + self.b + self.c\n",
    "        else:\n",
    "            return None\n"
   ]
  },
  {
   "cell_type": "code",
   "execution_count": null,
   "id": "2ba1b9cf",
   "metadata": {},
   "outputs": [],
   "source": [
    "import random\n",
    "edges = [i for i in range(1,100,1)]\n",
    "triangles = []\n",
    "for i in range(100):\n",
    "    a= random.choice(edges)\n",
    "    b= random.choice(edges)\n",
    "    c= random.choice(edges)\n",
    "    tg = Triangle(a,b,c)\n",
    "    print(a,b,c,tg.validate(),tg.length(),sep=\"\\t\")\n",
    "    triangles.append(tg)"
   ]
  },
  {
   "cell_type": "code",
   "execution_count": 1,
   "id": "ce1bbb19",
   "metadata": {},
   "outputs": [],
   "source": [
    "# Bài tập: Định nghĩa lớp điểm (point) gồm 2 thuộc tính x và y.\n",
    "# Các phương thức in thông tin tọa độ của điểm đó ra (info); Tính khoảng cách từ 2 điểm (distance)\n",
    "# Phương thức tính khoảng cách đến gốc tọa độ (O)\n",
    "import math\n",
    "class Point():\n",
    "    def __init__(self,x,y):\n",
    "        self.X = x\n",
    "        self.Y = y\n",
    "        \n",
    "    def info(self):\n",
    "        print(f'{self.X}-{self.Y}')\n",
    "        \n",
    "    def distance(self,point2):\n",
    "        return math.sqrt((point2.X - self.X)**2+(point2.Y - self.Y)**2)\n",
    "    \n",
    "    def distanceOx(self):\n",
    "        return math.sqrt(self.X**2 + self.Y**2)\n",
    "    \n",
    "\n",
    "\n"
   ]
  },
  {
   "cell_type": "code",
   "execution_count": 4,
   "id": "b0a9ed2d",
   "metadata": {},
   "outputs": [
    {
     "name": "stdout",
     "output_type": "stream",
     "text": [
      "3-5\n",
      "1.4142135623730951\n",
      "5.830951894845301\n"
     ]
    }
   ],
   "source": [
    "a = Point(3,5)\n",
    "b = Point(4,4)\n",
    "\n",
    "a.info()\n",
    "print(a.distance(b))\n",
    "print(a.distanceOx())"
   ]
  },
  {
   "cell_type": "code",
   "execution_count": null,
   "id": "f3dc95e9",
   "metadata": {},
   "outputs": [],
   "source": []
  }
 ],
 "metadata": {
  "kernelspec": {
   "display_name": "Python 3",
   "language": "python",
   "name": "python3"
  },
  "language_info": {
   "codemirror_mode": {
    "name": "ipython",
    "version": 3
   },
   "file_extension": ".py",
   "mimetype": "text/x-python",
   "name": "python",
   "nbconvert_exporter": "python",
   "pygments_lexer": "ipython3",
   "version": "3.8.8"
  }
 },
 "nbformat": 4,
 "nbformat_minor": 5
}
