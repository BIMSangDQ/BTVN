{
 "cells": [
  {
   "cell_type": "markdown",
   "metadata": {},
   "source": [
    "# KIỂM ĐỊNH GIẢ THUYẾT"
   ]
  },
  {
   "attachments": {},
   "cell_type": "markdown",
   "metadata": {},
   "source": [
    "## I. Kiểm định giả thuyết\n",
    "\n",
    "- Là việc chấp nhận hoặc bác bỏ một nhận định về tập hợp tất cả các đối tượng liên quan dựa trên một tập đối tượng mẫu"
   ]
  },
  {
   "cell_type": "markdown",
   "metadata": {},
   "source": [
    "<b>Tổng thể chung:</b> tập hợp các đối tượng liên quan đến 1 vấn đề nghiên cứu.\n",
    "\n",
    "- <b>Tổng thể bộc lộ:</b> biết đc tất cả các đối tượng.\n",
    "- <b>Tổng thể tiềm ẩn:</b>\n",
    "\n",
    "- <b>Tổng thể mẫu:</b> là tập hợp một số đối tượng đc lựa chọn từ tổng thể chung để phân tích."
   ]
  },
  {
   "cell_type": "markdown",
   "metadata": {},
   "source": [
    "<b>Cách viết giả thuyết:</b>\n",
    "\n",
    "- <b>giả thuyết không (H0) (null hypothesis)</b>- H0 là giả thuyết mà ta muốn kiểm định.\n",
    "\n",
    "- <b>Giả thuyết đối (H1) (alternative hypothesis)</b> - H1 là giả thuyết đối lập với giả thuyết không"
   ]
  },
  {
   "cell_type": "markdown",
   "metadata": {},
   "source": [
    "### <b>Các loại sai lầm khi kiểm định giả thuyết</b>"
   ]
  },
  {
   "cell_type": "markdown",
   "metadata": {},
   "source": [
    "- Chấp nhận H0\n",
    "- Bác bỏ H0 nhận H1\n",
    "\n",
    "- alpha: xác suất cho phép mắc sai lầm loại 1 - mức ý nghĩa (significanie value).\n",
    "\n",
    "- Pvalue: Xác suất phạm sau lầm lớn nhất nếu bác bỏ H0.\n",
    "\n",
    "- Pvalue >= alpha: chưa đủ cơ sở để bác bỏ giả thuyết H0."
   ]
  },
  {
   "cell_type": "markdown",
   "metadata": {},
   "source": [
    "<b>vd:</b> P=1.2 ; alpha = 0.05 (95%)\n",
    "H0: 55tr\n",
    "H1 != 55\n",
    "50 ng\n",
    "\n",
    "P > alpha => H0 đúng\n",
    "\n",
    "Với kđ phía trái hoặc phải : P > alpha/2"
   ]
  },
  {
   "cell_type": "markdown",
   "metadata": {},
   "source": [
    "### <b>Các bước tiến hành</b>\n",
    "\n",
    "- Phát biểu giả thuyết H0 và H1\n",
    "- Chọn mức ý nghĩa (alpha thường là 0.05)\n",
    "- Chọn phương pháp kiểm định\n",
    "- Tính toán các giá trị kiểm định theo pp kiểm định\n",
    "- Kết luận"
   ]
  },
  {
   "cell_type": "markdown",
   "metadata": {},
   "source": [
    "### <b>Three different types</b>\n",
    "- <b>One sample T-test</b>: để kiểm tra giá trị trung bình của mẫu có bằng giá trị cụ thể nào không.\n",
    "- <b>Two sample T-test</b>: để kiểm tra giá trị trung bình của 2 tập dữ liệu có bằng nhau hay không.\n",
    "- <b>Paired sample T-test</b>: để kiểm tra giá trị trung bình của 2 tập dữ liệu có bằng nhau hay không. (Một tập dữ liệu trong 2 điều kiện khác nhau).\n"
   ]
  },
  {
   "attachments": {},
   "cell_type": "markdown",
   "metadata": {},
   "source": [
    "#### <b>1. KIỂM ĐỊNH GIÁ TRỊ TRUNG BÌNH</b>"
   ]
  },
  {
   "cell_type": "markdown",
   "metadata": {},
   "source": [
    "##### <b>1. One sample T-test by hand:</b>\n",
    "B1: Viết H0 và H1.\n",
    "B2: Tìm các giá trị.\n",
    "\n",
    "       - Giá trị trung bình tập mẫu (x)\n",
    "       - Xác định giá trị trung bình của toàn bộ tập dữ liệu (u)\n",
    "       - Độ lệch chuẩn trên tập mẫu (s)\n",
    "       - Số lượng tập phần tử tập mẫu.(n)\n",
    "\n",
    "B3: tính tscore theo công thức\n",
    "\n",
    "        - t = (x-u)/(s/sqrt(n))\n",
    "\n",
    "B4: critical t-value tra trong bảng t-Table\n",
    "B5: so sánh t (B3) và critical t-value\n",
    "\n",
    "        <li> nếu t(B3) <= thì giả thuyết H0 đúng</li>\n"
   ]
  },
  {
   "cell_type": "markdown",
   "metadata": {},
   "source": [
    "##### <b>2. One sample T-test using Scipy</b>\n",
    "scipy.stats.ttest_1samp(a,popmean,axis =0)\n",
    "- a: tập dữ liệu mẫu thực hiện test\n",
    "- popmean: giá trị trung bình\n",
    "- axis: tùy chọn chiều dữ liệu\n",
    "\n",
    "Trả về: t statistic và pvalue"
   ]
  },
  {
   "cell_type": "markdown",
   "metadata": {},
   "source": [
    "##### <b>3 Ví dụ:</b>\n",
    "Giá sử để kiểm tra giả thuyết thu nhập bình quân đầu ng/năm của Nghệ An là 5000$. Để kiểm tra giả thuyêt sđó đúng hay sai, ng ta thu thập dữ liệu của 15 cá nhân bất kỳ như bên dưới. Hãy kiểm chứng giả thuyết trên."
   ]
  },
  {
   "cell_type": "code",
   "execution_count": 47,
   "metadata": {},
   "outputs": [],
   "source": [
    "income = [1120, 1450, 2300, 3540, 4120, 4560, 5490, 3460, 4750, 2300, \n",
    "          9050, 8630, 8125, 7230, 3750]"
   ]
  },
  {
   "cell_type": "markdown",
   "metadata": {},
   "source": [
    "Cách 1: by hand"
   ]
  },
  {
   "cell_type": "markdown",
   "metadata": {},
   "source": [
    "- H0: thu nhập bình quân đầu ng/năm của Nghệ An bằng 5000$\n",
    "- H1: thu nhập bình quân đầu ng/năm của Nghệ An khác 5000$"
   ]
  },
  {
   "cell_type": "markdown",
   "metadata": {},
   "source": [
    "- Xác định các đại lượng để tính t-score"
   ]
  },
  {
   "cell_type": "code",
   "execution_count": 48,
   "metadata": {},
   "outputs": [
    {
     "data": {
      "text/plain": [
       "4658.333333333333"
      ]
     },
     "execution_count": 48,
     "metadata": {},
     "output_type": "execute_result"
    }
   ],
   "source": [
    "sample_mean = sum(income)/len(income)\n",
    "sample_mean"
   ]
  },
  {
   "cell_type": "code",
   "execution_count": 49,
   "metadata": {},
   "outputs": [],
   "source": [
    "pop_mean = 5000"
   ]
  },
  {
   "cell_type": "markdown",
   "metadata": {},
   "source": [
    "\\mu - giá trị trung bình toàn bộ dữ liệu là 5000"
   ]
  },
  {
   "cell_type": "markdown",
   "metadata": {},
   "source": [
    "Độ lệch chuẩn"
   ]
  },
  {
   "cell_type": "code",
   "execution_count": 50,
   "metadata": {},
   "outputs": [
    {
     "data": {
      "text/plain": [
       "2478.441490578751"
      ]
     },
     "execution_count": 50,
     "metadata": {},
     "output_type": "execute_result"
    }
   ],
   "source": [
    "from math import sqrt\n",
    "\n",
    "s_squared = 0\n",
    "for i in income:\n",
    "    s_squared += (i-sample_mean)**2\n",
    "s = sqrt(s_squared/len(income))\n",
    "s"
   ]
  },
  {
   "cell_type": "markdown",
   "metadata": {},
   "source": [
    "n- số lượng mẫu quan sát = 15"
   ]
  },
  {
   "cell_type": "markdown",
   "metadata": {},
   "source": [
    "Tính t-score theo công thức"
   ]
  },
  {
   "cell_type": "code",
   "execution_count": 51,
   "metadata": {},
   "outputs": [
    {
     "data": {
      "text/plain": [
       "-0.533911861540536"
      ]
     },
     "execution_count": 51,
     "metadata": {},
     "output_type": "execute_result"
    }
   ],
   "source": [
    "n= 15\n",
    "t_calculated = (sample_mean - pop_mean)*sqrt(n)/s\n",
    "t_calculated"
   ]
  },
  {
   "cell_type": "code",
   "execution_count": 52,
   "metadata": {},
   "outputs": [],
   "source": [
    "t_critical = 2.145"
   ]
  },
  {
   "cell_type": "markdown",
   "metadata": {},
   "source": [
    "Kết luận"
   ]
  },
  {
   "cell_type": "code",
   "execution_count": 53,
   "metadata": {},
   "outputs": [
    {
     "name": "stdout",
     "output_type": "stream",
     "text": [
      "Do t_calculated=-0.533911861540536< t_critical = 2.145\n",
      "Vậy với alpha = 0.05, H0 là đúng và HA là sai. Nghĩa là thu nhập bình quân/ năm = 5000\n"
     ]
    }
   ],
   "source": [
    "if t_calculated <= t_critical:\n",
    "    print(f'Do t_calculated={t_calculated}< t_critical = {t_critical}\\nVậy với alpha = 0.05, H0 là đúng và HA là sai. Nghĩa là thu nhập bình quân/ năm = 5000')\n",
    "else:\n",
    "    print(f'Do t_calculated={t_calculated}< t_critical = {t_critical}\\nVậy với alpha = 0.05, H0 là sai và HA là đúng. Nghĩa là thu nhập bình quân/ năm != 5000')"
   ]
  },
  {
   "cell_type": "markdown",
   "metadata": {},
   "source": [
    "##### Cách 2 Sử dụng Scipy "
   ]
  },
  {
   "cell_type": "code",
   "execution_count": 54,
   "metadata": {},
   "outputs": [],
   "source": [
    "import numpy as np\n",
    "import scipy.stats as stats"
   ]
  },
  {
   "cell_type": "code",
   "execution_count": 55,
   "metadata": {},
   "outputs": [
    {
     "data": {
      "text/plain": [
       "[1120,\n",
       " 1450,\n",
       " 2300,\n",
       " 3540,\n",
       " 4120,\n",
       " 4560,\n",
       " 5490,\n",
       " 3460,\n",
       " 4750,\n",
       " 2300,\n",
       " 9050,\n",
       " 8630,\n",
       " 8125,\n",
       " 7230,\n",
       " 3750]"
      ]
     },
     "execution_count": 55,
     "metadata": {},
     "output_type": "execute_result"
    }
   ],
   "source": [
    "income"
   ]
  },
  {
   "cell_type": "code",
   "execution_count": 56,
   "metadata": {},
   "outputs": [
    {
     "name": "stdout",
     "output_type": "stream",
     "text": [
      "t_statistic -0.5158078623228827\n",
      "p_value 0.614037791906036\n"
     ]
    }
   ],
   "source": [
    "t_statistic, p_value = stats.ttest_1samp(a=income,popmean=5000)\n",
    "print('t_statistic',t_statistic)\n",
    "print ('p_value',p_value)"
   ]
  },
  {
   "cell_type": "markdown",
   "metadata": {},
   "source": [
    "Đọc kết quả:\n",
    "\n",
    "Giả sử alpha = 0.05\n",
    "\n",
    "pvlue = 0.614 > alpha, Vì vậy H0 đc chấp nhận, HA là sai"
   ]
  },
  {
   "cell_type": "markdown",
   "metadata": {},
   "source": [
    "<b>pvalue:</b>\n",
    "- là số đc tính từ statistical test. tìm đc tập mẫu đại diện cho H0 đúng.\n",
    "- là giá trị giúp khi nào loại bỏ HA. Pvalue càng nhỏ thì H0 càng sai.\n",
    "- nói cho bạn biết rằng cái dữ liệu test có thể thỏa mãn đc H0."
   ]
  },
  {
   "cell_type": "markdown",
   "metadata": {},
   "source": [
    "#### 2.Kiểm định giá trị trung bình độc lập\n",
    "\n",
    "Two sample T-test\n",
    "\n",
    "- 2 tập có độc lập không?\n",
    "- Giá trị trong 2 tập có phân bố chuẩn không?\n",
    "- 2 tập mẫu có cùng variances ?"
   ]
  },
  {
   "cell_type": "markdown",
   "metadata": {},
   "source": [
    "ttest_ind(data_group1,data_group2, equal_var = True/False)\n",
    "\n",
    "- equa_var: (True) Khi phương sai trên toàn bộ hai nhóm dữ liệu là bằng nhau, False ngược lại (Welch's t-test)\n",
    "\n",
    "Lưu ý: Nếu tỉ lệ phương sai của 2 nhóm dữ liệu lớn hơn với nhóm dữ liệu bé hơn tỉ lệ 4:1 thì phương sai của hai nhóm dữ liệu đc coi là bằng nhau"
   ]
  },
  {
   "cell_type": "markdown",
   "metadata": {},
   "source": [
    "**Vd:**\n",
    "Cho 2 tập là dữ liệu chiều cao của 20 học sinh 2 lớp khác nhau. Kiểm tra xem hai lớp hs đó có chiều cao trung bình bằng nhau hay không"
   ]
  },
  {
   "cell_type": "code",
   "execution_count": 57,
   "metadata": {},
   "outputs": [],
   "source": [
    "stud_group1 = np.array([14, 15, 15, 16, 13, 14.5, 14,\n",
    "                        17, 16, 14, 19, 20, 21, 15,\n",
    "                        15, 16, 16, 13, 14, 12])\n",
    "stud_group2 = np.array([15, 17, 14, 17, 14, 12.5, 12,\n",
    "                        19, 19, 14, 17, 22, 24, 16,\n",
    "                        13, 16, 13, 18, 15, 13])\n"
   ]
  },
  {
   "cell_type": "code",
   "execution_count": 58,
   "metadata": {},
   "outputs": [
    {
     "name": "stdout",
     "output_type": "stream",
     "text": [
      "5.086875000000001\n",
      "9.711875000000001\n"
     ]
    }
   ],
   "source": [
    "# Kiểm tra phương sai\n",
    "var_gp1 = np.var(stud_group1)\n",
    "var_gp2 = np.var(stud_group2)\n",
    "print(var_gp1)\n",
    "print(var_gp2)"
   ]
  },
  {
   "cell_type": "code",
   "execution_count": 59,
   "metadata": {},
   "outputs": [
    {
     "data": {
      "text/plain": [
       "Ttest_indResult(statistic=-0.6231993234428195, pvalue=0.5368762754915417)"
      ]
     },
     "execution_count": 59,
     "metadata": {},
     "output_type": "execute_result"
    }
   ],
   "source": [
    "stats.ttest_ind(a= stud_group1,b=stud_group2,equal_var=True)"
   ]
  },
  {
   "cell_type": "markdown",
   "metadata": {},
   "source": [
    "- H0: chiều cao trung bình lớp 1 = lớp 2\n",
    "- H1: 2 lớp khác nhau.\n",
    "\n",
    "alpha 0.05, pvalue = 0.5368 > alpha, với độ sai lệch 5% thì ko đủ cơ sở đễ phủ nhận H0, nghĩa là chiều cao trung bình của hs lớp 1 tương đương với chiều cao trung bình lớp thứ 2"
   ]
  },
  {
   "attachments": {},
   "cell_type": "markdown",
   "metadata": {},
   "source": [
    "#### 3.Kiểm định so sánh cặp\n",
    "\n",
    "test_rel (arr1, arr2)"
   ]
  },
  {
   "cell_type": "markdown",
   "metadata": {},
   "source": [
    "**VD**\n",
    "\n",
    "Cho 2 tập dữ liệu là số lít sữa mà mỗi con bò sữa sản xuất đc của một trang trại bò sữa trc và sau khi cho ăn cỏ lên men, số liệu thực hiện trên 10 con bò sữa. Ktr sự khác nhau về số lượng sữa trung bình thu đc trc và sau khi thay đổi chế độ ăn của bò."
   ]
  },
  {
   "cell_type": "code",
   "execution_count": 60,
   "metadata": {},
   "outputs": [],
   "source": [
    "milk_1 = [30,31,32,38,32,31,32,29,28,30]\n",
    "milk_2 = [30,31,34,40,36,35,34,30,28,29]"
   ]
  },
  {
   "cell_type": "code",
   "execution_count": 61,
   "metadata": {},
   "outputs": [
    {
     "data": {
      "text/plain": [
       "Ttest_relResult(statistic=-2.584921310565987, pvalue=0.029457853822895275)"
      ]
     },
     "execution_count": 61,
     "metadata": {},
     "output_type": "execute_result"
    }
   ],
   "source": [
    "stats.ttest_rel(milk_1,milk_2)"
   ]
  },
  {
   "cell_type": "markdown",
   "metadata": {},
   "source": [
    "- H0 trung bình năng suất sữa trc và sau khi thay đổi chế độ ăn bằng nhau.\n",
    "- HA trung bình năng suất sữa trc và sau khi thay đổi chế độ ăn không bằng nhau.\n"
   ]
  },
  {
   "cell_type": "markdown",
   "metadata": {},
   "source": [
    "alpha = 0.05 => H0 sai."
   ]
  },
  {
   "attachments": {},
   "cell_type": "markdown",
   "metadata": {},
   "source": [
    "## II. KIỂM ĐỊNH TƯƠNG QUAN\n",
    "\n",
    "    - 2 THUỘC TÍNH ĐỊNH LƯỢNG\n",
    "    - 2 THUỘC TÍNH ĐỊNH TÍNH"
   ]
  },
  {
   "attachments": {},
   "cell_type": "markdown",
   "metadata": {},
   "source": [
    "### 1. Hệ số tương quan"
   ]
  },
  {
   "attachments": {},
   "cell_type": "markdown",
   "metadata": {},
   "source": [
    "Áp dụng cho thuộc tính định lượng.\n",
    "\n",
    "Kiểm tra sự độc lập 2 thuộc tính (r = 0)\n",
    "\n",
    "r = 0: ko tương quan\n",
    "\n",
    "r > 0: tương quan thuận\n",
    "\n",
    "r < 0: tương quan nghịch\n",
    "\n",
    "r = 1: x và y có mối tương quan tuyến tính chặt chẽ"
   ]
  },
  {
   "attachments": {},
   "cell_type": "markdown",
   "metadata": {},
   "source": [
    "scipy.stats.pearsonr(x,y,*,alternative = <red>'two-sided'</red>)\n",
    "\n",
    "result: statistic và pvalue\n",
    "\n",
    "    - pvalue < alpha : tương quan\n",
    "    - pvalue >- alpha : ko tương quan"
   ]
  },
  {
   "attachments": {},
   "cell_type": "markdown",
   "metadata": {},
   "source": [
    "##### VD: tìm mối tương quan giữa cân nặng và chiều dài của tập đữ liệu 10 trẻ sơ sinh"
   ]
  },
  {
   "cell_type": "code",
   "execution_count": 62,
   "metadata": {},
   "outputs": [],
   "source": [
    "import pandas as pd\n",
    "import matplotlib.pyplot as plt\n",
    "import numpy\n",
    "from scipy.stats import pearsonr\n",
    "from math import sqrt"
   ]
  },
  {
   "cell_type": "code",
   "execution_count": 63,
   "metadata": {},
   "outputs": [],
   "source": [
    "weight = [3.63, 3.02, 3.15, 3.42, 3.59, 2.87, 3.03, 3.25, 3.36, 3.3]\n",
    "length = [53.1, 49.7, 48.4, 54.2, 54.9, 43.7, 47.2, 45.2, 54.4, 50.4]\n"
   ]
  },
  {
   "cell_type": "code",
   "execution_count": 64,
   "metadata": {},
   "outputs": [
    {
     "data": {
      "image/png": "[encoded data removed]",
      "text/plain": [
       "<Figure size 640x480 with 1 Axes>"
      ]
     },
     "metadata": {},
     "output_type": "display_data"
    }
   ],
   "source": [
    "plt.scatter(x=length, y = weight)\n",
    "plt.show()"
   ]
  },
  {
   "attachments": {},
   "cell_type": "markdown",
   "metadata": {},
   "source": [
    "using formula"
   ]
  },
  {
   "cell_type": "code",
   "execution_count": 65,
   "metadata": {},
   "outputs": [
    {
     "data": {
      "text/plain": [
       "7.286599999999996"
      ]
     },
     "execution_count": 65,
     "metadata": {},
     "output_type": "execute_result"
    }
   ],
   "source": [
    "w_mean = sum(weight)/len(weight)\n",
    "ls_mean = sum(length)/len(length)\n",
    "ts=0\n",
    "for i in range(len(weight)):\n",
    "    ts += (weight[i]- w_mean)*(length[i]-ls_mean)\n",
    "ts"
   ]
  },
  {
   "cell_type": "code",
   "execution_count": 66,
   "metadata": {},
   "outputs": [
    {
     "data": {
      "text/plain": [
       "0.8134619745915946"
      ]
     },
     "execution_count": 66,
     "metadata": {},
     "output_type": "execute_result"
    }
   ],
   "source": [
    "ms1 = 0\n",
    "ms2 = 0\n",
    "for i in range(len(weight)):\n",
    "    ms1 +=(weight[i]- w_mean)**2\n",
    "    ms2 +=(length[i]-ls_mean)**2\n",
    "r = ts/sqrt(ms1)/sqrt(ms2)\n",
    "r"
   ]
  },
  {
   "attachments": {},
   "cell_type": "markdown",
   "metadata": {},
   "source": [
    "<b>Using libraries</b>"
   ]
  },
  {
   "cell_type": "code",
   "execution_count": 67,
   "metadata": {},
   "outputs": [
    {
     "name": "stdout",
     "output_type": "stream",
     "text": [
      "r = 0.8134619745915944\n",
      "pvalue = 0.0042011623000452695\n"
     ]
    }
   ],
   "source": [
    "r, pvalue = pearsonr(length,weight)\n",
    "print ('r =', r)\n",
    "print ('pvalue =',pvalue)"
   ]
  },
  {
   "cell_type": "code",
   "execution_count": 68,
   "metadata": {},
   "outputs": [
    {
     "data": {
      "text/html": [
       "<div>\n",
       "<style scoped>\n",
       "    .dataframe tbody tr th:only-of-type {\n",
       "        vertical-align: middle;\n",
       "    }\n",
       "\n",
       "    .dataframe tbody tr th {\n",
       "        vertical-align: top;\n",
       "    }\n",
       "\n",
       "    .dataframe thead th {\n",
       "        text-align: right;\n",
       "    }\n",
       "</style>\n",
       "<table border=\"1\" class=\"dataframe\">\n",
       "  <thead>\n",
       "    <tr style=\"text-align: right;\">\n",
       "      <th></th>\n",
       "      <th>G1</th>\n",
       "      <th>G2</th>\n",
       "      <th>G3</th>\n",
       "      <th>G4</th>\n",
       "      <th>G5</th>\n",
       "      <th>G6</th>\n",
       "      <th>G7</th>\n",
       "      <th>G8</th>\n",
       "      <th>G9</th>\n",
       "      <th>G10</th>\n",
       "      <th>...</th>\n",
       "      <th>G91</th>\n",
       "      <th>G92</th>\n",
       "      <th>G93</th>\n",
       "      <th>G94</th>\n",
       "      <th>G95</th>\n",
       "      <th>G96</th>\n",
       "      <th>G97</th>\n",
       "      <th>G98</th>\n",
       "      <th>G99</th>\n",
       "      <th>G100</th>\n",
       "    </tr>\n",
       "  </thead>\n",
       "  <tbody>\n",
       "    <tr>\n",
       "      <th>0</th>\n",
       "      <td>0.096999</td>\n",
       "      <td>0.227366</td>\n",
       "      <td>0.431403</td>\n",
       "      <td>0.350564</td>\n",
       "      <td>0.614166</td>\n",
       "      <td>0.037278</td>\n",
       "      <td>0.608806</td>\n",
       "      <td>0.402018</td>\n",
       "      <td>0.024301</td>\n",
       "      <td>0.534258</td>\n",
       "      <td>...</td>\n",
       "      <td>0.520794</td>\n",
       "      <td>0.348856</td>\n",
       "      <td>0.648020</td>\n",
       "      <td>0.460299</td>\n",
       "      <td>0.422432</td>\n",
       "      <td>0.640388</td>\n",
       "      <td>0.238413</td>\n",
       "      <td>0.651695</td>\n",
       "      <td>0.536379</td>\n",
       "      <td>0.640927</td>\n",
       "    </tr>\n",
       "    <tr>\n",
       "      <th>1</th>\n",
       "      <td>0.140357</td>\n",
       "      <td>0.116043</td>\n",
       "      <td>0.498218</td>\n",
       "      <td>0.286252</td>\n",
       "      <td>0.708196</td>\n",
       "      <td>0.037699</td>\n",
       "      <td>0.645638</td>\n",
       "      <td>0.447637</td>\n",
       "      <td>0.031831</td>\n",
       "      <td>0.444297</td>\n",
       "      <td>...</td>\n",
       "      <td>0.609565</td>\n",
       "      <td>0.446938</td>\n",
       "      <td>0.655062</td>\n",
       "      <td>0.370700</td>\n",
       "      <td>0.522416</td>\n",
       "      <td>0.594598</td>\n",
       "      <td>0.209250</td>\n",
       "      <td>0.590257</td>\n",
       "      <td>0.561454</td>\n",
       "      <td>0.548147</td>\n",
       "    </tr>\n",
       "    <tr>\n",
       "      <th>2</th>\n",
       "      <td>0.075864</td>\n",
       "      <td>0.215462</td>\n",
       "      <td>0.245413</td>\n",
       "      <td>0.263025</td>\n",
       "      <td>0.695526</td>\n",
       "      <td>0.057789</td>\n",
       "      <td>0.659812</td>\n",
       "      <td>0.423609</td>\n",
       "      <td>0.005288</td>\n",
       "      <td>0.504874</td>\n",
       "      <td>...</td>\n",
       "      <td>0.720783</td>\n",
       "      <td>0.311021</td>\n",
       "      <td>0.637153</td>\n",
       "      <td>0.415287</td>\n",
       "      <td>0.405801</td>\n",
       "      <td>0.523387</td>\n",
       "      <td>0.278230</td>\n",
       "      <td>0.551977</td>\n",
       "      <td>0.588909</td>\n",
       "      <td>0.571148</td>\n",
       "    </tr>\n",
       "    <tr>\n",
       "      <th>3</th>\n",
       "      <td>0.081394</td>\n",
       "      <td>0.193503</td>\n",
       "      <td>0.561137</td>\n",
       "      <td>0.133510</td>\n",
       "      <td>0.657569</td>\n",
       "      <td>0.053319</td>\n",
       "      <td>0.534083</td>\n",
       "      <td>0.415155</td>\n",
       "      <td>0.010994</td>\n",
       "      <td>0.408166</td>\n",
       "      <td>...</td>\n",
       "      <td>0.670272</td>\n",
       "      <td>0.498790</td>\n",
       "      <td>0.549552</td>\n",
       "      <td>0.368304</td>\n",
       "      <td>0.392148</td>\n",
       "      <td>0.643276</td>\n",
       "      <td>0.351833</td>\n",
       "      <td>0.681212</td>\n",
       "      <td>0.554729</td>\n",
       "      <td>0.498315</td>\n",
       "    </tr>\n",
       "    <tr>\n",
       "      <th>4</th>\n",
       "      <td>0.146972</td>\n",
       "      <td>0.019467</td>\n",
       "      <td>0.520126</td>\n",
       "      <td>0.200362</td>\n",
       "      <td>0.289476</td>\n",
       "      <td>0.146236</td>\n",
       "      <td>0.522055</td>\n",
       "      <td>0.325684</td>\n",
       "      <td>0.009394</td>\n",
       "      <td>0.345423</td>\n",
       "      <td>...</td>\n",
       "      <td>0.656710</td>\n",
       "      <td>0.488208</td>\n",
       "      <td>0.530460</td>\n",
       "      <td>0.392846</td>\n",
       "      <td>0.365890</td>\n",
       "      <td>0.637134</td>\n",
       "      <td>0.240219</td>\n",
       "      <td>0.672030</td>\n",
       "      <td>0.520975</td>\n",
       "      <td>0.643914</td>\n",
       "    </tr>\n",
       "  </tbody>\n",
       "</table>\n",
       "<p>5 rows × 100 columns</p>\n",
       "</div>"
      ],
      "text/plain": [
       "         G1        G2        G3        G4        G5        G6        G7  \\\n",
       "0  0.096999  0.227366  0.431403  0.350564  0.614166  0.037278  0.608806   \n",
       "1  0.140357  0.116043  0.498218  0.286252  0.708196  0.037699  0.645638   \n",
       "2  0.075864  0.215462  0.245413  0.263025  0.695526  0.057789  0.659812   \n",
       "3  0.081394  0.193503  0.561137  0.133510  0.657569  0.053319  0.534083   \n",
       "4  0.146972  0.019467  0.520126  0.200362  0.289476  0.146236  0.522055   \n",
       "\n",
       "         G8        G9       G10  ...       G91       G92       G93       G94  \\\n",
       "0  0.402018  0.024301  0.534258  ...  0.520794  0.348856  0.648020  0.460299   \n",
       "1  0.447637  0.031831  0.444297  ...  0.609565  0.446938  0.655062  0.370700   \n",
       "2  0.423609  0.005288  0.504874  ...  0.720783  0.311021  0.637153  0.415287   \n",
       "3  0.415155  0.010994  0.408166  ...  0.670272  0.498790  0.549552  0.368304   \n",
       "4  0.325684  0.009394  0.345423  ...  0.656710  0.488208  0.530460  0.392846   \n",
       "\n",
       "        G95       G96       G97       G98       G99      G100  \n",
       "0  0.422432  0.640388  0.238413  0.651695  0.536379  0.640927  \n",
       "1  0.522416  0.594598  0.209250  0.590257  0.561454  0.548147  \n",
       "2  0.405801  0.523387  0.278230  0.551977  0.588909  0.571148  \n",
       "3  0.392148  0.643276  0.351833  0.681212  0.554729  0.498315  \n",
       "4  0.365890  0.637134  0.240219  0.672030  0.520975  0.643914  \n",
       "\n",
       "[5 rows x 100 columns]"
      ]
     },
     "execution_count": 68,
     "metadata": {},
     "output_type": "execute_result"
    }
   ],
   "source": [
    "genes = pd.read_csv('Data/gene_expression.csv')\n",
    "genes.head()"
   ]
  },
  {
   "cell_type": "code",
   "execution_count": 69,
   "metadata": {},
   "outputs": [
    {
     "data": {
      "text/plain": [
       "Index(['G1', 'G2', 'G3', 'G4', 'G5', 'G6', 'G7', 'G8', 'G9', 'G10', 'G11',\n",
       "       'G12', 'G13', 'G14', 'G15', 'G16', 'G17', 'G18', 'G19', 'G20', 'G21',\n",
       "       'G22', 'G23', 'G24', 'G25', 'G26', 'G27', 'G28', 'G29', 'G30', 'G31',\n",
       "       'G32', 'G33', 'G34', 'G35', 'G36', 'G37', 'G38', 'G39', 'G40', 'G41',\n",
       "       'G42', 'G43', 'G44', 'G45', 'G46', 'G47', 'G48', 'G49', 'G50', 'G51',\n",
       "       'G52', 'G53', 'G54', 'G55', 'G56', 'G57', 'G58', 'G59', 'G60', 'G61',\n",
       "       'G62', 'G63', 'G64', 'G65', 'G66', 'G67', 'G68', 'G69', 'G70', 'G71',\n",
       "       'G72', 'G73', 'G74', 'G75', 'G76', 'G77', 'G78', 'G79', 'G80', 'G81',\n",
       "       'G82', 'G83', 'G84', 'G85', 'G86', 'G87', 'G88', 'G89', 'G90', 'G91',\n",
       "       'G92', 'G93', 'G94', 'G95', 'G96', 'G97', 'G98', 'G99', 'G100'],\n",
       "      dtype='object')"
      ]
     },
     "execution_count": 69,
     "metadata": {},
     "output_type": "execute_result"
    }
   ],
   "source": [
    "names = genes.columns\n",
    "names"
   ]
  },
  {
   "cell_type": "code",
   "execution_count": 70,
   "metadata": {},
   "outputs": [
    {
     "name": "stdout",
     "output_type": "stream",
     "text": [
      "G11\tG15\tr = 0.7661052260091861\n"
     ]
    },
    {
     "data": {
      "image/png": "[encoded data removed]",
      "text/plain": [
       "<Figure size 640x480 with 1 Axes>"
      ]
     },
     "metadata": {},
     "output_type": "display_data"
    }
   ],
   "source": [
    "for i in range(len(names)):\n",
    "    A = numpy.array(genes[names[i]])\n",
    "    find = False\n",
    "    for j in range(i+1,len(names),1):\n",
    "        B = numpy.array(genes[names[j]])\n",
    "        r, pvalue = pearsonr(A,B)\n",
    "        if round (r,1) > 0.75:\n",
    "            print(names[i], names[j], f'r = {r}', sep='\\t') \n",
    "            plt.scatter(x=A, y = B)\n",
    "            plt.ylim(0,0.05)\n",
    "            plt.xlim(0,0.05)\n",
    "            plt.xlabel(names[j])\n",
    "            plt.ylabel(names[i])\n",
    "            plt.show()\n",
    "            find = True\n",
    "            break\n",
    "    if find: break"
   ]
  },
  {
   "attachments": {},
   "cell_type": "markdown",
   "metadata": {},
   "source": [
    "## III. KIỂM ĐỊNH TƯƠNG QUAN GIỮA 2 THUỘC TÍNH ĐỊNH TÍNH\n",
    "\n",
    "Chi-square Test: Các kiểu dữ liệu định tính"
   ]
  },
  {
   "attachments": {},
   "cell_type": "markdown",
   "metadata": {},
   "source": [
    "O - tập quan sát\n",
    "\n",
    "E - Tập mong đowij"
   ]
  },
  {
   "attachments": {},
   "cell_type": "markdown",
   "metadata": {},
   "source": [
    "H0: Ko tuowng qquan\n",
    "\n",
    "HA: tương quan"
   ]
  },
  {
   "attachments": {},
   "cell_type": "markdown",
   "metadata": {},
   "source": [
    "scipy.stats.chi2_contingencyy(observedd,correction = True, lambda_ = None)"
   ]
  },
  {
   "attachments": {},
   "cell_type": "markdown",
   "metadata": {},
   "source": [
    "pvalue > alpha: H0 đúng > Ko tương quan"
   ]
  },
  {
   "attachments": {},
   "cell_type": "markdown",
   "metadata": {},
   "source": [
    "<b>VD:</b> Kiểm tra mối tương quan giữa giới tính và các nhóm đc khảo sát"
   ]
  },
  {
   "attachments": {},
   "cell_type": "markdown",
   "metadata": {},
   "source": [
    "H0: giới tính và các nhóm khảo sát ko có mối tương quan nào cả\n",
    "\n",
    "HA: Có tương quan"
   ]
  },
  {
   "attachments": {},
   "cell_type": "markdown",
   "metadata": {},
   "source": [
    "by hand"
   ]
  },
  {
   "cell_type": "code",
   "execution_count": 71,
   "metadata": {},
   "outputs": [],
   "source": [
    "from scipy.stats import chi2_contingency"
   ]
  },
  {
   "cell_type": "code",
   "execution_count": 72,
   "metadata": {},
   "outputs": [
    {
     "data": {
      "text/html": [
       "<div>\n",
       "<style scoped>\n",
       "    .dataframe tbody tr th:only-of-type {\n",
       "        vertical-align: middle;\n",
       "    }\n",
       "\n",
       "    .dataframe tbody tr th {\n",
       "        vertical-align: top;\n",
       "    }\n",
       "\n",
       "    .dataframe thead th {\n",
       "        text-align: right;\n",
       "    }\n",
       "</style>\n",
       "<table border=\"1\" class=\"dataframe\">\n",
       "  <thead>\n",
       "    <tr style=\"text-align: right;\">\n",
       "      <th></th>\n",
       "      <th>Gender</th>\n",
       "      <th>Nonsmoker</th>\n",
       "      <th>Past smoker</th>\n",
       "      <th>Current smoker</th>\n",
       "    </tr>\n",
       "  </thead>\n",
       "  <tbody>\n",
       "    <tr>\n",
       "      <th>0</th>\n",
       "      <td>Male</td>\n",
       "      <td>149</td>\n",
       "      <td>13</td>\n",
       "      <td>31</td>\n",
       "    </tr>\n",
       "    <tr>\n",
       "      <th>1</th>\n",
       "      <td>Female</td>\n",
       "      <td>148</td>\n",
       "      <td>24</td>\n",
       "      <td>37</td>\n",
       "    </tr>\n",
       "  </tbody>\n",
       "</table>\n",
       "</div>"
      ],
      "text/plain": [
       "   Gender  Nonsmoker  Past smoker  Current smoker\n",
       "0    Male        149           13              31\n",
       "1  Female        148           24              37"
      ]
     },
     "execution_count": 72,
     "metadata": {},
     "output_type": "execute_result"
    }
   ],
   "source": [
    "dt = pd.DataFrame([['Male',149,13,31],['Female',148,24,37]],\n",
    "columns=['Gender','Nonsmoker','Past smoker','Current smoker'])\n",
    "dt"
   ]
  },
  {
   "cell_type": "code",
   "execution_count": 73,
   "metadata": {},
   "outputs": [
    {
     "data": {
      "text/plain": [
       "[array([149, 13, 31], dtype=object), array([148, 24, 37], dtype=object)]"
      ]
     },
     "execution_count": 73,
     "metadata": {},
     "output_type": "execute_result"
    }
   ],
   "source": [
    "data = [dt.iloc[0][dt.columns[1:]].values,dt.iloc[1][dt.columns[1:]].values]\n",
    "data"
   ]
  },
  {
   "cell_type": "code",
   "execution_count": 74,
   "metadata": {},
   "outputs": [
    {
     "name": "stdout",
     "output_type": "stream",
     "text": [
      "Chi-square value = 3.171256766693158\n",
      "Pvalue = 0.20481904779163018\n",
      "DDefgree of freeddoom = 2\n",
      "Expected table = [[142.58955224  17.76368159  32.64676617]\n",
      " [154.41044776  19.23631841  35.35323383]]\n"
     ]
    }
   ],
   "source": [
    "chi, p, dof, expected = chi2_contingency(data)\n",
    "print('Chi-square value =',chi)\n",
    "print('Pvalue =',p)\n",
    "print('DDefgree of freeddoom =',dof)\n",
    "print('Expected table =',expected)"
   ]
  },
  {
   "attachments": {},
   "cell_type": "markdown",
   "metadata": {},
   "source": [
    "Thực hành. Kiểm tra xem mối tương quan giữa giới tính học sinh và số lượng hoạc sinh đạt điểm các môn khối A>=7"
   ]
  },
  {
   "cell_type": "code",
   "execution_count": 75,
   "metadata": {},
   "outputs": [
    {
     "data": {
      "text/html": [
       "<div>\n",
       "<style scoped>\n",
       "    .dataframe tbody tr th:only-of-type {\n",
       "        vertical-align: middle;\n",
       "    }\n",
       "\n",
       "    .dataframe tbody tr th {\n",
       "        vertical-align: top;\n",
       "    }\n",
       "\n",
       "    .dataframe thead th {\n",
       "        text-align: right;\n",
       "    }\n",
       "</style>\n",
       "<table border=\"1\" class=\"dataframe\">\n",
       "  <thead>\n",
       "    <tr style=\"text-align: right;\">\n",
       "      <th></th>\n",
       "      <th>Mã học sinh</th>\n",
       "      <th>Họ tên</th>\n",
       "      <th>Ngày sinh</th>\n",
       "      <th>Giới tính</th>\n",
       "      <th>Quê quán</th>\n",
       "      <th>Toán</th>\n",
       "      <th>Lý</th>\n",
       "      <th>Hoá</th>\n",
       "      <th>Sinh</th>\n",
       "      <th>Văn</th>\n",
       "      <th>Sử</th>\n",
       "      <th>Địa</th>\n",
       "      <th>Tiếng Anh</th>\n",
       "    </tr>\n",
       "  </thead>\n",
       "  <tbody>\n",
       "    <tr>\n",
       "      <th>0</th>\n",
       "      <td>20205210</td>\n",
       "      <td>Nguyễn Đức Bình</td>\n",
       "      <td>3/10/2000</td>\n",
       "      <td>Nam</td>\n",
       "      <td>Hà Nội</td>\n",
       "      <td>7.0</td>\n",
       "      <td>8.0</td>\n",
       "      <td>8.8</td>\n",
       "      <td>6.8</td>\n",
       "      <td>4.0</td>\n",
       "      <td>5.4</td>\n",
       "      <td>5.6</td>\n",
       "      <td>8.5</td>\n",
       "    </tr>\n",
       "    <tr>\n",
       "      <th>1</th>\n",
       "      <td>20205211</td>\n",
       "      <td>Lê Minh Hoàng</td>\n",
       "      <td>2/11/2001</td>\n",
       "      <td>Nam</td>\n",
       "      <td>Quảng Bình</td>\n",
       "      <td>5.6</td>\n",
       "      <td>7.7</td>\n",
       "      <td>6.0</td>\n",
       "      <td>7.0</td>\n",
       "      <td>6.5</td>\n",
       "      <td>6.0</td>\n",
       "      <td>3.4</td>\n",
       "      <td>9.0</td>\n",
       "    </tr>\n",
       "    <tr>\n",
       "      <th>2</th>\n",
       "      <td>20205212</td>\n",
       "      <td>Trần Trang Nhung</td>\n",
       "      <td>7/5/2002</td>\n",
       "      <td>Nữ</td>\n",
       "      <td>Hà Nam</td>\n",
       "      <td>4.2</td>\n",
       "      <td>6.5</td>\n",
       "      <td>5.4</td>\n",
       "      <td>8.0</td>\n",
       "      <td>7.0</td>\n",
       "      <td>7.5</td>\n",
       "      <td>4.3</td>\n",
       "      <td>5.5</td>\n",
       "    </tr>\n",
       "    <tr>\n",
       "      <th>3</th>\n",
       "      <td>20205213</td>\n",
       "      <td>Nguyễn Thị Linh</td>\n",
       "      <td>12/17/2000</td>\n",
       "      <td>Nữ</td>\n",
       "      <td>Bắc Ninh</td>\n",
       "      <td>8.0</td>\n",
       "      <td>5.6</td>\n",
       "      <td>6.5</td>\n",
       "      <td>7.0</td>\n",
       "      <td>7.5</td>\n",
       "      <td>6.5</td>\n",
       "      <td>5.6</td>\n",
       "      <td>6.0</td>\n",
       "    </tr>\n",
       "    <tr>\n",
       "      <th>4</th>\n",
       "      <td>20205214</td>\n",
       "      <td>Đặng Ngọc Sơn</td>\n",
       "      <td>1/25/2000</td>\n",
       "      <td>Nam</td>\n",
       "      <td>Thái Bình</td>\n",
       "      <td>9.3</td>\n",
       "      <td>5.8</td>\n",
       "      <td>7.5</td>\n",
       "      <td>4.5</td>\n",
       "      <td>6.5</td>\n",
       "      <td>4.5</td>\n",
       "      <td>7.8</td>\n",
       "      <td>3.8</td>\n",
       "    </tr>\n",
       "  </tbody>\n",
       "</table>\n",
       "</div>"
      ],
      "text/plain": [
       "   Mã học sinh            Họ tên   Ngày sinh Giới tính    Quê quán  Toán   Lý  \\\n",
       "0     20205210   Nguyễn Đức Bình   3/10/2000       Nam      Hà Nội   7.0  8.0   \n",
       "1     20205211     Lê Minh Hoàng   2/11/2001       Nam  Quảng Bình   5.6  7.7   \n",
       "2     20205212  Trần Trang Nhung    7/5/2002        Nữ      Hà Nam   4.2  6.5   \n",
       "3     20205213   Nguyễn Thị Linh  12/17/2000        Nữ    Bắc Ninh   8.0  5.6   \n",
       "4     20205214     Đặng Ngọc Sơn   1/25/2000       Nam   Thái Bình   9.3  5.8   \n",
       "\n",
       "   Hoá  Sinh  Văn   Sử  Địa  Tiếng Anh  \n",
       "0  8.8   6.8  4.0  5.4  5.6        8.5  \n",
       "1  6.0   7.0  6.5  6.0  3.4        9.0  \n",
       "2  5.4   8.0  7.0  7.5  4.3        5.5  \n",
       "3  6.5   7.0  7.5  6.5  5.6        6.0  \n",
       "4  7.5   4.5  6.5  4.5  7.8        3.8  "
      ]
     },
     "execution_count": 75,
     "metadata": {},
     "output_type": "execute_result"
    }
   ],
   "source": [
    "df = pd.read_csv('Data/students.csv')\n",
    "df.head()"
   ]
  },
  {
   "cell_type": "code",
   "execution_count": 76,
   "metadata": {},
   "outputs": [
    {
     "data": {
      "text/html": [
       "<div>\n",
       "<style scoped>\n",
       "    .dataframe tbody tr th:only-of-type {\n",
       "        vertical-align: middle;\n",
       "    }\n",
       "\n",
       "    .dataframe tbody tr th {\n",
       "        vertical-align: top;\n",
       "    }\n",
       "\n",
       "    .dataframe thead th {\n",
       "        text-align: right;\n",
       "    }\n",
       "</style>\n",
       "<table border=\"1\" class=\"dataframe\">\n",
       "  <thead>\n",
       "    <tr style=\"text-align: right;\">\n",
       "      <th></th>\n",
       "      <th>Giới tính</th>\n",
       "      <th>Toán</th>\n",
       "      <th>Lý</th>\n",
       "      <th>Hoá</th>\n",
       "    </tr>\n",
       "  </thead>\n",
       "  <tbody>\n",
       "    <tr>\n",
       "      <th>0</th>\n",
       "      <td>Nam</td>\n",
       "      <td>7</td>\n",
       "      <td>7</td>\n",
       "      <td>6</td>\n",
       "    </tr>\n",
       "    <tr>\n",
       "      <th>1</th>\n",
       "      <td>Nữ</td>\n",
       "      <td>3</td>\n",
       "      <td>1</td>\n",
       "      <td>2</td>\n",
       "    </tr>\n",
       "  </tbody>\n",
       "</table>\n",
       "</div>"
      ],
      "text/plain": [
       "  Giới tính  Toán  Lý  Hoá\n",
       "0       Nam     7   7    6\n",
       "1        Nữ     3   1    2"
      ]
     },
     "execution_count": 76,
     "metadata": {},
     "output_type": "execute_result"
    }
   ],
   "source": [
    "dt = pd.DataFrame([['Nam',df[(df['Toán']>=7) & (df['Giới tính'].str.contains('Nam'))]['Giới tính'].count(),df[(df['Lý']>=7) & (df['Giới tính'].str.contains('Nam'))]['Giới tính'].count(),df[(df['Hoá']>=7) & (df['Giới tính'].str.contains('Nam'))]['Giới tính'].count()]\n",
    ",['Nữ',df[(df['Toán']>=7) & (df['Giới tính'].str.contains('Nữ'))]['Giới tính'].count(),df[(df['Lý']>=7) & (df['Giới tính'].str.contains('Nữ'))]['Giới tính'].count(),df[(df['Hoá']>=7) & (df['Giới tính'].str.contains('Nữ'))]['Giới tính'].count()]],\n",
    "columns=['Giới tính','Toán','Lý','Hoá'])\n",
    "dt"
   ]
  },
  {
   "cell_type": "code",
   "execution_count": 77,
   "metadata": {},
   "outputs": [
    {
     "data": {
      "text/plain": [
       "[array([7, 7, 6], dtype=object), array([3, 1, 2], dtype=object)]"
      ]
     },
     "execution_count": 77,
     "metadata": {},
     "output_type": "execute_result"
    }
   ],
   "source": [
    "data = [dt.iloc[0][dt.columns[1:]].values,dt.iloc[1][dt.columns[1:]].values]\n",
    "data"
   ]
  },
  {
   "cell_type": "code",
   "execution_count": 78,
   "metadata": {},
   "outputs": [
    {
     "name": "stdout",
     "output_type": "stream",
     "text": [
      "Chi-square value = 0.7908333333333335\n",
      "Pvalue = 0.6733993977035628\n",
      "Defgree of freeddoom = 2\n",
      "Expected table = [[7.69230769 6.15384615 6.15384615]\n",
      " [2.30769231 1.84615385 1.84615385]]\n"
     ]
    }
   ],
   "source": [
    "chi, p, dof, expected = chi2_contingency(data)\n",
    "print('Chi-square value =',chi)\n",
    "print('Pvalue =',p)\n",
    "print('Defgree of freeddoom =',dof)\n",
    "print('Expected table =',expected)"
   ]
  },
  {
   "attachments": {},
   "cell_type": "markdown",
   "metadata": {},
   "source": [
    "H0: Giới tính và điểm khối A không tương quan nhau.\n",
    "\n",
    "HA: Giới tính và điểm khối A có tương quan nhau.\n",
    "\n",
    "    - Pvalue = 0.67: Giới tính và điểm khối A có tuuowng quan với nhau"
   ]
  },
  {
   "attachments": {},
   "cell_type": "markdown",
   "metadata": {},
   "source": [
    "## IV. KIỂM ĐỊNH TƯƠNG QUAN GIỮA HAI THUỘC TÍNH ĐỊNH TÍNH\n",
    "\n",
    "Spearman Coefficient\n",
    "\n",
    "scipy.stats.spearmanr(a,b=None,axis = 0,nan_policy = 'propagate',alternative = 'two-sides')"
   ]
  },
  {
   "cell_type": "code",
   "execution_count": 79,
   "metadata": {},
   "outputs": [],
   "source": [
    "import pandas as pd"
   ]
  },
  {
   "cell_type": "code",
   "execution_count": 80,
   "metadata": {},
   "outputs": [
    {
     "data": {
      "text/html": [
       "<div>\n",
       "<style scoped>\n",
       "    .dataframe tbody tr th:only-of-type {\n",
       "        vertical-align: middle;\n",
       "    }\n",
       "\n",
       "    .dataframe tbody tr th {\n",
       "        vertical-align: top;\n",
       "    }\n",
       "\n",
       "    .dataframe thead th {\n",
       "        text-align: right;\n",
       "    }\n",
       "</style>\n",
       "<table border=\"1\" class=\"dataframe\">\n",
       "  <thead>\n",
       "    <tr style=\"text-align: right;\">\n",
       "      <th></th>\n",
       "      <th>Height</th>\n",
       "      <th>Size</th>\n",
       "    </tr>\n",
       "  </thead>\n",
       "  <tbody>\n",
       "    <tr>\n",
       "      <th>0</th>\n",
       "      <td>168</td>\n",
       "      <td>XL</td>\n",
       "    </tr>\n",
       "    <tr>\n",
       "      <th>1</th>\n",
       "      <td>174</td>\n",
       "      <td>XXL</td>\n",
       "    </tr>\n",
       "    <tr>\n",
       "      <th>2</th>\n",
       "      <td>156</td>\n",
       "      <td>M</td>\n",
       "    </tr>\n",
       "    <tr>\n",
       "      <th>3</th>\n",
       "      <td>154</td>\n",
       "      <td>M</td>\n",
       "    </tr>\n",
       "    <tr>\n",
       "      <th>4</th>\n",
       "      <td>175</td>\n",
       "      <td>XXL</td>\n",
       "    </tr>\n",
       "    <tr>\n",
       "      <th>5</th>\n",
       "      <td>181</td>\n",
       "      <td>XXL</td>\n",
       "    </tr>\n",
       "    <tr>\n",
       "      <th>6</th>\n",
       "      <td>165</td>\n",
       "      <td>L</td>\n",
       "    </tr>\n",
       "    <tr>\n",
       "      <th>7</th>\n",
       "      <td>175</td>\n",
       "      <td>XXL</td>\n",
       "    </tr>\n",
       "    <tr>\n",
       "      <th>8</th>\n",
       "      <td>172</td>\n",
       "      <td>XL</td>\n",
       "    </tr>\n",
       "    <tr>\n",
       "      <th>9</th>\n",
       "      <td>171</td>\n",
       "      <td>XL</td>\n",
       "    </tr>\n",
       "    <tr>\n",
       "      <th>10</th>\n",
       "      <td>173</td>\n",
       "      <td>XXL</td>\n",
       "    </tr>\n",
       "    <tr>\n",
       "      <th>11</th>\n",
       "      <td>189</td>\n",
       "      <td>XXXL</td>\n",
       "    </tr>\n",
       "    <tr>\n",
       "      <th>12</th>\n",
       "      <td>192</td>\n",
       "      <td>XXL</td>\n",
       "    </tr>\n",
       "    <tr>\n",
       "      <th>13</th>\n",
       "      <td>159</td>\n",
       "      <td>L</td>\n",
       "    </tr>\n",
       "    <tr>\n",
       "      <th>14</th>\n",
       "      <td>194</td>\n",
       "      <td>XXXL</td>\n",
       "    </tr>\n",
       "  </tbody>\n",
       "</table>\n",
       "</div>"
      ],
      "text/plain": [
       "    Height  Size\n",
       "0      168    XL\n",
       "1      174   XXL\n",
       "2      156     M\n",
       "3      154     M\n",
       "4      175   XXL\n",
       "5      181   XXL\n",
       "6      165     L\n",
       "7      175   XXL\n",
       "8      172    XL\n",
       "9      171    XL\n",
       "10     173   XXL\n",
       "11     189  XXXL\n",
       "12     192   XXL\n",
       "13     159     L\n",
       "14     194  XXXL"
      ]
     },
     "execution_count": 80,
     "metadata": {},
     "output_type": "execute_result"
    }
   ],
   "source": [
    "dt = pd.read_csv('Data/spearman_demo.csv')\n",
    "dt"
   ]
  },
  {
   "cell_type": "code",
   "execution_count": 81,
   "metadata": {},
   "outputs": [
    {
     "data": {
      "text/plain": [
       "{194: 1,\n",
       " 192: 2,\n",
       " 189: 3,\n",
       " 181: 4,\n",
       " 175: 5,\n",
       " 174: 6,\n",
       " 173: 7,\n",
       " 172: 8,\n",
       " 171: 9,\n",
       " 168: 10,\n",
       " 165: 11,\n",
       " 159: 12,\n",
       " 156: 13,\n",
       " 154: 14}"
      ]
     },
     "execution_count": 81,
     "metadata": {},
     "output_type": "execute_result"
    }
   ],
   "source": [
    "## By hand\n",
    "\n",
    "## Tính toán rank chiều cao\n",
    "heights = sorted(dt['Height'].unique(),reverse=True)\n",
    "rank_height = {heights[i]: i+1 for i in range(len(heights))}\n",
    "rank_height"
   ]
  },
  {
   "cell_type": "code",
   "execution_count": 82,
   "metadata": {},
   "outputs": [],
   "source": [
    "rank = pd.Series(rank_height)"
   ]
  },
  {
   "cell_type": "code",
   "execution_count": 83,
   "metadata": {},
   "outputs": [
    {
     "data": {
      "text/html": [
       "<div>\n",
       "<style scoped>\n",
       "    .dataframe tbody tr th:only-of-type {\n",
       "        vertical-align: middle;\n",
       "    }\n",
       "\n",
       "    .dataframe tbody tr th {\n",
       "        vertical-align: top;\n",
       "    }\n",
       "\n",
       "    .dataframe thead th {\n",
       "        text-align: right;\n",
       "    }\n",
       "</style>\n",
       "<table border=\"1\" class=\"dataframe\">\n",
       "  <thead>\n",
       "    <tr style=\"text-align: right;\">\n",
       "      <th></th>\n",
       "      <th>Height</th>\n",
       "      <th>Size</th>\n",
       "      <th>Height_Rank</th>\n",
       "    </tr>\n",
       "  </thead>\n",
       "  <tbody>\n",
       "    <tr>\n",
       "      <th>0</th>\n",
       "      <td>168</td>\n",
       "      <td>XL</td>\n",
       "      <td>10</td>\n",
       "    </tr>\n",
       "    <tr>\n",
       "      <th>1</th>\n",
       "      <td>174</td>\n",
       "      <td>XXL</td>\n",
       "      <td>6</td>\n",
       "    </tr>\n",
       "    <tr>\n",
       "      <th>2</th>\n",
       "      <td>156</td>\n",
       "      <td>M</td>\n",
       "      <td>13</td>\n",
       "    </tr>\n",
       "    <tr>\n",
       "      <th>3</th>\n",
       "      <td>154</td>\n",
       "      <td>M</td>\n",
       "      <td>14</td>\n",
       "    </tr>\n",
       "    <tr>\n",
       "      <th>4</th>\n",
       "      <td>175</td>\n",
       "      <td>XXL</td>\n",
       "      <td>5</td>\n",
       "    </tr>\n",
       "    <tr>\n",
       "      <th>5</th>\n",
       "      <td>181</td>\n",
       "      <td>XXL</td>\n",
       "      <td>4</td>\n",
       "    </tr>\n",
       "    <tr>\n",
       "      <th>6</th>\n",
       "      <td>165</td>\n",
       "      <td>L</td>\n",
       "      <td>11</td>\n",
       "    </tr>\n",
       "    <tr>\n",
       "      <th>7</th>\n",
       "      <td>175</td>\n",
       "      <td>XXL</td>\n",
       "      <td>5</td>\n",
       "    </tr>\n",
       "    <tr>\n",
       "      <th>8</th>\n",
       "      <td>172</td>\n",
       "      <td>XL</td>\n",
       "      <td>8</td>\n",
       "    </tr>\n",
       "    <tr>\n",
       "      <th>9</th>\n",
       "      <td>171</td>\n",
       "      <td>XL</td>\n",
       "      <td>9</td>\n",
       "    </tr>\n",
       "    <tr>\n",
       "      <th>10</th>\n",
       "      <td>173</td>\n",
       "      <td>XXL</td>\n",
       "      <td>7</td>\n",
       "    </tr>\n",
       "    <tr>\n",
       "      <th>11</th>\n",
       "      <td>189</td>\n",
       "      <td>XXXL</td>\n",
       "      <td>3</td>\n",
       "    </tr>\n",
       "    <tr>\n",
       "      <th>12</th>\n",
       "      <td>192</td>\n",
       "      <td>XXL</td>\n",
       "      <td>2</td>\n",
       "    </tr>\n",
       "    <tr>\n",
       "      <th>13</th>\n",
       "      <td>159</td>\n",
       "      <td>L</td>\n",
       "      <td>12</td>\n",
       "    </tr>\n",
       "    <tr>\n",
       "      <th>14</th>\n",
       "      <td>194</td>\n",
       "      <td>XXXL</td>\n",
       "      <td>1</td>\n",
       "    </tr>\n",
       "  </tbody>\n",
       "</table>\n",
       "</div>"
      ],
      "text/plain": [
       "    Height  Size  Height_Rank\n",
       "0      168    XL           10\n",
       "1      174   XXL            6\n",
       "2      156     M           13\n",
       "3      154     M           14\n",
       "4      175   XXL            5\n",
       "5      181   XXL            4\n",
       "6      165     L           11\n",
       "7      175   XXL            5\n",
       "8      172    XL            8\n",
       "9      171    XL            9\n",
       "10     173   XXL            7\n",
       "11     189  XXXL            3\n",
       "12     192   XXL            2\n",
       "13     159     L           12\n",
       "14     194  XXXL            1"
      ]
     },
     "execution_count": 83,
     "metadata": {},
     "output_type": "execute_result"
    }
   ],
   "source": [
    "h = dt['Height']\n",
    "dt['Height_Rank'] = h.map(rank)\n",
    "dt"
   ]
  },
  {
   "cell_type": "code",
   "execution_count": 84,
   "metadata": {},
   "outputs": [
    {
     "data": {
      "text/html": [
       "<div>\n",
       "<style scoped>\n",
       "    .dataframe tbody tr th:only-of-type {\n",
       "        vertical-align: middle;\n",
       "    }\n",
       "\n",
       "    .dataframe tbody tr th {\n",
       "        vertical-align: top;\n",
       "    }\n",
       "\n",
       "    .dataframe thead th {\n",
       "        text-align: right;\n",
       "    }\n",
       "</style>\n",
       "<table border=\"1\" class=\"dataframe\">\n",
       "  <thead>\n",
       "    <tr style=\"text-align: right;\">\n",
       "      <th></th>\n",
       "      <th>Height</th>\n",
       "      <th>Size</th>\n",
       "      <th>Height_Rank</th>\n",
       "      <th>Size_Rank</th>\n",
       "    </tr>\n",
       "  </thead>\n",
       "  <tbody>\n",
       "    <tr>\n",
       "      <th>0</th>\n",
       "      <td>168</td>\n",
       "      <td>XL</td>\n",
       "      <td>10</td>\n",
       "      <td>10.0</td>\n",
       "    </tr>\n",
       "    <tr>\n",
       "      <th>1</th>\n",
       "      <td>174</td>\n",
       "      <td>XXL</td>\n",
       "      <td>6</td>\n",
       "      <td>5.5</td>\n",
       "    </tr>\n",
       "    <tr>\n",
       "      <th>2</th>\n",
       "      <td>156</td>\n",
       "      <td>M</td>\n",
       "      <td>13</td>\n",
       "      <td>14.5</td>\n",
       "    </tr>\n",
       "    <tr>\n",
       "      <th>3</th>\n",
       "      <td>154</td>\n",
       "      <td>M</td>\n",
       "      <td>14</td>\n",
       "      <td>14.5</td>\n",
       "    </tr>\n",
       "    <tr>\n",
       "      <th>4</th>\n",
       "      <td>175</td>\n",
       "      <td>XXL</td>\n",
       "      <td>5</td>\n",
       "      <td>5.5</td>\n",
       "    </tr>\n",
       "    <tr>\n",
       "      <th>5</th>\n",
       "      <td>181</td>\n",
       "      <td>XXL</td>\n",
       "      <td>4</td>\n",
       "      <td>5.5</td>\n",
       "    </tr>\n",
       "    <tr>\n",
       "      <th>6</th>\n",
       "      <td>165</td>\n",
       "      <td>L</td>\n",
       "      <td>11</td>\n",
       "      <td>12.5</td>\n",
       "    </tr>\n",
       "    <tr>\n",
       "      <th>7</th>\n",
       "      <td>175</td>\n",
       "      <td>XXL</td>\n",
       "      <td>5</td>\n",
       "      <td>5.5</td>\n",
       "    </tr>\n",
       "    <tr>\n",
       "      <th>8</th>\n",
       "      <td>172</td>\n",
       "      <td>XL</td>\n",
       "      <td>8</td>\n",
       "      <td>10.0</td>\n",
       "    </tr>\n",
       "    <tr>\n",
       "      <th>9</th>\n",
       "      <td>171</td>\n",
       "      <td>XL</td>\n",
       "      <td>9</td>\n",
       "      <td>10.0</td>\n",
       "    </tr>\n",
       "    <tr>\n",
       "      <th>10</th>\n",
       "      <td>173</td>\n",
       "      <td>XXL</td>\n",
       "      <td>7</td>\n",
       "      <td>5.5</td>\n",
       "    </tr>\n",
       "    <tr>\n",
       "      <th>11</th>\n",
       "      <td>189</td>\n",
       "      <td>XXXL</td>\n",
       "      <td>3</td>\n",
       "      <td>1.5</td>\n",
       "    </tr>\n",
       "    <tr>\n",
       "      <th>12</th>\n",
       "      <td>192</td>\n",
       "      <td>XXL</td>\n",
       "      <td>2</td>\n",
       "      <td>5.5</td>\n",
       "    </tr>\n",
       "    <tr>\n",
       "      <th>13</th>\n",
       "      <td>159</td>\n",
       "      <td>L</td>\n",
       "      <td>12</td>\n",
       "      <td>12.5</td>\n",
       "    </tr>\n",
       "    <tr>\n",
       "      <th>14</th>\n",
       "      <td>194</td>\n",
       "      <td>XXXL</td>\n",
       "      <td>1</td>\n",
       "      <td>1.5</td>\n",
       "    </tr>\n",
       "  </tbody>\n",
       "</table>\n",
       "</div>"
      ],
      "text/plain": [
       "    Height  Size  Height_Rank  Size_Rank\n",
       "0      168    XL           10       10.0\n",
       "1      174   XXL            6        5.5\n",
       "2      156     M           13       14.5\n",
       "3      154     M           14       14.5\n",
       "4      175   XXL            5        5.5\n",
       "5      181   XXL            4        5.5\n",
       "6      165     L           11       12.5\n",
       "7      175   XXL            5        5.5\n",
       "8      172    XL            8       10.0\n",
       "9      171    XL            9       10.0\n",
       "10     173   XXL            7        5.5\n",
       "11     189  XXXL            3        1.5\n",
       "12     192   XXL            2        5.5\n",
       "13     159     L           12       12.5\n",
       "14     194  XXXL            1        1.5"
      ]
     },
     "execution_count": 84,
     "metadata": {},
     "output_type": "execute_result"
    }
   ],
   "source": [
    "# Lấy giá trị trung bình các chỉ số\n",
    "size_rank = [10,5.5,14.5,14.5,5.5,5.5,12.5,5.5,10,10,5.5,1.5,5.5,12.5,1.5]\n",
    "dt['Size_Rank'] = pd.Series(size_rank)\n",
    "dt"
   ]
  },
  {
   "cell_type": "code",
   "execution_count": 105,
   "metadata": {},
   "outputs": [],
   "source": [
    "def SizeRank(_sortList,_data):\n",
    "    result = []\n",
    "    startvalue = 1\n",
    "    for x in _sortList:\n",
    "        count = _data.count(x)\n",
    "        _list = [i for i in range(startvalue,startvalue + count)]\n",
    "        result.append(sum(_list)/len(_list))\n",
    "        startvalue = startvalue + count\n",
    "    return result"
   ]
  },
  {
   "cell_type": "code",
   "execution_count": 108,
   "metadata": {},
   "outputs": [
    {
     "name": "stdout",
     "output_type": "stream",
     "text": [
      "[1.5, 5.5, 10.0, 12.5, 14.5]\n"
     ]
    }
   ],
   "source": [
    "print(SizeRank(['XXXL','XXL','XL','L','M'],list(dt['Size'])))"
   ]
  },
  {
   "cell_type": "code",
   "execution_count": 85,
   "metadata": {},
   "outputs": [
    {
     "data": {
      "text/html": [
       "<div>\n",
       "<style scoped>\n",
       "    .dataframe tbody tr th:only-of-type {\n",
       "        vertical-align: middle;\n",
       "    }\n",
       "\n",
       "    .dataframe tbody tr th {\n",
       "        vertical-align: top;\n",
       "    }\n",
       "\n",
       "    .dataframe thead th {\n",
       "        text-align: right;\n",
       "    }\n",
       "</style>\n",
       "<table border=\"1\" class=\"dataframe\">\n",
       "  <thead>\n",
       "    <tr style=\"text-align: right;\">\n",
       "      <th></th>\n",
       "      <th>Height</th>\n",
       "      <th>Size</th>\n",
       "      <th>Height_Rank</th>\n",
       "      <th>Size_Rank</th>\n",
       "      <th>d</th>\n",
       "    </tr>\n",
       "  </thead>\n",
       "  <tbody>\n",
       "    <tr>\n",
       "      <th>0</th>\n",
       "      <td>168</td>\n",
       "      <td>XL</td>\n",
       "      <td>10</td>\n",
       "      <td>10.0</td>\n",
       "      <td>0.0</td>\n",
       "    </tr>\n",
       "    <tr>\n",
       "      <th>1</th>\n",
       "      <td>174</td>\n",
       "      <td>XXL</td>\n",
       "      <td>6</td>\n",
       "      <td>5.5</td>\n",
       "      <td>0.5</td>\n",
       "    </tr>\n",
       "    <tr>\n",
       "      <th>2</th>\n",
       "      <td>156</td>\n",
       "      <td>M</td>\n",
       "      <td>13</td>\n",
       "      <td>14.5</td>\n",
       "      <td>1.5</td>\n",
       "    </tr>\n",
       "    <tr>\n",
       "      <th>3</th>\n",
       "      <td>154</td>\n",
       "      <td>M</td>\n",
       "      <td>14</td>\n",
       "      <td>14.5</td>\n",
       "      <td>0.5</td>\n",
       "    </tr>\n",
       "    <tr>\n",
       "      <th>4</th>\n",
       "      <td>175</td>\n",
       "      <td>XXL</td>\n",
       "      <td>5</td>\n",
       "      <td>5.5</td>\n",
       "      <td>0.5</td>\n",
       "    </tr>\n",
       "    <tr>\n",
       "      <th>5</th>\n",
       "      <td>181</td>\n",
       "      <td>XXL</td>\n",
       "      <td>4</td>\n",
       "      <td>5.5</td>\n",
       "      <td>1.5</td>\n",
       "    </tr>\n",
       "    <tr>\n",
       "      <th>6</th>\n",
       "      <td>165</td>\n",
       "      <td>L</td>\n",
       "      <td>11</td>\n",
       "      <td>12.5</td>\n",
       "      <td>1.5</td>\n",
       "    </tr>\n",
       "    <tr>\n",
       "      <th>7</th>\n",
       "      <td>175</td>\n",
       "      <td>XXL</td>\n",
       "      <td>5</td>\n",
       "      <td>5.5</td>\n",
       "      <td>0.5</td>\n",
       "    </tr>\n",
       "    <tr>\n",
       "      <th>8</th>\n",
       "      <td>172</td>\n",
       "      <td>XL</td>\n",
       "      <td>8</td>\n",
       "      <td>10.0</td>\n",
       "      <td>2.0</td>\n",
       "    </tr>\n",
       "    <tr>\n",
       "      <th>9</th>\n",
       "      <td>171</td>\n",
       "      <td>XL</td>\n",
       "      <td>9</td>\n",
       "      <td>10.0</td>\n",
       "      <td>1.0</td>\n",
       "    </tr>\n",
       "    <tr>\n",
       "      <th>10</th>\n",
       "      <td>173</td>\n",
       "      <td>XXL</td>\n",
       "      <td>7</td>\n",
       "      <td>5.5</td>\n",
       "      <td>1.5</td>\n",
       "    </tr>\n",
       "    <tr>\n",
       "      <th>11</th>\n",
       "      <td>189</td>\n",
       "      <td>XXXL</td>\n",
       "      <td>3</td>\n",
       "      <td>1.5</td>\n",
       "      <td>1.5</td>\n",
       "    </tr>\n",
       "    <tr>\n",
       "      <th>12</th>\n",
       "      <td>192</td>\n",
       "      <td>XXL</td>\n",
       "      <td>2</td>\n",
       "      <td>5.5</td>\n",
       "      <td>3.5</td>\n",
       "    </tr>\n",
       "    <tr>\n",
       "      <th>13</th>\n",
       "      <td>159</td>\n",
       "      <td>L</td>\n",
       "      <td>12</td>\n",
       "      <td>12.5</td>\n",
       "      <td>0.5</td>\n",
       "    </tr>\n",
       "    <tr>\n",
       "      <th>14</th>\n",
       "      <td>194</td>\n",
       "      <td>XXXL</td>\n",
       "      <td>1</td>\n",
       "      <td>1.5</td>\n",
       "      <td>0.5</td>\n",
       "    </tr>\n",
       "  </tbody>\n",
       "</table>\n",
       "</div>"
      ],
      "text/plain": [
       "    Height  Size  Height_Rank  Size_Rank    d\n",
       "0      168    XL           10       10.0  0.0\n",
       "1      174   XXL            6        5.5  0.5\n",
       "2      156     M           13       14.5  1.5\n",
       "3      154     M           14       14.5  0.5\n",
       "4      175   XXL            5        5.5  0.5\n",
       "5      181   XXL            4        5.5  1.5\n",
       "6      165     L           11       12.5  1.5\n",
       "7      175   XXL            5        5.5  0.5\n",
       "8      172    XL            8       10.0  2.0\n",
       "9      171    XL            9       10.0  1.0\n",
       "10     173   XXL            7        5.5  1.5\n",
       "11     189  XXXL            3        1.5  1.5\n",
       "12     192   XXL            2        5.5  3.5\n",
       "13     159     L           12       12.5  0.5\n",
       "14     194  XXXL            1        1.5  0.5"
      ]
     },
     "execution_count": 85,
     "metadata": {},
     "output_type": "execute_result"
    }
   ],
   "source": [
    "dt['d'] = abs(dt['Size_Rank'] - dt['Height_Rank'])\n",
    "dt"
   ]
  },
  {
   "cell_type": "code",
   "execution_count": 87,
   "metadata": {},
   "outputs": [
    {
     "data": {
      "text/html": [
       "<div>\n",
       "<style scoped>\n",
       "    .dataframe tbody tr th:only-of-type {\n",
       "        vertical-align: middle;\n",
       "    }\n",
       "\n",
       "    .dataframe tbody tr th {\n",
       "        vertical-align: top;\n",
       "    }\n",
       "\n",
       "    .dataframe thead th {\n",
       "        text-align: right;\n",
       "    }\n",
       "</style>\n",
       "<table border=\"1\" class=\"dataframe\">\n",
       "  <thead>\n",
       "    <tr style=\"text-align: right;\">\n",
       "      <th></th>\n",
       "      <th>Height</th>\n",
       "      <th>Size</th>\n",
       "      <th>Height_Rank</th>\n",
       "      <th>Size_Rank</th>\n",
       "      <th>d</th>\n",
       "      <th>d_square</th>\n",
       "    </tr>\n",
       "  </thead>\n",
       "  <tbody>\n",
       "    <tr>\n",
       "      <th>0</th>\n",
       "      <td>168</td>\n",
       "      <td>XL</td>\n",
       "      <td>10</td>\n",
       "      <td>10.0</td>\n",
       "      <td>0.0</td>\n",
       "      <td>0.00</td>\n",
       "    </tr>\n",
       "    <tr>\n",
       "      <th>1</th>\n",
       "      <td>174</td>\n",
       "      <td>XXL</td>\n",
       "      <td>6</td>\n",
       "      <td>5.5</td>\n",
       "      <td>0.5</td>\n",
       "      <td>0.25</td>\n",
       "    </tr>\n",
       "    <tr>\n",
       "      <th>2</th>\n",
       "      <td>156</td>\n",
       "      <td>M</td>\n",
       "      <td>13</td>\n",
       "      <td>14.5</td>\n",
       "      <td>1.5</td>\n",
       "      <td>2.25</td>\n",
       "    </tr>\n",
       "    <tr>\n",
       "      <th>3</th>\n",
       "      <td>154</td>\n",
       "      <td>M</td>\n",
       "      <td>14</td>\n",
       "      <td>14.5</td>\n",
       "      <td>0.5</td>\n",
       "      <td>0.25</td>\n",
       "    </tr>\n",
       "    <tr>\n",
       "      <th>4</th>\n",
       "      <td>175</td>\n",
       "      <td>XXL</td>\n",
       "      <td>5</td>\n",
       "      <td>5.5</td>\n",
       "      <td>0.5</td>\n",
       "      <td>0.25</td>\n",
       "    </tr>\n",
       "    <tr>\n",
       "      <th>5</th>\n",
       "      <td>181</td>\n",
       "      <td>XXL</td>\n",
       "      <td>4</td>\n",
       "      <td>5.5</td>\n",
       "      <td>1.5</td>\n",
       "      <td>2.25</td>\n",
       "    </tr>\n",
       "    <tr>\n",
       "      <th>6</th>\n",
       "      <td>165</td>\n",
       "      <td>L</td>\n",
       "      <td>11</td>\n",
       "      <td>12.5</td>\n",
       "      <td>1.5</td>\n",
       "      <td>2.25</td>\n",
       "    </tr>\n",
       "    <tr>\n",
       "      <th>7</th>\n",
       "      <td>175</td>\n",
       "      <td>XXL</td>\n",
       "      <td>5</td>\n",
       "      <td>5.5</td>\n",
       "      <td>0.5</td>\n",
       "      <td>0.25</td>\n",
       "    </tr>\n",
       "    <tr>\n",
       "      <th>8</th>\n",
       "      <td>172</td>\n",
       "      <td>XL</td>\n",
       "      <td>8</td>\n",
       "      <td>10.0</td>\n",
       "      <td>2.0</td>\n",
       "      <td>4.00</td>\n",
       "    </tr>\n",
       "    <tr>\n",
       "      <th>9</th>\n",
       "      <td>171</td>\n",
       "      <td>XL</td>\n",
       "      <td>9</td>\n",
       "      <td>10.0</td>\n",
       "      <td>1.0</td>\n",
       "      <td>1.00</td>\n",
       "    </tr>\n",
       "    <tr>\n",
       "      <th>10</th>\n",
       "      <td>173</td>\n",
       "      <td>XXL</td>\n",
       "      <td>7</td>\n",
       "      <td>5.5</td>\n",
       "      <td>1.5</td>\n",
       "      <td>2.25</td>\n",
       "    </tr>\n",
       "    <tr>\n",
       "      <th>11</th>\n",
       "      <td>189</td>\n",
       "      <td>XXXL</td>\n",
       "      <td>3</td>\n",
       "      <td>1.5</td>\n",
       "      <td>1.5</td>\n",
       "      <td>2.25</td>\n",
       "    </tr>\n",
       "    <tr>\n",
       "      <th>12</th>\n",
       "      <td>192</td>\n",
       "      <td>XXL</td>\n",
       "      <td>2</td>\n",
       "      <td>5.5</td>\n",
       "      <td>3.5</td>\n",
       "      <td>12.25</td>\n",
       "    </tr>\n",
       "    <tr>\n",
       "      <th>13</th>\n",
       "      <td>159</td>\n",
       "      <td>L</td>\n",
       "      <td>12</td>\n",
       "      <td>12.5</td>\n",
       "      <td>0.5</td>\n",
       "      <td>0.25</td>\n",
       "    </tr>\n",
       "    <tr>\n",
       "      <th>14</th>\n",
       "      <td>194</td>\n",
       "      <td>XXXL</td>\n",
       "      <td>1</td>\n",
       "      <td>1.5</td>\n",
       "      <td>0.5</td>\n",
       "      <td>0.25</td>\n",
       "    </tr>\n",
       "  </tbody>\n",
       "</table>\n",
       "</div>"
      ],
      "text/plain": [
       "    Height  Size  Height_Rank  Size_Rank    d  d_square\n",
       "0      168    XL           10       10.0  0.0      0.00\n",
       "1      174   XXL            6        5.5  0.5      0.25\n",
       "2      156     M           13       14.5  1.5      2.25\n",
       "3      154     M           14       14.5  0.5      0.25\n",
       "4      175   XXL            5        5.5  0.5      0.25\n",
       "5      181   XXL            4        5.5  1.5      2.25\n",
       "6      165     L           11       12.5  1.5      2.25\n",
       "7      175   XXL            5        5.5  0.5      0.25\n",
       "8      172    XL            8       10.0  2.0      4.00\n",
       "9      171    XL            9       10.0  1.0      1.00\n",
       "10     173   XXL            7        5.5  1.5      2.25\n",
       "11     189  XXXL            3        1.5  1.5      2.25\n",
       "12     192   XXL            2        5.5  3.5     12.25\n",
       "13     159     L           12       12.5  0.5      0.25\n",
       "14     194  XXXL            1        1.5  0.5      0.25"
      ]
     },
     "execution_count": 87,
     "metadata": {},
     "output_type": "execute_result"
    }
   ],
   "source": [
    "dt['d_square'] = dt['d']**2\n",
    "dt"
   ]
  },
  {
   "cell_type": "code",
   "execution_count": 88,
   "metadata": {},
   "outputs": [
    {
     "data": {
      "text/plain": [
       "30.0"
      ]
     },
     "execution_count": 88,
     "metadata": {},
     "output_type": "execute_result"
    }
   ],
   "source": [
    "sum_d_square = dt['d_square'].sum()\n",
    "sum_d_square"
   ]
  },
  {
   "cell_type": "code",
   "execution_count": 89,
   "metadata": {},
   "outputs": [
    {
     "data": {
      "text/plain": [
       "0.9464285714285714"
      ]
     },
     "execution_count": 89,
     "metadata": {},
     "output_type": "execute_result"
    }
   ],
   "source": [
    "n = 15\n",
    "r = 1- (6*sum_d_square)/(n*(n**2-1))\n",
    "r"
   ]
  },
  {
   "cell_type": "code",
   "execution_count": 86,
   "metadata": {},
   "outputs": [
    {
     "name": "stdout",
     "output_type": "stream",
     "text": [
      "r =  0.9477622190373591\n",
      "pvalue =  8.046032464072492e-08\n"
     ]
    }
   ],
   "source": [
    "from scipy import stats\n",
    "\n",
    "r, pvalue = stats.spearmanr(dt['Height_Rank'], dt['Size_Rank'])\n",
    "print ('r = ', r)\n",
    "print ('pvalue = ', pvalue)"
   ]
  },
  {
   "attachments": {},
   "cell_type": "markdown",
   "metadata": {},
   "source": [
    "Do pvalue < alpha = 0.05. nên H0 được loại bỏ, HA được chấp nhận. Giữa các thuộc tính có tương quan. Pvalue gần bằng 0, mối quan hệ giữa hai thuộc tính rất chặt chẽ"
   ]
  }
 ],
 "metadata": {
  "kernelspec": {
   "display_name": "Python 3.10.8 64-bit (microsoft store)",
   "language": "python",
   "name": "python3"
  },
  "language_info": {
   "codemirror_mode": {
    "name": "ipython",
    "version": 3
   },
   "file_extension": ".py",
   "mimetype": "text/x-python",
   "name": "python",
   "nbconvert_exporter": "python",
   "pygments_lexer": "ipython3",
   "version": "3.10.8 (tags/v3.10.8:aaaf517, Oct 11 2022, 16:50:30) [MSC v.1933 64 bit (AMD64)]"
  },
  "orig_nbformat": 4,
  "vscode": {
   "interpreter": {
    "hash": "69bdb29fa5b284b7c766c6014f8dd1955f741bad82f646884d6bfd8516008893"
   }
  }
 },
 "nbformat": 4,
 "nbformat_minor": 2
}
