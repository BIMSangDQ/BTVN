{
 "cells": [
  {
   "cell_type": "code",
   "execution_count": 12,
   "id": "bec6c455",
   "metadata": {},
   "outputs": [],
   "source": [
    "from tkinter import *\n",
    "from tkinter import ttk\n",
    "from tkinter import messagebox\n",
    "\n",
    "def selection(event):\n",
    "    messagebox.showinfo('Du lieu duoc chon',event.widget.get())\n",
    "    \n",
    "root = Tk()\n",
    "root.title('combobox demo')\n",
    "root.geometry('400x200')\n",
    "\n",
    "frame = Frame(root,relief= RAISED,bg='red',bd = 2)\n",
    "frame.pack( side = TOP )\n",
    "\n",
    "values = [f'thang {i}' for i in range(1,13,1)]\n",
    "variable = StringVar() #Boolvar  #Intvar\n",
    "combobox = ttk.Combobox(frame,values = values, textvariable = variable, state = 'readonly')\n",
    "combobox.pack()\n",
    "combobox.set(values[0])\n",
    "combobox.bind('<<ComboboxSelected>>',selection)\n",
    "\n",
    "# btn = Button(frame, text = 'ok')\n",
    "# btn.pack()\n",
    "\n",
    "root.mainloop()"
   ]
  },
  {
   "cell_type": "code",
   "execution_count": 13,
   "id": "1d999b6f",
   "metadata": {},
   "outputs": [],
   "source": [
    "from tkinter import *\n",
    "\n",
    "root = Tk()\n",
    "root.title('radiobutton demo')\n",
    "root.geometry('400x200')\n",
    "\n",
    "var1 = IntVar()\n",
    "var1.set(2)\n",
    "\n",
    "rd1 = Radiobutton(root,text=\"Option1\",value = 1, variable = var1)\n",
    "rd1.pack()\n",
    "\n",
    "rd2 = Radiobutton(root,text=\"Option2\",value = 2, variable = var1)\n",
    "rd2.pack()\n",
    "\n",
    "rd3 = Radiobutton(root,text=\"Option3\",value = 3, variable = var1)\n",
    "rd3.pack()\n"
   ]
  },
  {
   "cell_type": "code",
   "execution_count": null,
   "id": "7a7daedb",
   "metadata": {},
   "outputs": [],
   "source": []
  }
 ],
 "metadata": {
  "kernelspec": {
   "display_name": "Python 3",
   "language": "python",
   "name": "python3"
  },
  "language_info": {
   "codemirror_mode": {
    "name": "ipython",
    "version": 3
   },
   "file_extension": ".py",
   "mimetype": "text/x-python",
   "name": "python",
   "nbconvert_exporter": "python",
   "pygments_lexer": "ipython3",
   "version": "3.8.8"
  }
 },
 "nbformat": 4,
 "nbformat_minor": 5
}
