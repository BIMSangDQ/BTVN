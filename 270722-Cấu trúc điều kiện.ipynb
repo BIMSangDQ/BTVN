{
 "cells": [
  {
   "cell_type": "code",
   "execution_count": 5,
   "id": "fe8e9992",
   "metadata": {},
   "outputs": [
    {
     "name": "stdout",
     "output_type": "stream",
     "text": [
      "Nhập số tự nhiên:6\n",
      "Chủ nhật\n"
     ]
    }
   ],
   "source": [
    "#Cấu trúc điều kiện\n",
    "# Nhập số từ 0-6, hiển thị thứ trong tuần\n",
    "\n",
    "number = int(input('Nhập số tự nhiên:'))\n",
    "\n",
    "if number == 0:\n",
    "    print(\"Thứ hai\")\n",
    "elif number == 1:\n",
    "    print(\"Thứ ba\")\n",
    "elif number == 2:\n",
    "    print(\"Thứ tư\")\n",
    "elif number == 3:\n",
    "    print(\"Thứ năm\")\n",
    "elif number == 4:\n",
    "    print(\"Thứ sáu\")\n",
    "elif number == 5:\n",
    "    print(\"Thứ bảy\")\n",
    "elif number == 6:\n",
    "    print(\"Chủ nhật\")\n",
    "else:\n",
    "    print(\"Lỗi nhập liệu\")"
   ]
  },
  {
   "cell_type": "code",
   "execution_count": 12,
   "id": "a1bded00",
   "metadata": {},
   "outputs": [
    {
     "name": "stdout",
     "output_type": "stream",
     "text": [
      "Nhập số phút sử dụng:0\n",
      "Tiền cước điện thoại là 25000.0đ\n"
     ]
    }
   ],
   "source": [
    "number = float(input('Nhập số phút sử dụng:'))\n",
    "\n",
    "Cuoc = 25000\n",
    "\n",
    "if number < 0:\n",
    "    print(\"Lỗi nhập liệu\")\n",
    "elif number <=50:\n",
    "    Cuoc += 600*number\n",
    "    print(f\"Tiền cước điện thoại là {Cuoc}đ\")\n",
    "elif number <=200:\n",
    "    Cuoc = Cuoc + 600*50 + (number-50)*400\n",
    "    print(f\"Tiền cước điện thoại là {Cuoc}đ\")\n",
    "else:\n",
    "    Cuoc = Cuoc + 600*50 + 150*400 + (number-200)*200\n",
    "    print(f\"Tiền cước điện thoại là {Cuoc}đ\")\n"
   ]
  },
  {
   "cell_type": "code",
   "execution_count": 22,
   "id": "94296cc3",
   "metadata": {},
   "outputs": [
    {
     "name": "stdout",
     "output_type": "stream",
     "text": [
      "Ten2\n"
     ]
    }
   ],
   "source": [
    "print (\"Ten2\")"
   ]
  },
  {
   "cell_type": "code",
   "execution_count": null,
   "id": "23323c5f",
   "metadata": {},
   "outputs": [],
   "source": []
  }
 ],
 "metadata": {
  "kernelspec": {
   "display_name": "Python 3",
   "language": "python",
   "name": "python3"
  },
  "language_info": {
   "codemirror_mode": {
    "name": "ipython",
    "version": 3
   },
   "file_extension": ".py",
   "mimetype": "text/x-python",
   "name": "python",
   "nbconvert_exporter": "python",
   "pygments_lexer": "ipython3",
   "version": "3.8.8"
  }
 },
 "nbformat": 4,
 "nbformat_minor": 5
}
