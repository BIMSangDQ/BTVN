{
 "cells": [
  {
   "cell_type": "code",
   "execution_count": null,
   "id": "039b922a",
   "metadata": {},
   "outputs": [],
   "source": [
    "class Circle:\n",
    "    #Hàm khởi tạo\n",
    "    def __init__(self, r):\n",
    "        self.r = r\n",
    "        \n",
    "    #Hàm thành viên\n",
    "    def area(self):\n",
    "        return 3.14*self.r*self.r\n",
    "    \n",
    "    def info(self):\n",
    "        print(f'r = {self.r})"
   ]
  },
  {
   "cell_type": "code",
   "execution_count": null,
   "id": "1adb84ca",
   "metadata": {},
   "outputs": [],
   "source": [
    "#Tạo ra 1 list đường tròn có bán kính bất kỳ,\n",
    "import random\n",
    "edges = [i for i in range(1,100,1)]\n",
    "circles = []\n",
    "\n",
    "for i in range(10):\n",
    "    r= random.choice(edges)\n",
    "    circles.append(Circle(r))\n",
    "#     print(f'Khởi tạo đường tròn có bán kính {r}')\n",
    "# print()\n",
    "\n",
    "#Tìm đường tròn có bán kính lớn nhất.\n",
    "_max = 0\n",
    "index = 0\n",
    "count = 0\n",
    "for i in circles:\n",
    "    if i.r > _max:\n",
    "        _max = i.r\n",
    "        index = count\n",
    "    count+=1\n",
    "    \n",
    "print (f'Đường tròn có bán kính lớn nhất là {_max}')\n",
    "\n",
    "circle = circles[index]\n",
    "#check\n",
    "print(circle.r)\n",
    "print()\n",
    "\n",
    "#sắp xếp list đường tròn theo bán kính\n",
    "new_circles = sorted(circles,key = lambda x: x.r)\n",
    "##check\n",
    "for i in new_circles:\n",
    "    print(i.r)"
   ]
  },
  {
   "cell_type": "code",
   "execution_count": null,
   "id": "e5b96390",
   "metadata": {},
   "outputs": [],
   "source": []
  }
 ],
 "metadata": {
  "kernelspec": {
   "display_name": "Python 3",
   "language": "python",
   "name": "python3"
  },
  "language_info": {
   "codemirror_mode": {
    "name": "ipython",
    "version": 3
   },
   "file_extension": ".py",
   "mimetype": "text/x-python",
   "name": "python",
   "nbconvert_exporter": "python",
   "pygments_lexer": "ipython3",
   "version": "3.8.8"
  }
 },
 "nbformat": 4,
 "nbformat_minor": 5
}
