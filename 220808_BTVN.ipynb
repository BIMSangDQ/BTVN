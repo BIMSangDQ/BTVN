{
 "cells": [
  {
   "cell_type": "code",
   "execution_count": 10,
   "id": "9df802ee",
   "metadata": {},
   "outputs": [
    {
     "name": "stdout",
     "output_type": "stream",
     "text": [
      "Nhập tên muốn tìm kiếm: Đặng Quang Sáng\n",
      "Dang Quang Sang\n"
     ]
    }
   ],
   "source": [
    "# Bài 1: Trong các phần mềm quản lý nhân sự,\n",
    "#     chức năng tìm kiếm thông tin nhân sự thông qua tên của nhân viên là một chức năng quan trọng của phần mềm.\n",
    "#     Chức năng có khả năng tìm kiếm khi người dùng nhập vào tên tiếng Việt có dấu hoặc kể cả không có dấu.\n",
    "#     Để làm điều đó, khi nhập vào dữ liệu là tiếng Việt có dấu được chuyển sang dữ liệu tiếng Việt không có dấu.\n",
    "#     Viết chương trình chuyển tiếng Việt có dấu sang tiếng Việt không có dấu.\n",
    "#     Ví dụ: Nhập vào là \"Nguyễn văn bình\" thì kết quả là \"Nguyen van binh\".\n",
    "\n",
    "Name = input(\"Nhập tên muốn tìm kiếm: \")\n",
    "Name.strip()\n",
    "\n",
    "string1 = \"áàảãạăắằẳẵặâấầẩẫậ\"\n",
    "string2 = \"ÁÀẢÃẠĂẮẰẲẴẶÂẤẦẨẪẬ\"\n",
    "string3 = \"éèẻẽẹêếềểễệ\"\n",
    "string4 = \"ÉÈẺẼẸÊẾỀỂỄỆ\"\n",
    "string5 = \"óòỏõọôốồổỗộơớờởỡợ\"\n",
    "string6 = \"ÓÒỎÕỌÔỐỒỔỖỘƠỚỜỞỠỢ\"\n",
    "string7 = \"íìỉĩị\"\n",
    "string8 = \"ÍÌỈĨỊ\"\n",
    "string9 = \"úùủũụưứừửữự\"\n",
    "string10 = \"ÚÙỦŨỤƯỨỪỬỮỰ\"\n",
    "string11 = \"ýỳỷỹỵ\"\n",
    "string12 = \"ÝỲỶỸỴ\"\n",
    "string13 = \"đ\"\n",
    "string14 = \"Đ\"\n",
    "\n",
    "newName = \"\"\n",
    "for char in Name:\n",
    "    if char in string1:\n",
    "        newName += 'a'\n",
    "    elif char in string2:\n",
    "        newName += 'A'\n",
    "    elif char in string3:\n",
    "        newName += 'e'\n",
    "    elif char in string4:\n",
    "        newName += 'E'\n",
    "    elif char in string5:\n",
    "        newName += 'o'\n",
    "    elif char in string6:\n",
    "        newName += 'O'\n",
    "    elif char in string7:\n",
    "        newName += 'i'\n",
    "    elif char in string8:\n",
    "        newName += 'I'\n",
    "    elif char in string9:\n",
    "        newName += 'u'\n",
    "    elif char in string10:\n",
    "        newName += 'U'\n",
    "    elif char in string11:\n",
    "        newName += 'y'\n",
    "    elif char in string12:\n",
    "        newName += 'Y'\n",
    "    elif char in string13:\n",
    "        newName += 'd'\n",
    "    elif char in string14:\n",
    "        newName += 'D'\n",
    "    else:\n",
    "        newName += char\n",
    "print(newName)"
   ]
  },
  {
   "cell_type": "code",
   "execution_count": 14,
   "id": "61c76570",
   "metadata": {},
   "outputs": [
    {
     "name": "stdout",
     "output_type": "stream",
     "text": [
      "Nhập tháng (1-12): 8\n",
      "Nhập năm (vd:2022): 2022\n",
      "Tháng đã nhập có 31 ngày\n",
      "1234560123456012345601234560123\n",
      "Số tuần chẵn của tháng đã nhập: 4\n",
      "Số tuần lẻ của tháng đã nhập: 1\n"
     ]
    }
   ],
   "source": [
    "# Bài 2: Trong các công ty sản xuất, thời gian trong tháng được chia làm các tuần.\n",
    "#     Một tuần đầy đủ (gọi là tuần chẵn) được tính từ thứ 2 đến chủ nhật (có đầy đủ các ngày),\n",
    "#     còn tuần lẻ là các tuần không đủ 7 ngày.\n",
    "#     Nhập vào tháng và năm, tính số tuần (bao gồm chẵn và lẻ) trong tháng đó.\n",
    "\n",
    "import datetime\n",
    "\n",
    "mm = int(input (\"Nhập tháng (1-12): \"))\n",
    "yy = int(input(\"Nhập năm (vd:2022): \"))\n",
    "\n",
    "if mm <=0 or yy <=0 or mm>12:\n",
    "    print(\"Lỗi nhập dữ liệu\")\n",
    "else:\n",
    "    date1 = datetime.datetime(yy, mm, 1)\n",
    "    if mm <12:\n",
    "        date2 = datetime.datetime(yy, mm+1, 1)\n",
    "    else:\n",
    "        date2 = datetime.datetime(yy+1, 1, 1)\n",
    "    \n",
    "    print(f\"Tháng đã nhập có {(date2-date1).days} ngày\")\n",
    "    \n",
    "    _string = \"\"\n",
    "    for dayOfMonth in range(1,(date2-date1).days+1,1):\n",
    "        _string += datetime.datetime(yy,mm,dayOfMonth).strftime(\"%w\")\n",
    "        \n",
    "    print(_string)\n",
    "    #Tuần chẵn tính từ thứ 2 đến chủ nhật\n",
    "    fullWeeks_Count = _string.count(\"1234560\")\n",
    "    print(f\"Số tuần chẵn của tháng đã nhập: {fullWeeks_Count}\")\n",
    "    \n",
    "    #Nếu tháng không bắt đầu là thứ 2 thì có tuần lẻ đầu tháng\n",
    "    #Nếu tháng không kết thúc là chủ nhật thì có tuần lẻ cuối tháng\n",
    "    Weeks = 0\n",
    "    if _string[0] != '1':\n",
    "        Weeks +=1\n",
    "    if _string[-1] != '0':\n",
    "        Weeks +=1\n",
    "        \n",
    "    if Weeks == 0:\n",
    "        print(f\"Tháng đã nhập không có tuần lẻ\")\n",
    "    else:\n",
    "        print(f\"Số tuần lẻ của tháng đã nhập: {Weeks}\")"
   ]
  },
  {
   "cell_type": "code",
   "execution_count": null,
   "id": "d666499d",
   "metadata": {},
   "outputs": [],
   "source": []
  }
 ],
 "metadata": {
  "kernelspec": {
   "display_name": "Python 3 (ipykernel)",
   "language": "python",
   "name": "python3"
  },
  "language_info": {
   "codemirror_mode": {
    "name": "ipython",
    "version": 3
   },
   "file_extension": ".py",
   "mimetype": "text/x-python",
   "name": "python",
   "nbconvert_exporter": "python",
   "pygments_lexer": "ipython3",
   "version": "3.9.12"
  }
 },
 "nbformat": 4,
 "nbformat_minor": 5
}
