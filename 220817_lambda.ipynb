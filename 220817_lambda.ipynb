{
 "cells": [
  {
   "cell_type": "code",
   "execution_count": null,
   "id": "fd731174",
   "metadata": {},
   "outputs": [],
   "source": [
    "#hàm nặc danh - hàm không có tên\n",
    "#không định nghĩa bởi từ khóa def, được định nghĩa bởi từ khóa Lambda\n",
    "def max_between_two(x,y):\n",
    "    return x if x>y else y\n",
    "\n",
    "print(max_between_two(5,6))\n",
    "\n",
    "#Cách tìm max của hai số bằng hàm nặc danh\n",
    "_max = lambda x,y: x if x>y else y\n",
    "print (_max(5,6))"
   ]
  },
  {
   "cell_type": "code",
   "execution_count": null,
   "id": "0bae25a5",
   "metadata": {},
   "outputs": [],
   "source": [
    "def multiple(n):\n",
    "    return lambda x: x*n\n",
    "\n",
    "m = multiple(2)\n",
    "print(m)\n",
    "print(m(4))"
   ]
  },
  {
   "cell_type": "code",
   "execution_count": 14,
   "id": "30e68a48",
   "metadata": {},
   "outputs": [
    {
     "name": "stdout",
     "output_type": "stream",
     "text": [
      "Nhập số N:5\n",
      "  *\n",
      " ***\n",
      "*****\n",
      " ***\n",
      "  *\n"
     ]
    }
   ],
   "source": [
    "#Nhập số n, vẽ hình theo quy luật\n",
    "\n",
    "N = int(input(\"Nhập số N:\"))\n",
    "        \n",
    "if N%2 == 0:\n",
    "    N=N-1\n",
    "    \n",
    "char = '*'\n",
    "for i in range(1,N+1,2):\n",
    "    _str = int(((N-i)/2))*' ' + char*i \n",
    "    print(_str)\n",
    "    \n",
    "for i in range(N-2,0,-2):\n",
    "    _str = int(((N-i)/2))*' ' + char*i \n",
    "    print(_str)"
   ]
  }
 ],
 "metadata": {
  "kernelspec": {
   "display_name": "Python 3",
   "language": "python",
   "name": "python3"
  },
  "language_info": {
   "codemirror_mode": {
    "name": "ipython",
    "version": 3
   },
   "file_extension": ".py",
   "mimetype": "text/x-python",
   "name": "python",
   "nbconvert_exporter": "python",
   "pygments_lexer": "ipython3",
   "version": "3.8.8"
  }
 },
 "nbformat": 4,
 "nbformat_minor": 5
}
