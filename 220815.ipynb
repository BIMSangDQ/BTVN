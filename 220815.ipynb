{
 "cells": [
  {
   "cell_type": "code",
   "execution_count": 1,
   "id": "8abbc8e1",
   "metadata": {},
   "outputs": [],
   "source": [
    "#Định nghĩa hàm số giải phương trình bậc 2\n",
    "import math\n",
    "\n",
    "def gtb2(a,b,c):\n",
    "    '''\n",
    "    Hàm giải phương trình bậc 2: ax^2 + bx + c = 0\n",
    "    \n",
    "    parameters:\n",
    "    a(int): Số a\n",
    "    b(int): số b\n",
    "    c(int): số c\n",
    "    \n",
    "    return:\n",
    "    -Nghiệm của pt bậc 2\n",
    "    '''\n",
    "    \n",
    "    if (a == 0 and b ==0):\n",
    "        return None\n",
    "    elif (a==0):\n",
    "        return -c/b\n",
    "    else:\n",
    "        delta = b**2-4*a*c\n",
    "        if delta < 0:\n",
    "            return None\n",
    "        elif delta == 0:\n",
    "            return -b/(2*a)\n",
    "        else:\n",
    "            x1 = (-b + math.sqrt(delta))/(2*a)\n",
    "            x2 = (-b - math.sqrt(delta))/(2*a)\n",
    "            return x1,x2\n",
    "        \n",
    "gtb2(2,2,4)"
   ]
  },
  {
   "cell_type": "code",
   "execution_count": null,
   "id": "6ac06d58",
   "metadata": {},
   "outputs": [],
   "source": []
  }
 ],
 "metadata": {
  "kernelspec": {
   "display_name": "Python 3",
   "language": "python",
   "name": "python3"
  },
  "language_info": {
   "codemirror_mode": {
    "name": "ipython",
    "version": 3
   },
   "file_extension": ".py",
   "mimetype": "text/x-python",
   "name": "python",
   "nbconvert_exporter": "python",
   "pygments_lexer": "ipython3",
   "version": "3.8.8"
  }
 },
 "nbformat": 4,
 "nbformat_minor": 5
}
