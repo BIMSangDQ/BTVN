{
 "cells": [
  {
   "cell_type": "markdown",
   "id": "5761f2a7",
   "metadata": {},
   "source": [
    "Hãy kiểm tra mảng số nguyên có tồn tại hai giá trị không liên tiếp hay không ?"
   ]
  },
  {
   "cell_type": "code",
   "execution_count": null,
   "id": "a0acf4b7",
   "metadata": {
    "scrolled": false
   },
   "outputs": [],
   "source": [
    "def ktkhong(_list):\n",
    "    \"\"\"\n",
    "    Hàm kiểm tra mảng số nguyên có 2 số 0 liên tiếp hay không\n",
    "    \n",
    "    Parameters:\n",
    "    - _list: mảng số nguyên truyền vào\n",
    "    \n",
    "    Return:\n",
    "    - True: nếu tồn tại 2 giá trị 0 liên tiếp\n",
    "    - False: không tồn tại 2 giá trị 0 liên tiếp\n",
    "    \"\"\"\n",
    "    for i in range(0,len(_list)-1,1):\n",
    "        if _list[i] == _list[i+1] == 0:\n",
    "            return True\n",
    "    return False\n",
    "\n",
    "print(ktkhong([4,5,0,1,3,5,7,0]))\n",
    "print(ktkhong([4,5,0,1,3,5,7,0,0]))"
   ]
  },
  {
   "cell_type": "markdown",
   "id": "ae867e74",
   "metadata": {},
   "source": [
    "Hãy kiểm tra mảng số nguyên có tồn tại giá trị chẵn hay không? Nếu không tồn tại giá trị chẵn trả về giá trị 0, hay ngược lại trả về 1."
   ]
  },
  {
   "cell_type": "code",
   "execution_count": null,
   "id": "1abdd057",
   "metadata": {},
   "outputs": [],
   "source": [
    "def ktr_chanle(_list):\n",
    "    \"\"\"\n",
    "    Hàm kiểm tra mảng số nguyên có giá trị chẵn hay không\n",
    "    \n",
    "    Parameters:\n",
    "    - _list: mảng số nguyên truyền vào\n",
    "    \n",
    "    Return:\n",
    "    - 0: không có số chẵn\n",
    "    - 1: có số chẵn\n",
    "    \"\"\"\n",
    "    for i in range(0,len(_list),1):\n",
    "        if _list[i]%2==0:\n",
    "            return 1\n",
    "    return 0\n",
    "\n",
    "print(ktr_chanle([9,5,1,3,5,7]))\n",
    "print(ktr_chanle([9,5,1,3,5,7,2]))"
   ]
  },
  {
   "cell_type": "markdown",
   "id": "5a49eda8",
   "metadata": {},
   "source": [
    "Hãy cho biết mảng các số nguyên có toàn số chẵn hay không? Nếu có tồn tại giá trị lẻ trả về giá trị 0, ngược lại trả về 1."
   ]
  },
  {
   "cell_type": "code",
   "execution_count": null,
   "id": "9b4d2f7d",
   "metadata": {},
   "outputs": [],
   "source": [
    "def ktr_listchanle(_list):\n",
    "    \"\"\"\n",
    "    Hàm kiểm tra mảng số nguyên có giá trị toàn là chẵn hay không\n",
    "    \n",
    "    Parameters:\n",
    "    - _list: mảng số nguyên truyền vào\n",
    "    \n",
    "    Return:\n",
    "    - 0: có giá trị lẻ\n",
    "    - 1: toàn số chẵn\n",
    "    \"\"\"\n",
    "    for i in range(0,len(_list),1):\n",
    "        if _list[i]%2!=0:\n",
    "            return 0\n",
    "    return 1\n",
    "\n",
    "print(ktr_listchanle([2,4,6,8,10]))\n",
    "print(ktr_listchanle([9,5,1,3,5,7,2]))"
   ]
  },
  {
   "cell_type": "markdown",
   "id": "a736df1e",
   "metadata": {},
   "source": [
    "Hãy kiểm tra mảng một chiều các số thực có đối xứng hay không?"
   ]
  },
  {
   "cell_type": "code",
   "execution_count": 13,
   "id": "c360bf6e",
   "metadata": {},
   "outputs": [
    {
     "name": "stdout",
     "output_type": "stream",
     "text": [
      "1\n",
      "0\n"
     ]
    }
   ],
   "source": [
    "def ktr_listdx(_list):\n",
    "    \"\"\"\n",
    "    Hàm kiểm tra mảng số thực có đối xứng hay ko\n",
    "    \n",
    "    Parameters:\n",
    "    - _list: mảng số nguyên truyền vào\n",
    "    \n",
    "    Return:\n",
    "    - 0: không đối xứng\n",
    "    - 1: mảng đối xứng\n",
    "    \"\"\"\n",
    "    for i in range(0,int(len(_list)/2),1):\n",
    "        if _list[i] != _list[-1*(i+1)]:\n",
    "            return 0\n",
    "    return 1\n",
    "    \n",
    "print(ktr_listdx([3,2,1,2,3]))\n",
    "print(ktr_listdx([3,2,1,4,3]))"
   ]
  },
  {
   "cell_type": "markdown",
   "id": "975b9821",
   "metadata": {},
   "source": [
    "Ta định nghĩa một mảng có tính chẵn lẻ, khi tổng của hai phần tử liên tiếp trong mảng luôn luôn là số lẻ. Hãy viết hàm kiểm tra mảng a có tính chẵn lẻ hay không?"
   ]
  },
  {
   "cell_type": "code",
   "execution_count": 12,
   "id": "7ec6108e",
   "metadata": {},
   "outputs": [
    {
     "name": "stdout",
     "output_type": "stream",
     "text": [
      "True\n",
      "False\n"
     ]
    }
   ],
   "source": [
    "def ktr_tinhchanle(_list):\n",
    "    for i in range(0,len(_list)-1,1):\n",
    "        if (_list[i] + _list[i+1])%2 == 0:\n",
    "            return False\n",
    "    return True\n",
    "\n",
    "print(ktr_tinhchanle([3,2,1,2,3]))\n",
    "print(ktr_tinhchanle([4,2,0,2,3]))"
   ]
  },
  {
   "cell_type": "markdown",
   "id": "434a04e0",
   "metadata": {},
   "source": [
    "Hãy kiểm tra mảng có tăng dần hay không?"
   ]
  },
  {
   "cell_type": "code",
   "execution_count": null,
   "id": "ba375910",
   "metadata": {},
   "outputs": [],
   "source": [
    "def ktr_tangdan(_list):\n",
    "    for i in range(0,len(_list)-1,1):\n",
    "        if _list[i] >= _list[i+1]:\n",
    "            return False\n",
    "    return True\n",
    "\n",
    "print(ktr_tangdan([1,2,5,10,15,20]))"
   ]
  },
  {
   "cell_type": "markdown",
   "id": "2dca9538",
   "metadata": {},
   "source": [
    "Hãy kiểm tra mảng có giảm dần hay không?"
   ]
  },
  {
   "cell_type": "code",
   "execution_count": null,
   "id": "eb5154cc",
   "metadata": {},
   "outputs": [],
   "source": [
    "def ktr_giamdan(_list):\n",
    "    for i in range(0,len(_list)-1,1):\n",
    "        if _list[i] <= _list[i+1]:\n",
    "            return False\n",
    "    return True\n",
    "\n",
    "print(ktr_giamdan([1,2,5,10,15,20]))"
   ]
  },
  {
   "cell_type": "markdown",
   "id": "24dd211d",
   "metadata": {},
   "source": [
    "Hãy cho biết các phần tử trong mảng có lập thành cấp số cộng không? Nếu có hãy chỉ ra công sai d"
   ]
  },
  {
   "cell_type": "code",
   "execution_count": null,
   "id": "e9dda389",
   "metadata": {},
   "outputs": [],
   "source": [
    "def ktr_capsocong(_list):\n",
    "    \"\"\"\n",
    "    Hàm kiểm tra mảng số thực có lập thành cấp số cộng không?\n",
    "    \n",
    "    Parameters:\n",
    "    - _list: mảng số nguyên truyền vào\n",
    "    \n",
    "    Return:\n",
    "    - 0: không phải là cấp số cộng\n",
    "    - int: là cấp số cộng và kết quả là công sai\n",
    "    \"\"\"\n",
    "    _delta = _list[1]-_list[0]\n",
    "    \n",
    "    for i in range(1,len(_list)-1,1):\n",
    "        if _list[i+1]- _list[i] != _delta:\n",
    "            return 0\n",
    "    return _delta\n",
    "\n",
    "print(ktr_capsocong([5,10,15,20]))\n",
    "print(ktr_capsocong([5,10,12,20]))"
   ]
  },
  {
   "cell_type": "markdown",
   "id": "19be5057",
   "metadata": {},
   "source": [
    "Hãy cho biết các phần tử trong mảng có bằng nhau không?"
   ]
  },
  {
   "cell_type": "code",
   "execution_count": null,
   "id": "1ff05a5d",
   "metadata": {},
   "outputs": [],
   "source": [
    "def ktr_mangbangnhau(_list):\n",
    "    for i in range(1,len(_list),1):\n",
    "        if _list[i]!= _list[0]:\n",
    "            return False\n",
    "    return True"
   ]
  },
  {
   "cell_type": "markdown",
   "id": "58268599",
   "metadata": {},
   "source": [
    "Người ta định nghĩa một mảng được gọi là “dạng sóng” khi phần tử có giá trị số I lớn hơn hoặc nhỏ hơn hai phần tử xung quanh nó. Hãy viết hàm kiểm tra trong a sóng hay không?"
   ]
  },
  {
   "cell_type": "code",
   "execution_count": 36,
   "id": "1572fb15",
   "metadata": {},
   "outputs": [
    {
     "name": "stdout",
     "output_type": "stream",
     "text": [
      "True\n",
      "False\n"
     ]
    }
   ],
   "source": [
    "def ktr_dangsong(_list):\n",
    "    for i in range(1,len(_list)-1,1):\n",
    "        if (_list[i]>_list[i-1] and _list[i]<_list[i+1])\\\n",
    "            or (_list[i]<_list[i-1] and _list[i]>_list[i+1])\\\n",
    "            or (_list[i]==_list[i-1]) or (_list[i]==_list[i+1]):\n",
    "            return False\n",
    "    return True\n",
    "        \n",
    "print(ktr_dangsong([1,3,1,3,1,3,1]))\n",
    "print(ktr_dangsong([1,3,1,3,1,3,5]))"
   ]
  },
  {
   "cell_type": "markdown",
   "id": "3a06a75d",
   "metadata": {},
   "source": [
    "Hãy đếm số lượng giá trị trong mảng thỏa tính chất: “lớn hơn tất cả các giá trị đứng đằng trước nó”"
   ]
  },
  {
   "cell_type": "code",
   "execution_count": 64,
   "id": "33f9e4a3",
   "metadata": {},
   "outputs": [
    {
     "name": "stdout",
     "output_type": "stream",
     "text": [
      "4\n"
     ]
    }
   ],
   "source": [
    "def count_gtr(_list):\n",
    "    count = 0\n",
    "    for i in range(1,len(_list),1):\n",
    "        for j in range(i):\n",
    "            if _list[j]>=_list[i]:\n",
    "                break\n",
    "        count +=1\n",
    "    return count\n",
    "\n",
    "print(count_gtr([1,7,5,9,7]))"
   ]
  },
  {
   "cell_type": "markdown",
   "id": "09720f79",
   "metadata": {},
   "source": [
    "Hãy trộn hai mảng tăng dần lại thành 1 mảng được sắp thứ tự tăng dần"
   ]
  },
  {
   "cell_type": "code",
   "execution_count": 32,
   "id": "d91a0d7c",
   "metadata": {},
   "outputs": [
    {
     "name": "stdout",
     "output_type": "stream",
     "text": [
      "[1, 2, 3, 4, 5, 6, 7]\n"
     ]
    }
   ],
   "source": [
    "def tron2mangtangdan(l1,l2):\n",
    "    for i in l2:\n",
    "        l1.append(i)\n",
    "    return sorted(l1)\n",
    "\n",
    "print(tron2mangtangdan([1,3,5,7],[2,4,6]))"
   ]
  },
  {
   "cell_type": "markdown",
   "id": "c2a03df7",
   "metadata": {},
   "source": [
    "Hãy đưa các số chẵn trong mảng về đầu mảng, số lẻ về cuối mảng và các phần tử 0 năm ở giữa"
   ]
  },
  {
   "cell_type": "code",
   "execution_count": 35,
   "id": "2595ba23",
   "metadata": {},
   "outputs": [
    {
     "name": "stdout",
     "output_type": "stream",
     "text": [
      "[4, 6, 4, 6, 0, 3, 5, 87, 5, 9]\n"
     ]
    }
   ],
   "source": [
    "def formatlist(l):\n",
    "    newlist = []\n",
    "    for i in l:\n",
    "        if i%2==0 and i!=0:\n",
    "            newlist.append(i)\n",
    "            \n",
    "    for i in l:\n",
    "        if i==0:\n",
    "            newlist.append(i)\n",
    "            \n",
    "    for i in l:\n",
    "        if i%2!=0:\n",
    "            newlist.append(i)\n",
    "    return newlist\n",
    "\n",
    "print(formatlist([3,4,5,6,87,0,4,5,6,9]))"
   ]
  },
  {
   "cell_type": "markdown",
   "id": "88a5356c",
   "metadata": {},
   "source": [
    "Hãy đưa các số chia hết cho 3 về đầu mảng"
   ]
  },
  {
   "cell_type": "code",
   "execution_count": 44,
   "id": "2015e143",
   "metadata": {},
   "outputs": [
    {
     "name": "stdout",
     "output_type": "stream",
     "text": [
      "[3, 6, 87, 6, 9, 5, 4, 0, 5, 4]\n"
     ]
    }
   ],
   "source": [
    "def formatlistchiahetcho3(l):\n",
    "    newlist = []\n",
    "    for i in range(len(l)-1,-1,-1):\n",
    "        if l[i]%3!=0 or l[i] ==0:\n",
    "            newlist.append(l[i])\n",
    "        else:\n",
    "            newlist.insert(0,l[i])\n",
    "            \n",
    "    return newlist\n",
    "\n",
    "print(formatlistchiahetcho3([3,4,5,6,87,0,4,5,6,9]))"
   ]
  },
  {
   "cell_type": "markdown",
   "id": "873d2a46",
   "metadata": {},
   "source": [
    "Hãy xuất mảng theo yêu cầu: các phần tử chẵn nằm trên một hàng, các phần tử lẻ nằm ở hàng tiếp theo"
   ]
  },
  {
   "cell_type": "code",
   "execution_count": 47,
   "id": "99109b77",
   "metadata": {},
   "outputs": [
    {
     "name": "stdout",
     "output_type": "stream",
     "text": [
      "[2, 4, 6, 8]\n",
      "[1, 3, 5, 7, 9]\n"
     ]
    }
   ],
   "source": [
    "def sapxepchanle(l):\n",
    "    listsochan=[]\n",
    "    listsole=[]\n",
    "    for i in l:\n",
    "        if i%2==0:\n",
    "            listsochan.append(i)\n",
    "        else:\n",
    "            listsole.append(i)\n",
    "    return listsochan,listsole\n",
    "\n",
    "result = sapxepchanle([1,2,3,4,5,6,7,8,9])\n",
    "print(result[0])\n",
    "print(result[1])"
   ]
  },
  {
   "cell_type": "markdown",
   "id": "5e2c226d",
   "metadata": {},
   "source": [
    "Hãy biến đổi mảng bằng cách thay các giá trị lớn nhất bằng giá trị nhỏ nhất và ngược lại"
   ]
  },
  {
   "cell_type": "code",
   "execution_count": 54,
   "id": "62eefa1a",
   "metadata": {},
   "outputs": [
    {
     "name": "stdout",
     "output_type": "stream",
     "text": [
      "1\n",
      "3\n",
      "[3, 2, 1, 1]\n"
     ]
    }
   ],
   "source": [
    "def bdmang(l):\n",
    "    _min = _max = l[0]\n",
    "    for i in l:\n",
    "        if i>_max:\n",
    "            _max = i\n",
    "        if i<_min:\n",
    "            _min = i\n",
    "            \n",
    "    print(_min)\n",
    "    print(_max)\n",
    "    for i in range(len(l)):\n",
    "        if l[i] == _min:\n",
    "            l[i] = _max\n",
    "        elif l[i] == _max:\n",
    "            l[i] = _min\n",
    "    return l\n",
    "print(bdmang([1,2,3,3]))"
   ]
  },
  {
   "cell_type": "markdown",
   "id": "4c5e92fa",
   "metadata": {},
   "source": [
    "Hãy đảo ngược thứ tự các số chẵn và các số lẻ trong mảng mà vẫn giữ nguyên vị trí tương đối của chúng"
   ]
  },
  {
   "cell_type": "code",
   "execution_count": null,
   "id": "0d6ba5f3",
   "metadata": {},
   "outputs": [],
   "source": [
    "[2,5,7,14] ~~> [5,2,14,7]\n",
    "## List phải có số lượng số lẻ bằng với số lượng số chẳn"
   ]
  }
 ],
 "metadata": {
  "kernelspec": {
   "display_name": "Python 3",
   "language": "python",
   "name": "python3"
  },
  "language_info": {
   "codemirror_mode": {
    "name": "ipython",
    "version": 3
   },
   "file_extension": ".py",
   "mimetype": "text/x-python",
   "name": "python",
   "nbconvert_exporter": "python",
   "pygments_lexer": "ipython3",
   "version": "3.8.8"
  }
 },
 "nbformat": 4,
 "nbformat_minor": 5
}
